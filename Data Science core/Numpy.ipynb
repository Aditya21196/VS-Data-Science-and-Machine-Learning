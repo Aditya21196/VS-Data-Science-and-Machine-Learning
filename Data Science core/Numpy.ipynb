{
 "cells": [
  {
   "cell_type": "markdown",
   "metadata": {},
   "source": [
    "# Introduction to Numpy \n",
    "\n",
    "## Intro\n"
   ]
  },
  {
   "cell_type": "code",
   "execution_count": 1,
   "metadata": {},
   "outputs": [],
   "source": [
    "import numpy as np\n",
    "\n",
    "def getDir(module):\n",
    "    print(\", \".join(dir(module)))"
   ]
  },
  {
   "cell_type": "code",
   "execution_count": 2,
   "metadata": {},
   "outputs": [
    {
     "name": "stdout",
     "output_type": "stream",
     "text": [
      "ALLOW_THREADS, AxisError, BUFSIZE, CLIP, ComplexWarning, DataSource, ERR_CALL, ERR_DEFAULT, ERR_IGNORE, ERR_LOG, ERR_PRINT, ERR_RAISE, ERR_WARN, FLOATING_POINT_SUPPORT, FPE_DIVIDEBYZERO, FPE_INVALID, FPE_OVERFLOW, FPE_UNDERFLOW, False_, Inf, Infinity, MAXDIMS, MAY_SHARE_BOUNDS, MAY_SHARE_EXACT, MachAr, ModuleDeprecationWarning, NAN, NINF, NZERO, NaN, PINF, PZERO, PackageLoader, RAISE, RankWarning, SHIFT_DIVIDEBYZERO, SHIFT_INVALID, SHIFT_OVERFLOW, SHIFT_UNDERFLOW, ScalarType, Tester, TooHardError, True_, UFUNC_BUFSIZE_DEFAULT, UFUNC_PYVALS_NAME, VisibleDeprecationWarning, WRAP, _NoValue, __NUMPY_SETUP__, __all__, __builtins__, __cached__, __config__, __doc__, __file__, __git_revision__, __loader__, __mkl_version__, __name__, __package__, __path__, __spec__, __version__, _distributor_init, _globals, _import_tools, _mat, _mklinit, _numpy_tester, abs, absolute, absolute_import, add, add_docstring, add_newdoc, add_newdoc_ufunc, add_newdocs, alen, all, allclose, alltrue, amax, amin, angle, any, append, apply_along_axis, apply_over_axes, arange, arccos, arccosh, arcsin, arcsinh, arctan, arctan2, arctanh, argmax, argmin, argpartition, argsort, argwhere, around, array, array2string, array_equal, array_equiv, array_repr, array_split, array_str, asanyarray, asarray, asarray_chkfinite, ascontiguousarray, asfarray, asfortranarray, asmatrix, asscalar, atleast_1d, atleast_2d, atleast_3d, average, bartlett, base_repr, bench, binary_repr, bincount, bitwise_and, bitwise_not, bitwise_or, bitwise_xor, blackman, block, bmat, bool, bool8, bool_, broadcast, broadcast_arrays, broadcast_to, busday_count, busday_offset, busdaycalendar, byte, byte_bounds, bytes0, bytes_, c_, can_cast, cast, cbrt, cdouble, ceil, cfloat, char, character, chararray, choose, clip, clongdouble, clongfloat, column_stack, common_type, compare_chararrays, compat, complex, complex128, complex64, complex_, complexfloating, compress, concatenate, conj, conjugate, convolve, copy, copysign, copyto, core, corrcoef, correlate, cos, cosh, count_nonzero, cov, cross, csingle, ctypeslib, cumprod, cumproduct, cumsum, datetime64, datetime_as_string, datetime_data, deg2rad, degrees, delete, deprecate, deprecate_with_doc, diag, diag_indices, diag_indices_from, diagflat, diagonal, diff, digitize, disp, divide, division, divmod, dot, double, dsplit, dstack, dtype, e, ediff1d, einsum, einsum_path, emath, empty, empty_like, equal, erf, errstate, euler_gamma, exp, exp2, expand_dims, expm1, extendkey, extract, eye, fabs, fastCopyAndTranspose, fft, fill_diagonal, find_common_type, finfo, fix, flatiter, flatnonzero, flexible, flip, fliplr, flipud, float, float16, float32, float64, float_, float_power, floating, floor, floor_divide, fmax, fmin, fmod, format_float_positional, format_float_scientific, format_parser, frexp, frombuffer, fromfile, fromfunction, fromiter, frompyfunc, fromregex, fromstring, full, full_like, fv, generic, genfromtxt, geomspace, get_array_wrap, get_include, get_printoptions, getbufsize, geterr, geterrcall, geterrobj, gradient, greater, greater_equal, half, hamming, hanning, heaviside, histogram, histogram2d, histogramdd, hsplit, hstack, hypot, i0, identity, iinfo, imag, in1d, index_exp, indices, inexact, inf, info, infty, inner, insert, int, int0, int16, int32, int64, int8, int_, int_asbuffer, intc, integer, interp, intersect1d, intp, invert, ipmt, irr, is_busday, isclose, iscomplex, iscomplexobj, isfinite, isfortran, isin, isinf, isnan, isnat, isneginf, isposinf, isreal, isrealobj, isscalar, issctype, issubclass_, issubdtype, issubsctype, iterable, ix_, kaiser, kron, ldexp, left_shift, less, less_equal, lexsort, lib, linalg, linspace, little_endian, load, loads, loadtxt, log, log10, log1p, log2, logaddexp, logaddexp2, logical_and, logical_not, logical_or, logical_xor, logspace, long, longcomplex, longdouble, longfloat, longlong, lookfor, ma, mafromtxt, mask_indices, mat, math, matmul, matrix, matrixlib, max, maximum, maximum_sctype, may_share_memory, mean, median, memmap, meshgrid, mgrid, min, min_scalar_type, minimum, mintypecode, mirr, mod, modf, moveaxis, msort, multiply, nan, nan_to_num, nanargmax, nanargmin, nancumprod, nancumsum, nanmax, nanmean, nanmedian, nanmin, nanpercentile, nanprod, nanstd, nansum, nanvar, nbytes, ndarray, ndenumerate, ndfromtxt, ndim, ndindex, nditer, negative, nested_iters, newaxis, nextafter, nonzero, not_equal, nper, npv, numarray, number, obj2sctype, object, object0, object_, ogrid, oldnumeric, ones, ones_like, os, outer, packbits, pad, partition, percentile, pi, piecewise, pkgload, place, pmt, poly, poly1d, polyadd, polyder, polydiv, polyfit, polyint, polymul, polynomial, polysub, polyval, positive, power, ppmt, print_function, prod, product, promote_types, ptp, put, putmask, pv, r_, rad2deg, radians, random, rank, rate, ravel, ravel_multi_index, real, real_if_close, rec, recarray, recfromcsv, recfromtxt, reciprocal, record, redist, redist_dir, remainder, repeat, require, reshape, resize, result_type, right_shift, rint, roll, rollaxis, roots, rot90, round, round_, row_stack, s_, safe_eval, save, savetxt, savez, savez_compressed, sctype2char, sctypeDict, sctypeNA, sctypes, searchsorted, select, set_numeric_ops, set_printoptions, set_string_function, setbufsize, setdiff1d, seterr, seterrcall, seterrobj, setxor1d, shape, shares_memory, short, show_config, sign, signbit, signedinteger, sin, sinc, single, singlecomplex, sinh, size, sometrue, sort, sort_complex, source, spacing, split, sqrt, square, squeeze, stack, std, str, str0, str_, string_, subtract, sum, swapaxes, sys, take, tan, tanh, tensordot, test, testing, tile, timedelta64, trace, tracemalloc_domain, transpose, trapz, tri, tril, tril_indices, tril_indices_from, trim_zeros, triu, triu_indices, triu_indices_from, true_divide, trunc, typeDict, typeNA, typecodes, typename, ubyte, ufunc, uint, uint0, uint16, uint32, uint64, uint8, uintc, uintp, ulonglong, unicode, unicode_, union1d, unique, unpackbits, unravel_index, unsignedinteger, unwrap, ushort, vander, var, vdot, vectorize, version, void, void0, vsplit, vstack, warnings, where, who, zeros, zeros_like\n"
     ]
    }
   ],
   "source": [
    "getDir(np)"
   ]
  },
  {
   "cell_type": "markdown",
   "metadata": {},
   "source": [
    "## Initialization\n"
   ]
  },
  {
   "cell_type": "code",
   "execution_count": 3,
   "metadata": {},
   "outputs": [
    {
     "data": {
      "text/plain": [
       "array([1, 2, 3, 4])"
      ]
     },
     "execution_count": 3,
     "metadata": {},
     "output_type": "execute_result"
    }
   ],
   "source": [
    "# from an array\n",
    "arr = np.array([1,2,3,4])\n",
    "arr"
   ]
  },
  {
   "cell_type": "code",
   "execution_count": 4,
   "metadata": {},
   "outputs": [
    {
     "data": {
      "text/plain": [
       "array([[0., 0., 0., 0., 0.],\n",
       "       [0., 0., 0., 0., 0.],\n",
       "       [0., 0., 0., 0., 0.],\n",
       "       [0., 0., 0., 0., 0.]])"
      ]
     },
     "execution_count": 4,
     "metadata": {},
     "output_type": "execute_result"
    }
   ],
   "source": [
    "np.zeros(20).reshape(4,5)"
   ]
  },
  {
   "cell_type": "code",
   "execution_count": 5,
   "metadata": {},
   "outputs": [
    {
     "data": {
      "text/plain": [
       "array([[1., 1., 1., 1., 1.],\n",
       "       [1., 1., 1., 1., 1.],\n",
       "       [1., 1., 1., 1., 1.],\n",
       "       [1., 1., 1., 1., 1.]])"
      ]
     },
     "execution_count": 5,
     "metadata": {},
     "output_type": "execute_result"
    }
   ],
   "source": [
    "np.ones(20).reshape(4,5)"
   ]
  },
  {
   "cell_type": "code",
   "execution_count": 6,
   "metadata": {},
   "outputs": [
    {
     "data": {
      "text/plain": [
       "array([[ 0,  1,  2,  3,  4],\n",
       "       [ 5,  6,  7,  8,  9],\n",
       "       [10, 11, 12, 13, 14],\n",
       "       [15, 16, 17, 18, 19]])"
      ]
     },
     "execution_count": 6,
     "metadata": {},
     "output_type": "execute_result"
    }
   ],
   "source": [
    "np.arange(20).reshape(4,5)"
   ]
  },
  {
   "cell_type": "code",
   "execution_count": 7,
   "metadata": {},
   "outputs": [
    {
     "data": {
      "text/plain": [
       "array([[-1.2202318 , -2.02110008,  1.91861547, -2.06401664, -0.12908384],\n",
       "       [-0.46812502,  0.7700364 , -0.24518601, -0.90728285,  0.12127973],\n",
       "       [ 0.22632743, -0.25379683,  0.11779245,  0.47986639, -0.86141155],\n",
       "       [ 0.22830722, -0.40919636, -0.21415245, -0.1738128 , -1.496992  ]])"
      ]
     },
     "execution_count": 7,
     "metadata": {},
     "output_type": "execute_result"
    }
   ],
   "source": [
    "np.random.randn(20).reshape(4,5)"
   ]
  },
  {
   "cell_type": "markdown",
   "metadata": {},
   "source": [
    "## Dimensions\n"
   ]
  },
  {
   "cell_type": "code",
   "execution_count": 8,
   "metadata": {},
   "outputs": [
    {
     "data": {
      "text/plain": [
       "array([[[-0.73517662,  0.76746321,  0.56945603, -0.97179283,\n",
       "         -0.20789741],\n",
       "        [ 0.09780711,  0.61033636, -1.64822527, -1.41929007,\n",
       "          0.2659226 ],\n",
       "        [-1.44234747, -0.61327993, -1.30996604,  0.45169889,\n",
       "         -0.40499353],\n",
       "        [ 0.75220265, -1.9710048 , -0.22395933, -0.94216945,\n",
       "         -0.43806704],\n",
       "        [ 0.89328412,  1.85595809, -1.01262965,  0.17255281,\n",
       "         -0.0861993 ],\n",
       "        [ 2.92281179, -1.16172829,  0.01917341, -0.8776952 ,\n",
       "          0.74112912],\n",
       "        [-0.0575754 , -0.64680914,  0.09174234,  1.41321019,\n",
       "         -0.49819393],\n",
       "        [-0.00830231, -1.02048376, -0.14047228,  0.6827966 ,\n",
       "         -1.13218768],\n",
       "        [-0.56905938, -0.91109151,  0.3240663 ,  1.58145601,\n",
       "         -0.0648197 ],\n",
       "        [ 1.27897383, -0.55957065, -0.81395518,  1.73873724,\n",
       "         -0.82470823]],\n",
       "\n",
       "       [[-0.98655053, -0.9813287 ,  0.61893184,  0.16067876,\n",
       "          1.04867792],\n",
       "        [ 2.17567522, -0.75154638,  1.24102932,  1.17699733,\n",
       "         -0.93627559],\n",
       "        [-0.43964522,  0.33002888, -0.42181662,  0.3016528 ,\n",
       "         -0.40830662],\n",
       "        [-1.22487783,  0.85852769,  0.46593406, -0.43026546,\n",
       "          0.97453543],\n",
       "        [-1.0660517 ,  0.17984897, -1.19838931, -0.84132445,\n",
       "          0.49628627],\n",
       "        [ 0.24922654, -0.16125011,  0.92852069, -0.66837255,\n",
       "         -0.37567808],\n",
       "        [ 1.01137182,  0.22701195,  0.69850769,  1.9784663 ,\n",
       "         -1.93215047],\n",
       "        [ 0.47335665,  0.44018221,  0.19174792, -1.93408245,\n",
       "         -2.7653038 ],\n",
       "        [ 0.58466447,  0.14308285,  1.95962334,  1.09931795,\n",
       "          2.25340601],\n",
       "        [-0.15437025, -0.88264675,  0.0146368 ,  0.95828458,\n",
       "         -1.1434964 ]]])"
      ]
     },
     "execution_count": 8,
     "metadata": {},
     "output_type": "execute_result"
    }
   ],
   "source": [
    "arr = np.random.randn(100).reshape(2,10,5)\n",
    "arr"
   ]
  },
  {
   "cell_type": "code",
   "execution_count": 9,
   "metadata": {},
   "outputs": [
    {
     "data": {
      "text/plain": [
       "(2, 10, 5)"
      ]
     },
     "execution_count": 9,
     "metadata": {},
     "output_type": "execute_result"
    }
   ],
   "source": [
    "arr.shape"
   ]
  },
  {
   "cell_type": "markdown",
   "metadata": {},
   "source": [
    "## Indexing\n"
   ]
  },
  {
   "cell_type": "markdown",
   "metadata": {},
   "source": [
    "### [dimension 1 specifications,dimension 2 specifications.......] "
   ]
  },
  {
   "cell_type": "code",
   "execution_count": 10,
   "metadata": {},
   "outputs": [
    {
     "data": {
      "text/plain": [
       "array([[[4., 4., 4., 4., 4.],\n",
       "        [4., 4., 4., 4., 4.],\n",
       "        [4., 4., 4., 4., 4.],\n",
       "        [4., 4., 4., 4., 4.],\n",
       "        [4., 4., 4., 4., 4.],\n",
       "        [4., 4., 4., 4., 4.],\n",
       "        [4., 4., 4., 4., 4.],\n",
       "        [4., 4., 4., 4., 4.],\n",
       "        [4., 4., 4., 4., 4.],\n",
       "        [4., 4., 4., 4., 4.]],\n",
       "\n",
       "       [[4., 4., 4., 4., 4.],\n",
       "        [4., 4., 4., 4., 4.],\n",
       "        [4., 4., 4., 4., 4.],\n",
       "        [4., 4., 4., 4., 4.],\n",
       "        [4., 4., 4., 4., 4.],\n",
       "        [4., 4., 4., 4., 4.],\n",
       "        [4., 4., 4., 4., 4.],\n",
       "        [4., 4., 4., 4., 4.],\n",
       "        [4., 4., 4., 4., 4.],\n",
       "        [4., 4., 4., 4., 4.]]])"
      ]
     },
     "execution_count": 10,
     "metadata": {},
     "output_type": "execute_result"
    }
   ],
   "source": [
    "# fills all with 4's\n",
    "arr[:,:,:] = 4\n",
    "arr"
   ]
  },
  {
   "cell_type": "code",
   "execution_count": 11,
   "metadata": {},
   "outputs": [
    {
     "data": {
      "text/plain": [
       "array([[[-1., -1., -1., -1., -1.],\n",
       "        [-1., -1., -1., -1., -1.],\n",
       "        [-1., -1., -1., -1., -1.],\n",
       "        [-1., -1., -1., -1., -1.],\n",
       "        [-1., -1., -1., -1., -1.],\n",
       "        [-1., -1., -1., -1., -1.],\n",
       "        [-1., -1., -1., -1., -1.],\n",
       "        [-1., -1., -1., -1., -1.],\n",
       "        [-1., -1., -1., -1., -1.],\n",
       "        [-1., -1., -1., -1., -1.]],\n",
       "\n",
       "       [[ 4.,  4.,  4.,  4.,  4.],\n",
       "        [ 4.,  4.,  4.,  4.,  4.],\n",
       "        [ 4.,  4.,  4.,  4.,  4.],\n",
       "        [ 4.,  4.,  4.,  4.,  4.],\n",
       "        [ 4.,  4.,  4.,  4.,  4.],\n",
       "        [ 4.,  4.,  4.,  4.,  4.],\n",
       "        [ 4.,  4.,  4.,  4.,  4.],\n",
       "        [ 4.,  4.,  4.,  4.,  4.],\n",
       "        [ 4.,  4.,  4.,  4.,  4.],\n",
       "        [ 4.,  4.,  4.,  4.,  4.]]])"
      ]
     },
     "execution_count": 11,
     "metadata": {},
     "output_type": "execute_result"
    }
   ],
   "source": [
    "# Fills the first collection of matrices with -1's\n",
    "arr[0,:,:] = -1\n",
    "arr"
   ]
  },
  {
   "cell_type": "code",
   "execution_count": 12,
   "metadata": {},
   "outputs": [
    {
     "data": {
      "text/plain": [
       "array([[[-1., -1., -1., -1., -1.],\n",
       "        [50., 50., 50., 50., 50.],\n",
       "        [-1., -1., -1., -1., -1.],\n",
       "        [-1., -1., -1., -1., -1.],\n",
       "        [-1., -1., -1., -1., -1.],\n",
       "        [-1., -1., -1., -1., -1.],\n",
       "        [-1., -1., -1., -1., -1.],\n",
       "        [-1., -1., -1., -1., -1.],\n",
       "        [-1., -1., -1., -1., -1.],\n",
       "        [-1., -1., -1., -1., -1.]],\n",
       "\n",
       "       [[ 4.,  4.,  4.,  4.,  4.],\n",
       "        [ 4.,  4.,  4.,  4.,  4.],\n",
       "        [ 4.,  4.,  4.,  4.,  4.],\n",
       "        [ 4.,  4.,  4.,  4.,  4.],\n",
       "        [ 4.,  4.,  4.,  4.,  4.],\n",
       "        [ 4.,  4.,  4.,  4.,  4.],\n",
       "        [ 4.,  4.,  4.,  4.,  4.],\n",
       "        [ 4.,  4.,  4.,  4.,  4.],\n",
       "        [ 4.,  4.,  4.,  4.,  4.],\n",
       "        [ 4.,  4.,  4.,  4.,  4.]]])"
      ]
     },
     "execution_count": 12,
     "metadata": {},
     "output_type": "execute_result"
    }
   ],
   "source": [
    "# Fills the second row of first big matrix with 50's\n",
    "arr[0,1,:] = 50\n",
    "arr"
   ]
  },
  {
   "cell_type": "code",
   "execution_count": 13,
   "metadata": {},
   "outputs": [
    {
     "data": {
      "text/plain": [
       "array([[[  -1.,   -1.,   -1.,   -1.,   -1.],\n",
       "        [  50.,   50.,   50.,   50.,   50.],\n",
       "        [  -1.,   -1.,   -1.,   -1.,   -1.],\n",
       "        [  -1.,   -1.,   -1.,   -1.,   -1.],\n",
       "        [  -1.,   -1.,   -1.,   -1.,   -1.],\n",
       "        [  -1.,   -1.,   -1.,   -1.,   -1.],\n",
       "        [  -1.,   -1.,   -1.,   -1.,   -1.],\n",
       "        [  -1.,   -1.,   -1.,   -1.,   -1.],\n",
       "        [  -1.,   -1.,   -1.,   -1.,   -1.],\n",
       "        [  -1.,   -1.,   -1.,   -1.,   -1.]],\n",
       "\n",
       "       [[   4.,    4.,    4.,    4.,    4.],\n",
       "        [   4.,    4.,    4.,    4.,    4.],\n",
       "        [   4.,    4.,    4.,    4.,    4.],\n",
       "        [   4.,    4.,    4.,    4.,    4.],\n",
       "        [   4.,    4.,    4.,    4.,    4.],\n",
       "        [   4.,    4.,    4.,    4.,    4.],\n",
       "        [   4.,    4.,    4.,    4.,    4.],\n",
       "        [   4.,    4., 1000., 1000., 1000.],\n",
       "        [   4.,    4., 1000., 1000., 1000.],\n",
       "        [   4.,    4., 1000., 1000., 1000.]]])"
      ]
     },
     "execution_count": 13,
     "metadata": {},
     "output_type": "execute_result"
    }
   ],
   "source": [
    "# Fills the 2nd 2-d matrix's section of 8th to last index(row-wise) and 3rd to last index(column-wise)\n",
    "arr[1,7:,2:] = 1000\n",
    "arr"
   ]
  },
  {
   "cell_type": "code",
   "execution_count": 14,
   "metadata": {},
   "outputs": [
    {
     "data": {
      "text/plain": [
       "array([[[  -1.,   -1.,   -1.,   -1.,   -1.],\n",
       "        [  50.,   50.,   50.,   50.,   50.],\n",
       "        [  -1.,   -1.,   -1.,   -1.,   -1.],\n",
       "        [  -1.,   -1.,   -1.,   -1.,   -1.],\n",
       "        [  -1.,   -1.,   -1.,   -1.,   -1.],\n",
       "        [  -1.,   -1.,   -1.,   -1.,   -1.],\n",
       "        [  -1.,   -1.,   -1.,   -1.,   -1.],\n",
       "        [  -1.,   -1.,   -1.,   -1.,   -1.],\n",
       "        [  -1.,   -1.,   -1.,   -1.,   -1.],\n",
       "        [  -1.,   -1.,   -1.,   -1.,   -1.]],\n",
       "\n",
       "       [[   4.,    4.,    4.,    4.,    4.],\n",
       "        [   4.,    4.,    4.,    4.,    4.],\n",
       "        [   4.,    4.,    4.,    4.,    4.],\n",
       "        [   4.,    4.,   60.,    4.,    4.],\n",
       "        [   4.,    4.,    4.,    4.,    4.],\n",
       "        [   4.,    4.,    4.,    4.,    4.],\n",
       "        [   4.,    4.,    4.,    4.,    4.],\n",
       "        [   4.,    4., 1000., 1000., 1000.],\n",
       "        [   4.,    4., 1000., 1000., 1000.],\n",
       "        [   4.,    4., 1000., 1000., 1000.]]])"
      ]
     },
     "execution_count": 14,
     "metadata": {},
     "output_type": "execute_result"
    }
   ],
   "source": [
    "arr[1,3,2] = 60\n",
    "arr"
   ]
  },
  {
   "cell_type": "code",
   "execution_count": 14,
   "metadata": {},
   "outputs": [
    {
     "data": {
      "text/plain": [
       "array([[ 0,  1,  2,  3,  4,  5,  6,  7,  8,  9],\n",
       "       [10, 11, 12, 13, 14, 15, 16, 17, 18, 19],\n",
       "       [20, 21, 22, 23, 24, 25, 26, 27, 28, 29],\n",
       "       [30, 31, 32, 33, 34, 35, 36, 37, 38, 39],\n",
       "       [40, 41, 42, 43, 44, 45, 46, 47, 48, 49]])"
      ]
     },
     "execution_count": 14,
     "metadata": {},
     "output_type": "execute_result"
    }
   ],
   "source": [
    "# 2d matrix\n",
    "arr2 = np.arange(50).reshape(5,10)\n",
    "arr2"
   ]
  },
  {
   "cell_type": "code",
   "execution_count": 15,
   "metadata": {},
   "outputs": [
    {
     "data": {
      "text/plain": [
       "(5, 10)"
      ]
     },
     "execution_count": 15,
     "metadata": {},
     "output_type": "execute_result"
    }
   ],
   "source": [
    "arr2.shape"
   ]
  },
  {
   "cell_type": "code",
   "execution_count": 16,
   "metadata": {},
   "outputs": [
    {
     "data": {
      "text/plain": [
       "array([100, 105, 110, 115, 120, 125, 130, 135, 140, 145])"
      ]
     },
     "execution_count": 16,
     "metadata": {},
     "output_type": "execute_result"
    }
   ],
   "source": [
    "# taking sum along rows: there will be a sum value for each column so 10 values\n",
    "# think of it as squeezing the dataframe along the first dimension, only the second dimension now remains\n",
    "arr2.sum(axis = 0)"
   ]
  },
  {
   "cell_type": "code",
   "execution_count": 17,
   "metadata": {},
   "outputs": [
    {
     "name": "stdout",
     "output_type": "stream",
     "text": [
      "your array: [ 45 145 245 345 445]\n",
      "shape of your array: (5,)\n"
     ]
    }
   ],
   "source": [
    "# taking sum along columns: there will be a value of sum for each row\n",
    "# similarly, you can think of this as squeezing along the second dimension, only the first dimension remains\n",
    "print(\"your array:\",arr2.sum(axis = 1))\n",
    "print(\"shape of your array:\",arr2.sum(axis = 1).shape)"
   ]
  },
  {
   "cell_type": "code",
   "execution_count": 18,
   "metadata": {},
   "outputs": [
    {
     "data": {
      "text/plain": [
       "array([20., 21., 22., 23., 24., 25., 26., 27., 28., 29.])"
      ]
     },
     "execution_count": 18,
     "metadata": {},
     "output_type": "execute_result"
    }
   ],
   "source": [
    "# instead of sum, you can also calculate mean along an axis\n",
    "arr2.mean(axis = 0)"
   ]
  },
  {
   "cell_type": "code",
   "execution_count": 19,
   "metadata": {},
   "outputs": [
    {
     "data": {
      "text/plain": [
       "14.430869689661812"
      ]
     },
     "execution_count": 19,
     "metadata": {},
     "output_type": "execute_result"
    }
   ],
   "source": [
    "# standard deviation\n",
    "arr2.std()"
   ]
  },
  {
   "cell_type": "markdown",
   "metadata": {},
   "source": [
    "# nan values"
   ]
  },
  {
   "cell_type": "code",
   "execution_count": 21,
   "metadata": {},
   "outputs": [
    {
     "data": {
      "text/plain": [
       "nan"
      ]
     },
     "execution_count": 21,
     "metadata": {},
     "output_type": "execute_result"
    }
   ],
   "source": [
    "# nan stands for not a number.. in numpy operations alone you won't come along this term all that much\n",
    "# In numpy nan is:\n",
    "np.nan"
   ]
  },
  {
   "cell_type": "code",
   "execution_count": 22,
   "metadata": {},
   "outputs": [
    {
     "data": {
      "text/plain": [
       "True"
      ]
     },
     "execution_count": 22,
     "metadata": {},
     "output_type": "execute_result"
    }
   ],
   "source": [
    "# To check whether if a value is null or not\n",
    "val = np.nan\n",
    "np.isnan(val)"
   ]
  },
  {
   "cell_type": "markdown",
   "metadata": {},
   "source": [
    "## Matrix operations\n"
   ]
  },
  {
   "cell_type": "code",
   "execution_count": 23,
   "metadata": {},
   "outputs": [],
   "source": [
    "# dimensions 2 X 5\n",
    "m1 = np.array([[1,2,3,4,5],[5,4,3,2,1]])\n",
    "\n",
    "# dimensions 2 X 2\n",
    "m2 = np.array([[2,3],[-3,-2]])"
   ]
  },
  {
   "cell_type": "code",
   "execution_count": 24,
   "metadata": {},
   "outputs": [
    {
     "data": {
      "text/plain": [
       "array([[ 17,  16,  15,  14,  13],\n",
       "       [-13, -14, -15, -16, -17]])"
      ]
     },
     "execution_count": 24,
     "metadata": {},
     "output_type": "execute_result"
    }
   ],
   "source": [
    "m2.dot(m1)"
   ]
  },
  {
   "cell_type": "code",
   "execution_count": 25,
   "metadata": {},
   "outputs": [
    {
     "data": {
      "text/plain": [
       "array([[4, 6],\n",
       "       [6, 4]])"
      ]
     },
     "execution_count": 25,
     "metadata": {},
     "output_type": "execute_result"
    }
   ],
   "source": [
    "m3 = [[2,2],[-2,-2]]\n",
    "\n",
    "m4 = m3 * m2\n",
    "m4"
   ]
  },
  {
   "cell_type": "code",
   "execution_count": 26,
   "metadata": {},
   "outputs": [
    {
     "data": {
      "text/plain": [
       "array([[5, 7],\n",
       "       [7, 5]])"
      ]
     },
     "execution_count": 26,
     "metadata": {},
     "output_type": "execute_result"
    }
   ],
   "source": [
    "# scalar addition - value being added gets added to every term\n",
    "m4 + 1"
   ]
  },
  {
   "cell_type": "code",
   "execution_count": 27,
   "metadata": {},
   "outputs": [
    {
     "data": {
      "text/plain": [
       "array([[ 8, 12],\n",
       "       [12,  8]])"
      ]
     },
     "execution_count": 27,
     "metadata": {},
     "output_type": "execute_result"
    }
   ],
   "source": [
    "# scalar multiplication and division can also be done\n",
    "m4 * 2"
   ]
  },
  {
   "cell_type": "markdown",
   "metadata": {},
   "source": [
    "## broadcasting\n",
    "### You can add a 2-D matrix to a row vector (1-D matrix). But for that, the number of columns should be same as size of the row vector"
   ]
  },
  {
   "cell_type": "code",
   "execution_count": 28,
   "metadata": {},
   "outputs": [
    {
     "data": {
      "text/plain": [
       "array([[ 0,  1,  2,  3],\n",
       "       [ 4,  5,  6,  7],\n",
       "       [ 8,  9, 10, 11],\n",
       "       [12, 13, 14, 15],\n",
       "       [16, 17, 18, 19]])"
      ]
     },
     "execution_count": 28,
     "metadata": {},
     "output_type": "execute_result"
    }
   ],
   "source": [
    "# size of row vector is 4\n",
    "arr1 = np.array([1,2,3,4])\n",
    "\n",
    "# Number of columns is 4: same as the size of row vector\n",
    "arr2 = np.arange(20).reshape(5,4)\n",
    "arr2"
   ]
  },
  {
   "cell_type": "code",
   "execution_count": 30,
   "metadata": {},
   "outputs": [
    {
     "data": {
      "text/plain": [
       "array([[ 1,  3,  5,  7],\n",
       "       [ 5,  7,  9, 11],\n",
       "       [ 9, 11, 13, 15],\n",
       "       [13, 15, 17, 19],\n",
       "       [17, 19, 21, 23]])"
      ]
     },
     "execution_count": 30,
     "metadata": {},
     "output_type": "execute_result"
    }
   ],
   "source": [
    "# Broadcasting: for each row, element wise addition happens\n",
    "arr1 + arr2"
   ]
  }
 ],
 "metadata": {
  "kernelspec": {
   "display_name": "Python 3",
   "language": "python",
   "name": "python3"
  },
  "language_info": {
   "codemirror_mode": {
    "name": "ipython",
    "version": 3
   },
   "file_extension": ".py",
   "mimetype": "text/x-python",
   "name": "python",
   "nbconvert_exporter": "python",
   "pygments_lexer": "ipython3",
   "version": "3.6.4"
  }
 },
 "nbformat": 4,
 "nbformat_minor": 2
}
