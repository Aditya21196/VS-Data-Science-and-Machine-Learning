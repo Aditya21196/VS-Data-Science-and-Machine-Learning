{
 "cells": [
  {
   "cell_type": "markdown",
   "metadata": {},
   "source": [
    "# Introduction to Numpy \n",
    "\n",
    "## Intro\n"
   ]
  },
  {
   "cell_type": "code",
   "execution_count": 1,
   "metadata": {},
   "outputs": [],
   "source": [
    "import numpy as np\n",
    "\n",
    "def getDir(module):\n",
    "    print(\", \".join(dir(module)))"
   ]
  },
  {
   "cell_type": "code",
   "execution_count": 2,
   "metadata": {},
   "outputs": [
    {
     "name": "stdout",
     "output_type": "stream",
     "text": [
      "ALLOW_THREADS, AxisError, BUFSIZE, CLIP, ComplexWarning, DataSource, ERR_CALL, ERR_DEFAULT, ERR_IGNORE, ERR_LOG, ERR_PRINT, ERR_RAISE, ERR_WARN, FLOATING_POINT_SUPPORT, FPE_DIVIDEBYZERO, FPE_INVALID, FPE_OVERFLOW, FPE_UNDERFLOW, False_, Inf, Infinity, MAXDIMS, MAY_SHARE_BOUNDS, MAY_SHARE_EXACT, MachAr, ModuleDeprecationWarning, NAN, NINF, NZERO, NaN, PINF, PZERO, PackageLoader, RAISE, RankWarning, SHIFT_DIVIDEBYZERO, SHIFT_INVALID, SHIFT_OVERFLOW, SHIFT_UNDERFLOW, ScalarType, Tester, TooHardError, True_, UFUNC_BUFSIZE_DEFAULT, UFUNC_PYVALS_NAME, VisibleDeprecationWarning, WRAP, _NoValue, __NUMPY_SETUP__, __all__, __builtins__, __cached__, __config__, __doc__, __file__, __git_revision__, __loader__, __mkl_version__, __name__, __package__, __path__, __spec__, __version__, _distributor_init, _globals, _import_tools, _mat, _mklinit, _numpy_tester, abs, absolute, absolute_import, add, add_docstring, add_newdoc, add_newdoc_ufunc, add_newdocs, alen, all, allclose, alltrue, amax, amin, angle, any, append, apply_along_axis, apply_over_axes, arange, arccos, arccosh, arcsin, arcsinh, arctan, arctan2, arctanh, argmax, argmin, argpartition, argsort, argwhere, around, array, array2string, array_equal, array_equiv, array_repr, array_split, array_str, asanyarray, asarray, asarray_chkfinite, ascontiguousarray, asfarray, asfortranarray, asmatrix, asscalar, atleast_1d, atleast_2d, atleast_3d, average, bartlett, base_repr, bench, binary_repr, bincount, bitwise_and, bitwise_not, bitwise_or, bitwise_xor, blackman, block, bmat, bool, bool8, bool_, broadcast, broadcast_arrays, broadcast_to, busday_count, busday_offset, busdaycalendar, byte, byte_bounds, bytes0, bytes_, c_, can_cast, cast, cbrt, cdouble, ceil, cfloat, char, character, chararray, choose, clip, clongdouble, clongfloat, column_stack, common_type, compare_chararrays, compat, complex, complex128, complex64, complex_, complexfloating, compress, concatenate, conj, conjugate, convolve, copy, copysign, copyto, core, corrcoef, correlate, cos, cosh, count_nonzero, cov, cross, csingle, ctypeslib, cumprod, cumproduct, cumsum, datetime64, datetime_as_string, datetime_data, deg2rad, degrees, delete, deprecate, deprecate_with_doc, diag, diag_indices, diag_indices_from, diagflat, diagonal, diff, digitize, disp, divide, division, divmod, dot, double, dsplit, dstack, dtype, e, ediff1d, einsum, einsum_path, emath, empty, empty_like, equal, erf, errstate, euler_gamma, exp, exp2, expand_dims, expm1, extendkey, extract, eye, fabs, fastCopyAndTranspose, fft, fill_diagonal, find_common_type, finfo, fix, flatiter, flatnonzero, flexible, flip, fliplr, flipud, float, float16, float32, float64, float_, float_power, floating, floor, floor_divide, fmax, fmin, fmod, format_float_positional, format_float_scientific, format_parser, frexp, frombuffer, fromfile, fromfunction, fromiter, frompyfunc, fromregex, fromstring, full, full_like, fv, generic, genfromtxt, geomspace, get_array_wrap, get_include, get_printoptions, getbufsize, geterr, geterrcall, geterrobj, gradient, greater, greater_equal, half, hamming, hanning, heaviside, histogram, histogram2d, histogramdd, hsplit, hstack, hypot, i0, identity, iinfo, imag, in1d, index_exp, indices, inexact, inf, info, infty, inner, insert, int, int0, int16, int32, int64, int8, int_, int_asbuffer, intc, integer, interp, intersect1d, intp, invert, ipmt, irr, is_busday, isclose, iscomplex, iscomplexobj, isfinite, isfortran, isin, isinf, isnan, isnat, isneginf, isposinf, isreal, isrealobj, isscalar, issctype, issubclass_, issubdtype, issubsctype, iterable, ix_, kaiser, kron, ldexp, left_shift, less, less_equal, lexsort, lib, linalg, linspace, little_endian, load, loads, loadtxt, log, log10, log1p, log2, logaddexp, logaddexp2, logical_and, logical_not, logical_or, logical_xor, logspace, long, longcomplex, longdouble, longfloat, longlong, lookfor, ma, mafromtxt, mask_indices, mat, math, matmul, matrix, matrixlib, max, maximum, maximum_sctype, may_share_memory, mean, median, memmap, meshgrid, mgrid, min, min_scalar_type, minimum, mintypecode, mirr, mod, modf, moveaxis, msort, multiply, nan, nan_to_num, nanargmax, nanargmin, nancumprod, nancumsum, nanmax, nanmean, nanmedian, nanmin, nanpercentile, nanprod, nanstd, nansum, nanvar, nbytes, ndarray, ndenumerate, ndfromtxt, ndim, ndindex, nditer, negative, nested_iters, newaxis, nextafter, nonzero, not_equal, nper, npv, numarray, number, obj2sctype, object, object0, object_, ogrid, oldnumeric, ones, ones_like, os, outer, packbits, pad, partition, percentile, pi, piecewise, pkgload, place, pmt, poly, poly1d, polyadd, polyder, polydiv, polyfit, polyint, polymul, polynomial, polysub, polyval, positive, power, ppmt, print_function, prod, product, promote_types, ptp, put, putmask, pv, r_, rad2deg, radians, random, rank, rate, ravel, ravel_multi_index, real, real_if_close, rec, recarray, recfromcsv, recfromtxt, reciprocal, record, redist, redist_dir, remainder, repeat, require, reshape, resize, result_type, right_shift, rint, roll, rollaxis, roots, rot90, round, round_, row_stack, s_, safe_eval, save, savetxt, savez, savez_compressed, sctype2char, sctypeDict, sctypeNA, sctypes, searchsorted, select, set_numeric_ops, set_printoptions, set_string_function, setbufsize, setdiff1d, seterr, seterrcall, seterrobj, setxor1d, shape, shares_memory, short, show_config, sign, signbit, signedinteger, sin, sinc, single, singlecomplex, sinh, size, sometrue, sort, sort_complex, source, spacing, split, sqrt, square, squeeze, stack, std, str, str0, str_, string_, subtract, sum, swapaxes, sys, take, tan, tanh, tensordot, test, testing, tile, timedelta64, trace, tracemalloc_domain, transpose, trapz, tri, tril, tril_indices, tril_indices_from, trim_zeros, triu, triu_indices, triu_indices_from, true_divide, trunc, typeDict, typeNA, typecodes, typename, ubyte, ufunc, uint, uint0, uint16, uint32, uint64, uint8, uintc, uintp, ulonglong, unicode, unicode_, union1d, unique, unpackbits, unravel_index, unsignedinteger, unwrap, ushort, vander, var, vdot, vectorize, version, void, void0, vsplit, vstack, warnings, where, who, zeros, zeros_like\n"
     ]
    }
   ],
   "source": [
    "getDir(np)"
   ]
  },
  {
   "cell_type": "markdown",
   "metadata": {},
   "source": [
    "## Initialization\n"
   ]
  },
  {
   "cell_type": "code",
   "execution_count": 3,
   "metadata": {},
   "outputs": [
    {
     "data": {
      "text/plain": [
       "array([1, 2, 3, 4])"
      ]
     },
     "execution_count": 3,
     "metadata": {},
     "output_type": "execute_result"
    }
   ],
   "source": [
    "# from an array\n",
    "arr = np.array([1,2,3,4])\n",
    "arr"
   ]
  },
  {
   "cell_type": "code",
   "execution_count": 4,
   "metadata": {},
   "outputs": [
    {
     "data": {
      "text/plain": [
       "array([[0., 0., 0., 0., 0.],\n",
       "       [0., 0., 0., 0., 0.],\n",
       "       [0., 0., 0., 0., 0.],\n",
       "       [0., 0., 0., 0., 0.]])"
      ]
     },
     "execution_count": 4,
     "metadata": {},
     "output_type": "execute_result"
    }
   ],
   "source": [
    "np.zeros(20).reshape(4,5)"
   ]
  },
  {
   "cell_type": "code",
   "execution_count": 5,
   "metadata": {},
   "outputs": [
    {
     "data": {
      "text/plain": [
       "array([[1., 1., 1., 1., 1.],\n",
       "       [1., 1., 1., 1., 1.],\n",
       "       [1., 1., 1., 1., 1.],\n",
       "       [1., 1., 1., 1., 1.]])"
      ]
     },
     "execution_count": 5,
     "metadata": {},
     "output_type": "execute_result"
    }
   ],
   "source": [
    "np.ones(20).reshape(4,5)"
   ]
  },
  {
   "cell_type": "code",
   "execution_count": 6,
   "metadata": {},
   "outputs": [
    {
     "data": {
      "text/plain": [
       "array([[ 0,  1,  2,  3,  4],\n",
       "       [ 5,  6,  7,  8,  9],\n",
       "       [10, 11, 12, 13, 14],\n",
       "       [15, 16, 17, 18, 19]])"
      ]
     },
     "execution_count": 6,
     "metadata": {},
     "output_type": "execute_result"
    }
   ],
   "source": [
    "np.arange(20).reshape(4,5)"
   ]
  },
  {
   "cell_type": "code",
   "execution_count": 7,
   "metadata": {},
   "outputs": [
    {
     "data": {
      "text/plain": [
       "array([[-1.2202318 , -2.02110008,  1.91861547, -2.06401664, -0.12908384],\n",
       "       [-0.46812502,  0.7700364 , -0.24518601, -0.90728285,  0.12127973],\n",
       "       [ 0.22632743, -0.25379683,  0.11779245,  0.47986639, -0.86141155],\n",
       "       [ 0.22830722, -0.40919636, -0.21415245, -0.1738128 , -1.496992  ]])"
      ]
     },
     "execution_count": 7,
     "metadata": {},
     "output_type": "execute_result"
    }
   ],
   "source": [
    "np.random.randn(20).reshape(4,5)"
   ]
  },
  {
   "cell_type": "markdown",
   "metadata": {},
   "source": [
    "## Dimensions\n"
   ]
  },
  {
   "cell_type": "code",
   "execution_count": 8,
   "metadata": {},
   "outputs": [
    {
     "data": {
      "text/plain": [
       "array([[[ 0.69151724, -1.03098624,  1.61860136, -0.45191821,\n",
       "         -2.17490547],\n",
       "        [-0.93010928,  0.39851371,  1.32572118, -0.90775139,\n",
       "          1.089998  ],\n",
       "        [ 0.26923109,  0.2329628 ,  0.92577794,  0.80075831,\n",
       "         -0.4328588 ],\n",
       "        [ 0.84527804,  0.93485406, -1.43945486, -1.33121748,\n",
       "          0.6397519 ],\n",
       "        [-0.34369405, -0.42055977, -0.16572704,  0.29362149,\n",
       "          0.43479512],\n",
       "        [-1.61521551, -0.71809793, -0.52934119, -1.88417677,\n",
       "          0.01651485],\n",
       "        [-0.35406138,  0.32750224, -1.44474973, -0.88967779,\n",
       "          0.89326153],\n",
       "        [-0.81014793,  0.9307484 , -0.29413747,  0.44136065,\n",
       "          0.3431624 ],\n",
       "        [-0.945659  , -0.29424669,  0.05434159,  0.1400535 ,\n",
       "          0.51060209],\n",
       "        [ 0.84377228,  2.0976541 , -0.52191575,  0.67990884,\n",
       "         -0.81636594]],\n",
       "\n",
       "       [[ 1.5406339 , -0.65401964, -0.76393368, -1.97046586,\n",
       "          1.05350626],\n",
       "        [ 0.92955868,  1.93795479, -1.04463672, -1.15519151,\n",
       "         -0.42329413],\n",
       "        [ 1.55919253, -0.18544687,  1.58542934,  0.14862263,\n",
       "         -0.79223492],\n",
       "        [-0.23364586, -0.68610627,  0.94273764,  0.44026597,\n",
       "          0.16123293],\n",
       "        [-0.60461924,  0.01904671, -0.22845225,  1.2176414 ,\n",
       "         -0.3947084 ],\n",
       "        [-0.87874186,  0.69701631, -0.03840091,  0.80110462,\n",
       "         -0.86840328],\n",
       "        [ 0.02169671,  1.66639294,  2.16931941, -1.46059765,\n",
       "         -1.71451823],\n",
       "        [-0.31903897,  0.9721031 , -0.67707629, -0.20220762,\n",
       "         -0.37013804],\n",
       "        [-0.05342355, -0.22792912,  0.53190338,  1.7539383 ,\n",
       "          0.24848609],\n",
       "        [ 0.64212004, -2.29763005,  0.51684457,  1.22279956,\n",
       "          0.52859496]]])"
      ]
     },
     "execution_count": 8,
     "metadata": {},
     "output_type": "execute_result"
    }
   ],
   "source": [
    "arr = np.random.randn(100).reshape(2,10,5)\n",
    "arr"
   ]
  },
  {
   "cell_type": "code",
   "execution_count": 9,
   "metadata": {},
   "outputs": [
    {
     "data": {
      "text/plain": [
       "(2, 10, 5)"
      ]
     },
     "execution_count": 9,
     "metadata": {},
     "output_type": "execute_result"
    }
   ],
   "source": [
    "arr.shape"
   ]
  },
  {
   "cell_type": "markdown",
   "metadata": {},
   "source": [
    "## Indexing\n"
   ]
  },
  {
   "cell_type": "markdown",
   "metadata": {},
   "source": [
    "### [dimension 1 specifications,dimension 2 specifications.......] "
   ]
  },
  {
   "cell_type": "code",
   "execution_count": 10,
   "metadata": {},
   "outputs": [
    {
     "data": {
      "text/plain": [
       "array([[[4., 4., 4., 4., 4.],\n",
       "        [4., 4., 4., 4., 4.],\n",
       "        [4., 4., 4., 4., 4.],\n",
       "        [4., 4., 4., 4., 4.],\n",
       "        [4., 4., 4., 4., 4.],\n",
       "        [4., 4., 4., 4., 4.],\n",
       "        [4., 4., 4., 4., 4.],\n",
       "        [4., 4., 4., 4., 4.],\n",
       "        [4., 4., 4., 4., 4.],\n",
       "        [4., 4., 4., 4., 4.]],\n",
       "\n",
       "       [[4., 4., 4., 4., 4.],\n",
       "        [4., 4., 4., 4., 4.],\n",
       "        [4., 4., 4., 4., 4.],\n",
       "        [4., 4., 4., 4., 4.],\n",
       "        [4., 4., 4., 4., 4.],\n",
       "        [4., 4., 4., 4., 4.],\n",
       "        [4., 4., 4., 4., 4.],\n",
       "        [4., 4., 4., 4., 4.],\n",
       "        [4., 4., 4., 4., 4.],\n",
       "        [4., 4., 4., 4., 4.]]])"
      ]
     },
     "execution_count": 10,
     "metadata": {},
     "output_type": "execute_result"
    }
   ],
   "source": [
    "# fills all with 4's\n",
    "arr[:,:,:] = 4\n",
    "arr"
   ]
  },
  {
   "cell_type": "code",
   "execution_count": 11,
   "metadata": {},
   "outputs": [
    {
     "data": {
      "text/plain": [
       "array([[[-1., -1., -1., -1., -1.],\n",
       "        [-1., -1., -1., -1., -1.],\n",
       "        [-1., -1., -1., -1., -1.],\n",
       "        [-1., -1., -1., -1., -1.],\n",
       "        [-1., -1., -1., -1., -1.],\n",
       "        [-1., -1., -1., -1., -1.],\n",
       "        [-1., -1., -1., -1., -1.],\n",
       "        [-1., -1., -1., -1., -1.],\n",
       "        [-1., -1., -1., -1., -1.],\n",
       "        [-1., -1., -1., -1., -1.]],\n",
       "\n",
       "       [[ 4.,  4.,  4.,  4.,  4.],\n",
       "        [ 4.,  4.,  4.,  4.,  4.],\n",
       "        [ 4.,  4.,  4.,  4.,  4.],\n",
       "        [ 4.,  4.,  4.,  4.,  4.],\n",
       "        [ 4.,  4.,  4.,  4.,  4.],\n",
       "        [ 4.,  4.,  4.,  4.,  4.],\n",
       "        [ 4.,  4.,  4.,  4.,  4.],\n",
       "        [ 4.,  4.,  4.,  4.,  4.],\n",
       "        [ 4.,  4.,  4.,  4.,  4.],\n",
       "        [ 4.,  4.,  4.,  4.,  4.]]])"
      ]
     },
     "execution_count": 11,
     "metadata": {},
     "output_type": "execute_result"
    }
   ],
   "source": [
    "# Fills the first collection of matrices with -1's\n",
    "arr[0,:,:] = -1\n",
    "arr"
   ]
  },
  {
   "cell_type": "code",
   "execution_count": 12,
   "metadata": {},
   "outputs": [
    {
     "data": {
      "text/plain": [
       "array([[[-1., -1., -1., -1., -1.],\n",
       "        [50., 50., 50., 50., 50.],\n",
       "        [-1., -1., -1., -1., -1.],\n",
       "        [-1., -1., -1., -1., -1.],\n",
       "        [-1., -1., -1., -1., -1.],\n",
       "        [-1., -1., -1., -1., -1.],\n",
       "        [-1., -1., -1., -1., -1.],\n",
       "        [-1., -1., -1., -1., -1.],\n",
       "        [-1., -1., -1., -1., -1.],\n",
       "        [-1., -1., -1., -1., -1.]],\n",
       "\n",
       "       [[ 4.,  4.,  4.,  4.,  4.],\n",
       "        [ 4.,  4.,  4.,  4.,  4.],\n",
       "        [ 4.,  4.,  4.,  4.,  4.],\n",
       "        [ 4.,  4.,  4.,  4.,  4.],\n",
       "        [ 4.,  4.,  4.,  4.,  4.],\n",
       "        [ 4.,  4.,  4.,  4.,  4.],\n",
       "        [ 4.,  4.,  4.,  4.,  4.],\n",
       "        [ 4.,  4.,  4.,  4.,  4.],\n",
       "        [ 4.,  4.,  4.,  4.,  4.],\n",
       "        [ 4.,  4.,  4.,  4.,  4.]]])"
      ]
     },
     "execution_count": 12,
     "metadata": {},
     "output_type": "execute_result"
    }
   ],
   "source": [
    "# Fills the second row of first big matrix with 50's\n",
    "arr[0,1,:] = 50\n",
    "arr"
   ]
  },
  {
   "cell_type": "code",
   "execution_count": 13,
   "metadata": {},
   "outputs": [
    {
     "data": {
      "text/plain": [
       "array([[[  -1.,   -1.,   -1.,   -1.,   -1.],\n",
       "        [  50.,   50.,   50.,   50.,   50.],\n",
       "        [  -1.,   -1.,   -1.,   -1.,   -1.],\n",
       "        [  -1.,   -1.,   -1.,   -1.,   -1.],\n",
       "        [  -1.,   -1.,   -1.,   -1.,   -1.],\n",
       "        [  -1.,   -1.,   -1.,   -1.,   -1.],\n",
       "        [  -1.,   -1.,   -1.,   -1.,   -1.],\n",
       "        [  -1.,   -1.,   -1.,   -1.,   -1.],\n",
       "        [  -1.,   -1.,   -1.,   -1.,   -1.],\n",
       "        [  -1.,   -1.,   -1.,   -1.,   -1.]],\n",
       "\n",
       "       [[   4.,    4.,    4.,    4.,    4.],\n",
       "        [   4.,    4.,    4.,    4.,    4.],\n",
       "        [   4.,    4.,    4.,    4.,    4.],\n",
       "        [   4.,    4.,    4.,    4.,    4.],\n",
       "        [   4.,    4.,    4.,    4.,    4.],\n",
       "        [   4.,    4.,    4.,    4.,    4.],\n",
       "        [   4.,    4.,    4.,    4.,    4.],\n",
       "        [   4.,    4., 1000., 1000., 1000.],\n",
       "        [   4.,    4., 1000., 1000., 1000.],\n",
       "        [   4.,    4., 1000., 1000., 1000.]]])"
      ]
     },
     "execution_count": 13,
     "metadata": {},
     "output_type": "execute_result"
    }
   ],
   "source": [
    "# Fills the 2nd 2-d matrix's section of 8th to last index(row-wise) and 3rd to last index(column-wise)\n",
    "arr[1,7:,2:] = 1000\n",
    "arr"
   ]
  },
  {
   "cell_type": "code",
   "execution_count": 14,
   "metadata": {},
   "outputs": [
    {
     "data": {
      "text/plain": [
       "array([[ 0,  1,  2,  3,  4,  5,  6,  7,  8,  9],\n",
       "       [10, 11, 12, 13, 14, 15, 16, 17, 18, 19],\n",
       "       [20, 21, 22, 23, 24, 25, 26, 27, 28, 29],\n",
       "       [30, 31, 32, 33, 34, 35, 36, 37, 38, 39],\n",
       "       [40, 41, 42, 43, 44, 45, 46, 47, 48, 49]])"
      ]
     },
     "execution_count": 14,
     "metadata": {},
     "output_type": "execute_result"
    }
   ],
   "source": [
    "# 2d matrix\n",
    "arr2 = np.arange(50).reshape(5,10)\n",
    "arr2"
   ]
  },
  {
   "cell_type": "code",
   "execution_count": 15,
   "metadata": {},
   "outputs": [
    {
     "data": {
      "text/plain": [
       "(5, 10)"
      ]
     },
     "execution_count": 15,
     "metadata": {},
     "output_type": "execute_result"
    }
   ],
   "source": [
    "arr2.shape"
   ]
  },
  {
   "cell_type": "code",
   "execution_count": 16,
   "metadata": {},
   "outputs": [
    {
     "data": {
      "text/plain": [
       "array([100, 105, 110, 115, 120, 125, 130, 135, 140, 145])"
      ]
     },
     "execution_count": 16,
     "metadata": {},
     "output_type": "execute_result"
    }
   ],
   "source": [
    "# taking sum along rows: there will be a sum value for each column so 10 values\n",
    "# think of it as squeezing the dataframe along the first dimension, only the second dimension now remains\n",
    "arr2.sum(axis = 0)"
   ]
  },
  {
   "cell_type": "code",
   "execution_count": 17,
   "metadata": {},
   "outputs": [
    {
     "name": "stdout",
     "output_type": "stream",
     "text": [
      "your array: [ 45 145 245 345 445]\n",
      "shape of your array: (5,)\n"
     ]
    }
   ],
   "source": [
    "# taking sum along columns: there will be a value of sum for each row\n",
    "# similarly, you can think of this as squeezing along the second dimension, only the first dimension remains\n",
    "print(\"your array:\",arr2.sum(axis = 1))\n",
    "print(\"shape of your array:\",arr2.sum(axis = 1).shape)"
   ]
  },
  {
   "cell_type": "code",
   "execution_count": 18,
   "metadata": {},
   "outputs": [
    {
     "data": {
      "text/plain": [
       "array([20., 21., 22., 23., 24., 25., 26., 27., 28., 29.])"
      ]
     },
     "execution_count": 18,
     "metadata": {},
     "output_type": "execute_result"
    }
   ],
   "source": [
    "# instead of sum, you can also calculate mean along an axis\n",
    "arr2.mean(axis = 0)"
   ]
  },
  {
   "cell_type": "code",
   "execution_count": 19,
   "metadata": {},
   "outputs": [
    {
     "data": {
      "text/plain": [
       "14.430869689661812"
      ]
     },
     "execution_count": 19,
     "metadata": {},
     "output_type": "execute_result"
    }
   ],
   "source": [
    "# standard deviation\n",
    "arr2.std()"
   ]
  },
  {
   "cell_type": "markdown",
   "metadata": {},
   "source": [
    "# nan values"
   ]
  },
  {
   "cell_type": "code",
   "execution_count": 21,
   "metadata": {},
   "outputs": [
    {
     "data": {
      "text/plain": [
       "nan"
      ]
     },
     "execution_count": 21,
     "metadata": {},
     "output_type": "execute_result"
    }
   ],
   "source": [
    "# nan stands for not a number.. in numpy operations alone you won't come along this term all that much\n",
    "# In numpy nan is:\n",
    "np.nan"
   ]
  },
  {
   "cell_type": "code",
   "execution_count": 22,
   "metadata": {},
   "outputs": [
    {
     "data": {
      "text/plain": [
       "True"
      ]
     },
     "execution_count": 22,
     "metadata": {},
     "output_type": "execute_result"
    }
   ],
   "source": [
    "# To check whether if a value is null or not\n",
    "val = np.nan\n",
    "np.isnan(val)"
   ]
  },
  {
   "cell_type": "markdown",
   "metadata": {},
   "source": [
    "## Matrix operations\n"
   ]
  },
  {
   "cell_type": "code",
   "execution_count": 23,
   "metadata": {},
   "outputs": [],
   "source": [
    "# dimensions 2 X 5\n",
    "m1 = np.array([[1,2,3,4,5],[5,4,3,2,1]])\n",
    "\n",
    "# dimensions 2 X 2\n",
    "m2 = np.array([[2,3],[-3,-2]])"
   ]
  },
  {
   "cell_type": "code",
   "execution_count": 24,
   "metadata": {},
   "outputs": [
    {
     "data": {
      "text/plain": [
       "array([[ 17,  16,  15,  14,  13],\n",
       "       [-13, -14, -15, -16, -17]])"
      ]
     },
     "execution_count": 24,
     "metadata": {},
     "output_type": "execute_result"
    }
   ],
   "source": [
    "m2.dot(m1)"
   ]
  },
  {
   "cell_type": "code",
   "execution_count": 25,
   "metadata": {},
   "outputs": [
    {
     "data": {
      "text/plain": [
       "array([[4, 6],\n",
       "       [6, 4]])"
      ]
     },
     "execution_count": 25,
     "metadata": {},
     "output_type": "execute_result"
    }
   ],
   "source": [
    "m3 = [[2,2],[-2,-2]]\n",
    "\n",
    "m4 = m3 * m2\n",
    "m4"
   ]
  },
  {
   "cell_type": "code",
   "execution_count": 26,
   "metadata": {},
   "outputs": [
    {
     "data": {
      "text/plain": [
       "array([[5, 7],\n",
       "       [7, 5]])"
      ]
     },
     "execution_count": 26,
     "metadata": {},
     "output_type": "execute_result"
    }
   ],
   "source": [
    "# scalar addition - value being added gets added to every term\n",
    "m4 + 1"
   ]
  },
  {
   "cell_type": "code",
   "execution_count": 27,
   "metadata": {},
   "outputs": [
    {
     "data": {
      "text/plain": [
       "array([[ 8, 12],\n",
       "       [12,  8]])"
      ]
     },
     "execution_count": 27,
     "metadata": {},
     "output_type": "execute_result"
    }
   ],
   "source": [
    "# scalar multiplication and division can also be done\n",
    "m4 * 2"
   ]
  },
  {
   "cell_type": "markdown",
   "metadata": {},
   "source": [
    "## broadcasting\n",
    "### You can add a 2-D matrix to a row vector (1-D matrix). But for that, the number of columns should be same as size of the row vector"
   ]
  },
  {
   "cell_type": "code",
   "execution_count": 28,
   "metadata": {},
   "outputs": [
    {
     "data": {
      "text/plain": [
       "array([[ 0,  1,  2,  3],\n",
       "       [ 4,  5,  6,  7],\n",
       "       [ 8,  9, 10, 11],\n",
       "       [12, 13, 14, 15],\n",
       "       [16, 17, 18, 19]])"
      ]
     },
     "execution_count": 28,
     "metadata": {},
     "output_type": "execute_result"
    }
   ],
   "source": [
    "# size of row vector is 4\n",
    "arr1 = np.array([1,2,3,4])\n",
    "\n",
    "# Number of columns is 4: same as the size of row vector\n",
    "arr2 = np.arange(20).reshape(5,4)\n",
    "arr2"
   ]
  },
  {
   "cell_type": "code",
   "execution_count": 30,
   "metadata": {},
   "outputs": [
    {
     "data": {
      "text/plain": [
       "array([[ 1,  3,  5,  7],\n",
       "       [ 5,  7,  9, 11],\n",
       "       [ 9, 11, 13, 15],\n",
       "       [13, 15, 17, 19],\n",
       "       [17, 19, 21, 23]])"
      ]
     },
     "execution_count": 30,
     "metadata": {},
     "output_type": "execute_result"
    }
   ],
   "source": [
    "# Broadcasting: for each row, element wise addition happens\n",
    "arr1 + arr2"
   ]
  }
 ],
 "metadata": {
  "kernelspec": {
   "display_name": "Python 3",
   "language": "python",
   "name": "python3"
  },
  "language_info": {
   "codemirror_mode": {
    "name": "ipython",
    "version": 3
   },
   "file_extension": ".py",
   "mimetype": "text/x-python",
   "name": "python",
   "nbconvert_exporter": "python",
   "pygments_lexer": "ipython3",
   "version": "3.6.4"
  }
 },
 "nbformat": 4,
 "nbformat_minor": 2
}
