{
 "cells": [
  {
   "cell_type": "markdown",
   "metadata": {},
   "source": [
    "# Introduction to Python (Class 1)"
   ]
  },
  {
   "cell_type": "markdown",
   "metadata": {},
   "source": [
    "## Print Statement in Python is quite simple"
   ]
  },
  {
   "cell_type": "code",
   "execution_count": 1,
   "metadata": {},
   "outputs": [
    {
     "name": "stdout",
     "output_type": "stream",
     "text": [
      "Hello World!\n"
     ]
    }
   ],
   "source": [
    "print(\"Hello World!\")"
   ]
  },
  {
   "cell_type": "markdown",
   "metadata": {},
   "source": [
    "## If multiple arguements are passed in the print statement, they get printed separated by a space"
   ]
  },
  {
   "cell_type": "code",
   "execution_count": 2,
   "metadata": {},
   "outputs": [
    {
     "name": "stdout",
     "output_type": "stream",
     "text": [
      "arg1 arg2\n"
     ]
    }
   ],
   "source": [
    "print(\"arg1\",\"arg2\")"
   ]
  },
  {
   "cell_type": "markdown",
   "metadata": {},
   "source": [
    "## Variables literaterature\n",
    "\n",
    "### Variables in Python don't need an explicit type declariation. They get assigned the variable type by the interpreter as appropriate. Usually the \"broader\" variable type is chosen. This concept will be explained a bit later.\n",
    "\n",
    "\n",
    "### There are 3 numerical variable types in Python 3. These are \"int\", \"float\" and \"complex\"."
   ]
  },
  {
   "cell_type": "code",
   "execution_count": 3,
   "metadata": {},
   "outputs": [
    {
     "data": {
      "text/plain": [
       "int"
      ]
     },
     "execution_count": 3,
     "metadata": {},
     "output_type": "execute_result"
    }
   ],
   "source": [
    "# int\n",
    "a = 1\n",
    "type(a)"
   ]
  },
  {
   "cell_type": "code",
   "execution_count": 4,
   "metadata": {},
   "outputs": [
    {
     "data": {
      "text/plain": [
       "float"
      ]
     },
     "execution_count": 4,
     "metadata": {},
     "output_type": "execute_result"
    }
   ],
   "source": [
    "# float\n",
    "a = 1.0\n",
    "type(a)"
   ]
  },
  {
   "cell_type": "code",
   "execution_count": 5,
   "metadata": {},
   "outputs": [
    {
     "data": {
      "text/plain": [
       "complex"
      ]
     },
     "execution_count": 5,
     "metadata": {},
     "output_type": "execute_result"
    }
   ],
   "source": [
    "# complex\n",
    "a = 1 + 1j\n",
    "type(a)"
   ]
  },
  {
   "cell_type": "markdown",
   "metadata": {},
   "source": [
    "### complex is broader than float and float is broader than int"
   ]
  },
  {
   "cell_type": "code",
   "execution_count": 6,
   "metadata": {},
   "outputs": [
    {
     "data": {
      "text/plain": [
       "float"
      ]
     },
     "execution_count": 6,
     "metadata": {},
     "output_type": "execute_result"
    }
   ],
   "source": [
    "a = 1 + 1.0\n",
    "type(a)"
   ]
  },
  {
   "cell_type": "code",
   "execution_count": 7,
   "metadata": {},
   "outputs": [
    {
     "data": {
      "text/plain": [
       "complex"
      ]
     },
     "execution_count": 7,
     "metadata": {},
     "output_type": "execute_result"
    }
   ],
   "source": [
    "a = 1 + 1.0 + (1+1j)\n",
    "type(a)"
   ]
  },
  {
   "cell_type": "markdown",
   "metadata": {},
   "source": [
    "## Functions in Python\n",
    "\n",
    "### Functions in Python are quite flexible. You don't need to declare the data type of what you return. In fact, you may or may not return a variable from a function.\n",
    "\n",
    "### There are two kinds of parameters: compulsory and optional. Compulsory parameters are added before the optional ones in function declaration. The optional parameters need a default value to be assigned.\n",
    "\n",
    "### It is the responsibilty of the coder to ensure that if a parameter is passed to a function, it should be type-safe. For eg. if you perform numerical operations in the function on a parameter, you should not be passing a string to it."
   ]
  },
  {
   "cell_type": "code",
   "execution_count": 8,
   "metadata": {},
   "outputs": [],
   "source": [
    "# example of a function demonstrating how to use the return statement\n",
    "def func(p1,p2=\"ddd\"):\n",
    "    \"\"\"\n",
    "    doc string\n",
    "    \"\"\"\n",
    "    if p1 == \"specific\":\n",
    "        return\n",
    "    \n",
    "    return 1\n",
    "\n",
    "# example of function in which no return statement is used\n",
    "def func2(p1,p2=\"ddd\"):\n",
    "    \"\"\"\n",
    "    doc string\n",
    "    \"\"\"\n",
    "    print(p1)\n",
    "    "
   ]
  },
  {
   "cell_type": "code",
   "execution_count": 9,
   "metadata": {},
   "outputs": [
    {
     "name": "stdout",
     "output_type": "stream",
     "text": [
      "a: 1\n",
      "b: None\n"
     ]
    }
   ],
   "source": [
    "a = func(\"trying function for the first time\")\n",
    "print(\"a:\",a)\n",
    "\n",
    "b = func(\"specific\")\n",
    "print(\"b:\",b)"
   ]
  },
  {
   "cell_type": "markdown",
   "metadata": {},
   "source": [
    "### \"None\" is the equivalent of NULL, null, Null in other languages"
   ]
  },
  {
   "cell_type": "markdown",
   "metadata": {},
   "source": [
    "## Help in Python\n",
    "\n",
    "### dir() function can be used to check methods implemented in an object's class. These are functions you can use on this object.\n",
    "\n",
    "### help() function gives you a function's docstring. Remember that you should only pass the function name and not call the function while passing it in help() function"
   ]
  },
  {
   "cell_type": "code",
   "execution_count": 10,
   "metadata": {},
   "outputs": [
    {
     "data": {
      "text/plain": [
       "['__call__',\n",
       " '__class__',\n",
       " '__delattr__',\n",
       " '__dir__',\n",
       " '__doc__',\n",
       " '__eq__',\n",
       " '__format__',\n",
       " '__ge__',\n",
       " '__getattribute__',\n",
       " '__gt__',\n",
       " '__hash__',\n",
       " '__init__',\n",
       " '__init_subclass__',\n",
       " '__le__',\n",
       " '__lt__',\n",
       " '__module__',\n",
       " '__name__',\n",
       " '__ne__',\n",
       " '__new__',\n",
       " '__qualname__',\n",
       " '__reduce__',\n",
       " '__reduce_ex__',\n",
       " '__repr__',\n",
       " '__self__',\n",
       " '__setattr__',\n",
       " '__sizeof__',\n",
       " '__str__',\n",
       " '__subclasshook__',\n",
       " '__text_signature__']"
      ]
     },
     "execution_count": 10,
     "metadata": {},
     "output_type": "execute_result"
    }
   ],
   "source": [
    "dir(print)"
   ]
  },
  {
   "cell_type": "code",
   "execution_count": 11,
   "metadata": {},
   "outputs": [
    {
     "name": "stdout",
     "output_type": "stream",
     "text": [
      "Help on built-in function print in module builtins:\n",
      "\n",
      "print(...)\n",
      "    print(value, ..., sep=' ', end='\\n', file=sys.stdout, flush=False)\n",
      "    \n",
      "    Prints the values to a stream, or to sys.stdout by default.\n",
      "    Optional keyword arguments:\n",
      "    file:  a file-like object (stream); defaults to the current sys.stdout.\n",
      "    sep:   string inserted between values, default a space.\n",
      "    end:   string appended after the last value, default a newline.\n",
      "    flush: whether to forcibly flush the stream.\n",
      "\n"
     ]
    }
   ],
   "source": [
    "help(print)"
   ]
  },
  {
   "cell_type": "markdown",
   "metadata": {},
   "source": [
    "## Data Structures in Python\n",
    "### 1) List (Analogous to array)\n",
    "### 2) Tuple (Immutable list)\n",
    "### 3) Set (Analogous to HashSet)\n",
    "### 4) Dict (Analogous to HashMap)"
   ]
  },
  {
   "cell_type": "code",
   "execution_count": 12,
   "metadata": {},
   "outputs": [
    {
     "name": "stdout",
     "output_type": "stream",
     "text": [
      "l1's type: <class 'list'>\n",
      "l2's type: <class 'list'>\n"
     ]
    }
   ],
   "source": [
    "# list declarations\n",
    "\n",
    "l1 = list()\n",
    "l2 = []\n",
    "\n",
    "print(\"l1's type:\",type(l1))\n",
    "print(\"l2's type:\",type(l2))"
   ]
  },
  {
   "cell_type": "code",
   "execution_count": 13,
   "metadata": {},
   "outputs": [
    {
     "name": "stdout",
     "output_type": "stream",
     "text": [
      "__add__, __class__, __contains__, __delattr__, __delitem__, __dir__, __doc__, __eq__, __format__, __ge__, __getattribute__, __getitem__, __gt__, __hash__, __iadd__, __imul__, __init__, __init_subclass__, __iter__, __le__, __len__, __lt__, __mul__, __ne__, __new__, __reduce__, __reduce_ex__, __repr__, __reversed__, __rmul__, __setattr__, __setitem__, __sizeof__, __str__, __subclasshook__, append, clear, copy, count, extend, index, insert, pop, remove, reverse, sort\n"
     ]
    }
   ],
   "source": [
    "# functions available for lists\n",
    "\n",
    "print(\", \".join(dir(list)))"
   ]
  },
  {
   "cell_type": "code",
   "execution_count": 14,
   "metadata": {},
   "outputs": [
    {
     "name": "stdout",
     "output_type": "stream",
     "text": [
      "list after append: [1, 4, -3, 2, 20]\n",
      "list after remove: [1, -3, 2, 20]\n",
      "list sorted in ascending order: [-3, 1, 2, 20]\n",
      "list sorted in descending order: [20, 2, 1, -3]\n"
     ]
    }
   ],
   "source": [
    "# list examples\n",
    "\n",
    "lis = [1,4,-3,2]\n",
    "lis.append(20)\n",
    "print(\"list after append:\",lis)\n",
    "\n",
    "lis.remove(4)\n",
    "print(\"list after remove:\",lis)\n",
    "\n",
    "lis = sorted(lis)\n",
    "print(\"list sorted in ascending order:\",lis)\n",
    "\n",
    "lis = sorted(lis,reverse=True)\n",
    "print(\"list sorted in descending order:\",lis)"
   ]
  },
  {
   "cell_type": "code",
   "execution_count": 15,
   "metadata": {},
   "outputs": [
    {
     "name": "stdout",
     "output_type": "stream",
     "text": [
      "3rd element in list: 1\n",
      "last element in the list is: -3\n",
      "length of list: 4\n",
      "slice of 2nd and 3rd elements: [2, 1]\n"
     ]
    }
   ],
   "source": [
    "# list indexing is done with square brackets\n",
    "print(\"3rd element in list:\",lis[2])\n",
    "\n",
    "# indexing can also be done backwards\n",
    "print(\"last element in the list is:\",lis[-1])\n",
    "\n",
    "# len() function is used to see the length\n",
    "print(\"length of list:\",len(lis))\n",
    "\n",
    "# slicing can also be done. Square brackets are used for list slicing. lis[start:end]: end is excluded\n",
    "print(\"slice of 2nd and 3rd elements:\",lis[1:3])"
   ]
  },
  {
   "cell_type": "code",
   "execution_count": 16,
   "metadata": {},
   "outputs": [
    {
     "name": "stdout",
     "output_type": "stream",
     "text": [
      "t1's type: <class 'tuple'>\n",
      "t2's type: <class 'tuple'>\n"
     ]
    }
   ],
   "source": [
    "# tuple declarations\n",
    "\n",
    "t1 = tuple()\n",
    "t2 = ()\n",
    "\n",
    "print(\"t1's type:\",type(t1))\n",
    "print(\"t2's type:\",type(t2))"
   ]
  },
  {
   "cell_type": "code",
   "execution_count": 17,
   "metadata": {},
   "outputs": [
    {
     "name": "stdout",
     "output_type": "stream",
     "text": [
      "__add__, __class__, __contains__, __delattr__, __dir__, __doc__, __eq__, __format__, __ge__, __getattribute__, __getitem__, __getnewargs__, __gt__, __hash__, __init__, __init_subclass__, __iter__, __le__, __len__, __lt__, __mul__, __ne__, __new__, __reduce__, __reduce_ex__, __repr__, __rmul__, __setattr__, __sizeof__, __str__, __subclasshook__, count, index\n"
     ]
    }
   ],
   "source": [
    "# functions available for tuples\n",
    "\n",
    "print(\", \".join(dir(tuple)))"
   ]
  },
  {
   "cell_type": "code",
   "execution_count": 18,
   "metadata": {},
   "outputs": [
    {
     "name": "stdout",
     "output_type": "stream",
     "text": [
      "2\n"
     ]
    }
   ],
   "source": [
    "# tuple examples (remember that they are immutable)\n",
    "\n",
    "tup = (1,2,3)\n",
    "print(tup[1])"
   ]
  },
  {
   "cell_type": "code",
   "execution_count": 19,
   "metadata": {},
   "outputs": [
    {
     "name": "stdout",
     "output_type": "stream",
     "text": [
      "type of s <class 'set'>\n"
     ]
    }
   ],
   "source": [
    "# set declaration\n",
    "\n",
    "s = set()\n",
    "print(\"type of s\",type(s))"
   ]
  },
  {
   "cell_type": "code",
   "execution_count": 20,
   "metadata": {},
   "outputs": [
    {
     "name": "stdout",
     "output_type": "stream",
     "text": [
      "__and__, __class__, __contains__, __delattr__, __dir__, __doc__, __eq__, __format__, __ge__, __getattribute__, __gt__, __hash__, __iand__, __init__, __init_subclass__, __ior__, __isub__, __iter__, __ixor__, __le__, __len__, __lt__, __ne__, __new__, __or__, __rand__, __reduce__, __reduce_ex__, __repr__, __ror__, __rsub__, __rxor__, __setattr__, __sizeof__, __str__, __sub__, __subclasshook__, __xor__, add, clear, copy, difference, difference_update, discard, intersection, intersection_update, isdisjoint, issubset, issuperset, pop, remove, symmetric_difference, symmetric_difference_update, union, update\n"
     ]
    }
   ],
   "source": [
    "# functions available for tuples\n",
    "\n",
    "print(\", \".join(dir(set)))"
   ]
  },
  {
   "cell_type": "code",
   "execution_count": 21,
   "metadata": {},
   "outputs": [
    {
     "name": "stdout",
     "output_type": "stream",
     "text": [
      "set s: {1, 2, 3, 4}\n",
      "set s after add: {1, 2, 3, 4, -1}\n",
      "set s after remove: {1, 2, 4, -1}\n",
      "s contains 2\n"
     ]
    }
   ],
   "source": [
    "# sets can be created from lists\n",
    "s = set([1,2,3,4])\n",
    "print(\"set s:\",s)\n",
    "\n",
    "s.add(-1)\n",
    "print(\"set s after add:\",s)\n",
    "\n",
    "s.remove(3)\n",
    "print(\"set s after remove:\",s)\n",
    "\n",
    "# does s contain 2?\n",
    "if 2 in s:\n",
    "    print(\"s contains 2\")\n",
    "else:\n",
    "    print(\"s doesn't contain 2\")"
   ]
  },
  {
   "cell_type": "code",
   "execution_count": 22,
   "metadata": {},
   "outputs": [
    {
     "name": "stdout",
     "output_type": "stream",
     "text": [
      "d1's type: <class 'dict'>\n",
      "d2's type: <class 'dict'>\n"
     ]
    }
   ],
   "source": [
    "# dict declarations\n",
    "\n",
    "d1 = dict()\n",
    "d2 = {}\n",
    "\n",
    "print(\"d1's type:\",type(d1))\n",
    "print(\"d2's type:\",type(d2))"
   ]
  },
  {
   "cell_type": "code",
   "execution_count": 23,
   "metadata": {},
   "outputs": [
    {
     "name": "stdout",
     "output_type": "stream",
     "text": [
      "__class__, __contains__, __delattr__, __delitem__, __dir__, __doc__, __eq__, __format__, __ge__, __getattribute__, __getitem__, __gt__, __hash__, __init__, __init_subclass__, __iter__, __le__, __len__, __lt__, __ne__, __new__, __reduce__, __reduce_ex__, __repr__, __setattr__, __setitem__, __sizeof__, __str__, __subclasshook__, clear, copy, fromkeys, get, items, keys, pop, popitem, setdefault, update, values\n"
     ]
    }
   ],
   "source": [
    "# functions available for dicts\n",
    "\n",
    "print(\", \".join(dir(dict)))"
   ]
  },
  {
   "cell_type": "code",
   "execution_count": 24,
   "metadata": {},
   "outputs": [
    {
     "name": "stdout",
     "output_type": "stream",
     "text": [
      "{0: 'a', 1: 'q', 2: 'e', -1: 'b'}\n",
      "-1 is in dict\n",
      "'a' is a value in dict\n"
     ]
    }
   ],
   "source": [
    "# examples for dicts\n",
    "d = {0:'a',1:'q',2:'e',-1:'b'}\n",
    "print(d)\n",
    "\n",
    "# Is -1 a key in the dict?\n",
    "if -1 in d:\n",
    "    print(\"-1 is in dict\")\n",
    "else:\n",
    "    print(\"-1 is not in dict\")\n",
    "    \n",
    "# Is 'a' a value in dict?\n",
    "if 'a' in d.values():\n",
    "    print(\"'a' is a value in dict\")\n",
    "else:\n",
    "    print(\"'a' is not in the given dict\")"
   ]
  },
  {
   "cell_type": "markdown",
   "metadata": {},
   "source": [
    "### The Boolean type: It takes either True or False as a value with a capital initial letter\n",
    "\n",
    "### Comparisons: >, <, == are Comparisng symbols with usual meaning. Any comparison is treated like a boolean in Python"
   ]
  },
  {
   "cell_type": "code",
   "execution_count": 25,
   "metadata": {},
   "outputs": [
    {
     "data": {
      "text/plain": [
       "False"
      ]
     },
     "execution_count": 25,
     "metadata": {},
     "output_type": "execute_result"
    }
   ],
   "source": [
    "# comparison\n",
    "\n",
    "2>3"
   ]
  },
  {
   "cell_type": "markdown",
   "metadata": {},
   "source": [
    "### Compounding comparisons: 'or', 'and' and 'not' keywords can be used to combine comparisons. 'or' is True if either condition satisfies. 'and' is True if both conditions are satisfied. 'not' gives True if given condition (single) is False\n",
    "\n",
    "#### Brackets can also be used to group conditionals as necessary"
   ]
  },
  {
   "cell_type": "code",
   "execution_count": 26,
   "metadata": {},
   "outputs": [
    {
     "data": {
      "text/plain": [
       "True"
      ]
     },
     "execution_count": 26,
     "metadata": {},
     "output_type": "execute_result"
    }
   ],
   "source": [
    "# or\n",
    "\n",
    "2>3 or 4>1"
   ]
  },
  {
   "cell_type": "code",
   "execution_count": 27,
   "metadata": {},
   "outputs": [
    {
     "data": {
      "text/plain": [
       "False"
      ]
     },
     "execution_count": 27,
     "metadata": {},
     "output_type": "execute_result"
    }
   ],
   "source": [
    "# and\n",
    "\n",
    "2>3 and 4>1"
   ]
  },
  {
   "cell_type": "code",
   "execution_count": 28,
   "metadata": {},
   "outputs": [
    {
     "data": {
      "text/plain": [
       "True"
      ]
     },
     "execution_count": 28,
     "metadata": {},
     "output_type": "execute_result"
    }
   ],
   "source": [
    "# not\n",
    "\n",
    "not 2>3"
   ]
  },
  {
   "cell_type": "markdown",
   "metadata": {},
   "source": [
    "## Conditional statments: They are used to process logic, given some comparisons. if, elif and else are the keywords. elif means \"else if\"."
   ]
  },
  {
   "cell_type": "code",
   "execution_count": 29,
   "metadata": {},
   "outputs": [
    {
     "name": "stdout",
     "output_type": "stream",
     "text": [
      "if clause\n"
     ]
    }
   ],
   "source": [
    "if 1>2 or 3>1:\n",
    "    print(\"if clause\")\n",
    "elif 4>3:\n",
    "    print(\"elif clause\")\n",
    "else:\n",
    "    print(\"else clause\")"
   ]
  },
  {
   "cell_type": "markdown",
   "metadata": {},
   "source": [
    "## Loops\n",
    "\n",
    "### while loop runs until a condition is satisfied."
   ]
  },
  {
   "cell_type": "code",
   "execution_count": 30,
   "metadata": {},
   "outputs": [
    {
     "name": "stdout",
     "output_type": "stream",
     "text": [
      "0\n",
      "1\n",
      "2\n",
      "3\n",
      "4\n",
      "5\n",
      "6\n",
      "7\n",
      "8\n",
      "9\n"
     ]
    }
   ],
   "source": [
    "i = 0\n",
    "while i<10:\n",
    "    print(i)\n",
    "    i += 1"
   ]
  },
  {
   "cell_type": "markdown",
   "metadata": {},
   "source": [
    "### For loop in python"
   ]
  },
  {
   "cell_type": "code",
   "execution_count": 31,
   "metadata": {},
   "outputs": [],
   "source": [
    "lis = ['ss',1,'333',333]"
   ]
  },
  {
   "cell_type": "code",
   "execution_count": 32,
   "metadata": {},
   "outputs": [
    {
     "name": "stdout",
     "output_type": "stream",
     "text": [
      "ss\n",
      "1\n",
      "333\n",
      "333\n"
     ]
    }
   ],
   "source": [
    "for entry in lis:\n",
    "    print(entry)"
   ]
  },
  {
   "cell_type": "markdown",
   "metadata": {},
   "source": [
    "### range() function: It iterates over an interval. If one arguement is passed, iteration is done from 0 to that number excluded. If two are passed, then iteration is done from first arguement to second arguement excluded. If 3 arguements are passed, the third arguement is the step taken instead of 1"
   ]
  },
  {
   "cell_type": "code",
   "execution_count": 33,
   "metadata": {},
   "outputs": [
    {
     "name": "stdout",
     "output_type": "stream",
     "text": [
      "0\n",
      "1\n",
      "2\n",
      "3\n",
      "4\n",
      "5\n",
      "6\n",
      "7\n",
      "8\n",
      "9\n"
     ]
    }
   ],
   "source": [
    "for i in range(0,10):\n",
    "    print(i)"
   ]
  },
  {
   "cell_type": "markdown",
   "metadata": {},
   "source": [
    "### enumerate: It returns an iterator which gives both, index and entry of a list"
   ]
  },
  {
   "cell_type": "code",
   "execution_count": 34,
   "metadata": {},
   "outputs": [
    {
     "name": "stdout",
     "output_type": "stream",
     "text": [
      "0 ss\n",
      "1 1\n",
      "2 333\n",
      "3 333\n"
     ]
    }
   ],
   "source": [
    "for i,entry in enumerate(lis):\n",
    "    print(i,entry)"
   ]
  },
  {
   "cell_type": "markdown",
   "metadata": {},
   "source": [
    "### lambda keyword: used to create a function in a single line.\n",
    "\n",
    "### syntax - \"lambda param: what to return given the param\""
   ]
  },
  {
   "cell_type": "code",
   "execution_count": 35,
   "metadata": {},
   "outputs": [],
   "source": [
    "func2 = lambda x: x**2"
   ]
  },
  {
   "cell_type": "code",
   "execution_count": 36,
   "metadata": {},
   "outputs": [
    {
     "data": {
      "text/plain": [
       "4"
      ]
     },
     "execution_count": 36,
     "metadata": {},
     "output_type": "execute_result"
    }
   ],
   "source": [
    "func2(2)"
   ]
  },
  {
   "cell_type": "markdown",
   "metadata": {},
   "source": [
    "### Operations in Python\n",
    "\n",
    "#### + means addition\n",
    "#### -  means subtraction\n",
    "#### /  means division\n",
    "#### *  means multiplication\n",
    "#### **  means exponentiation\n",
    "#### //  means quotient\n",
    "#### %  means remainder"
   ]
  },
  {
   "cell_type": "code",
   "execution_count": 37,
   "metadata": {},
   "outputs": [
    {
     "name": "stdout",
     "output_type": "stream",
     "text": [
      "addition of 2 and 3 gives: 5\n",
      "subtraction of 2 from 3 gives: 2\n",
      "Division of 3 by 2 gives: 1.5\n",
      "multiplication of 2 and 3 gives: 6\n",
      "2 raised to the power 4 gives: 16\n",
      "21 on dividing by 4 gives the quotient: 5\n",
      "21 on dividing by 4 gives the remainder: 1\n"
     ]
    }
   ],
   "source": [
    "print(\"addition of 2 and 3 gives:\",2+3)\n",
    "print(\"subtraction of 2 from 3 gives:\",3-1)\n",
    "print(\"Division of 3 by 2 gives:\",3/2)\n",
    "print(\"multiplication of 2 and 3 gives:\",2*3)\n",
    "print(\"2 raised to the power 4 gives:\",2**4)\n",
    "print(\"21 on dividing by 4 gives the quotient:\",21//4)\n",
    "print(\"21 on dividing by 4 gives the remainder:\",21%4)"
   ]
  },
  {
   "cell_type": "markdown",
   "metadata": {},
   "source": [
    "## We will continue with whatever was left uncovered in the next class."
   ]
  }
 ],
 "metadata": {
  "kernelspec": {
   "display_name": "Python 3",
   "language": "python",
   "name": "python3"
  },
  "language_info": {
   "codemirror_mode": {
    "name": "ipython",
    "version": 3
   },
   "file_extension": ".py",
   "mimetype": "text/x-python",
   "name": "python",
   "nbconvert_exporter": "python",
   "pygments_lexer": "ipython3",
   "version": "3.6.4"
  }
 },
 "nbformat": 4,
 "nbformat_minor": 2
}
