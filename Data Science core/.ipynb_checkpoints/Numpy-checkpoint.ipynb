{
 "cells": [
  {
   "cell_type": "markdown",
   "metadata": {},
   "source": [
    "# Introduction to Numpy \n",
    "\n",
    "## Intro\n"
   ]
  },
  {
   "cell_type": "code",
   "execution_count": 2,
   "metadata": {},
   "outputs": [],
   "source": [
    "import numpy as np\n",
    "\n",
    "def getDir(module):\n",
    "    print(\", \".join(dir(module)))"
   ]
  },
  {
   "cell_type": "code",
   "execution_count": 3,
   "metadata": {},
   "outputs": [
    {
     "name": "stdout",
     "output_type": "stream",
     "text": [
      "ALLOW_THREADS, AxisError, BUFSIZE, CLIP, ComplexWarning, DataSource, ERR_CALL, ERR_DEFAULT, ERR_IGNORE, ERR_LOG, ERR_PRINT, ERR_RAISE, ERR_WARN, FLOATING_POINT_SUPPORT, FPE_DIVIDEBYZERO, FPE_INVALID, FPE_OVERFLOW, FPE_UNDERFLOW, False_, Inf, Infinity, MAXDIMS, MAY_SHARE_BOUNDS, MAY_SHARE_EXACT, MachAr, ModuleDeprecationWarning, NAN, NINF, NZERO, NaN, PINF, PZERO, PackageLoader, RAISE, RankWarning, SHIFT_DIVIDEBYZERO, SHIFT_INVALID, SHIFT_OVERFLOW, SHIFT_UNDERFLOW, ScalarType, Tester, TooHardError, True_, UFUNC_BUFSIZE_DEFAULT, UFUNC_PYVALS_NAME, VisibleDeprecationWarning, WRAP, _NoValue, __NUMPY_SETUP__, __all__, __builtins__, __cached__, __config__, __doc__, __file__, __git_revision__, __loader__, __mkl_version__, __name__, __package__, __path__, __spec__, __version__, _distributor_init, _globals, _import_tools, _mat, _mklinit, _numpy_tester, abs, absolute, absolute_import, add, add_docstring, add_newdoc, add_newdoc_ufunc, add_newdocs, alen, all, allclose, alltrue, amax, amin, angle, any, append, apply_along_axis, apply_over_axes, arange, arccos, arccosh, arcsin, arcsinh, arctan, arctan2, arctanh, argmax, argmin, argpartition, argsort, argwhere, around, array, array2string, array_equal, array_equiv, array_repr, array_split, array_str, asanyarray, asarray, asarray_chkfinite, ascontiguousarray, asfarray, asfortranarray, asmatrix, asscalar, atleast_1d, atleast_2d, atleast_3d, average, bartlett, base_repr, bench, binary_repr, bincount, bitwise_and, bitwise_not, bitwise_or, bitwise_xor, blackman, block, bmat, bool, bool8, bool_, broadcast, broadcast_arrays, broadcast_to, busday_count, busday_offset, busdaycalendar, byte, byte_bounds, bytes0, bytes_, c_, can_cast, cast, cbrt, cdouble, ceil, cfloat, char, character, chararray, choose, clip, clongdouble, clongfloat, column_stack, common_type, compare_chararrays, compat, complex, complex128, complex64, complex_, complexfloating, compress, concatenate, conj, conjugate, convolve, copy, copysign, copyto, core, corrcoef, correlate, cos, cosh, count_nonzero, cov, cross, csingle, ctypeslib, cumprod, cumproduct, cumsum, datetime64, datetime_as_string, datetime_data, deg2rad, degrees, delete, deprecate, deprecate_with_doc, diag, diag_indices, diag_indices_from, diagflat, diagonal, diff, digitize, disp, divide, division, divmod, dot, double, dsplit, dstack, dtype, e, ediff1d, einsum, einsum_path, emath, empty, empty_like, equal, erf, errstate, euler_gamma, exp, exp2, expand_dims, expm1, extendkey, extract, eye, fabs, fastCopyAndTranspose, fft, fill_diagonal, find_common_type, finfo, fix, flatiter, flatnonzero, flexible, flip, fliplr, flipud, float, float16, float32, float64, float_, float_power, floating, floor, floor_divide, fmax, fmin, fmod, format_float_positional, format_float_scientific, format_parser, frexp, frombuffer, fromfile, fromfunction, fromiter, frompyfunc, fromregex, fromstring, full, full_like, fv, generic, genfromtxt, geomspace, get_array_wrap, get_include, get_printoptions, getbufsize, geterr, geterrcall, geterrobj, gradient, greater, greater_equal, half, hamming, hanning, heaviside, histogram, histogram2d, histogramdd, hsplit, hstack, hypot, i0, identity, iinfo, imag, in1d, index_exp, indices, inexact, inf, info, infty, inner, insert, int, int0, int16, int32, int64, int8, int_, int_asbuffer, intc, integer, interp, intersect1d, intp, invert, ipmt, irr, is_busday, isclose, iscomplex, iscomplexobj, isfinite, isfortran, isin, isinf, isnan, isnat, isneginf, isposinf, isreal, isrealobj, isscalar, issctype, issubclass_, issubdtype, issubsctype, iterable, ix_, kaiser, kron, ldexp, left_shift, less, less_equal, lexsort, lib, linalg, linspace, little_endian, load, loads, loadtxt, log, log10, log1p, log2, logaddexp, logaddexp2, logical_and, logical_not, logical_or, logical_xor, logspace, long, longcomplex, longdouble, longfloat, longlong, lookfor, ma, mafromtxt, mask_indices, mat, math, matmul, matrix, matrixlib, max, maximum, maximum_sctype, may_share_memory, mean, median, memmap, meshgrid, mgrid, min, min_scalar_type, minimum, mintypecode, mirr, mod, modf, moveaxis, msort, multiply, nan, nan_to_num, nanargmax, nanargmin, nancumprod, nancumsum, nanmax, nanmean, nanmedian, nanmin, nanpercentile, nanprod, nanstd, nansum, nanvar, nbytes, ndarray, ndenumerate, ndfromtxt, ndim, ndindex, nditer, negative, nested_iters, newaxis, nextafter, nonzero, not_equal, nper, npv, numarray, number, obj2sctype, object, object0, object_, ogrid, oldnumeric, ones, ones_like, os, outer, packbits, pad, partition, percentile, pi, piecewise, pkgload, place, pmt, poly, poly1d, polyadd, polyder, polydiv, polyfit, polyint, polymul, polynomial, polysub, polyval, positive, power, ppmt, print_function, prod, product, promote_types, ptp, put, putmask, pv, r_, rad2deg, radians, random, rank, rate, ravel, ravel_multi_index, real, real_if_close, rec, recarray, recfromcsv, recfromtxt, reciprocal, record, redist, redist_dir, remainder, repeat, require, reshape, resize, result_type, right_shift, rint, roll, rollaxis, roots, rot90, round, round_, row_stack, s_, safe_eval, save, savetxt, savez, savez_compressed, sctype2char, sctypeDict, sctypeNA, sctypes, searchsorted, select, set_numeric_ops, set_printoptions, set_string_function, setbufsize, setdiff1d, seterr, seterrcall, seterrobj, setxor1d, shape, shares_memory, short, show_config, sign, signbit, signedinteger, sin, sinc, single, singlecomplex, sinh, size, sometrue, sort, sort_complex, source, spacing, split, sqrt, square, squeeze, stack, std, str, str0, str_, string_, subtract, sum, swapaxes, sys, take, tan, tanh, tensordot, test, testing, tile, timedelta64, trace, tracemalloc_domain, transpose, trapz, tri, tril, tril_indices, tril_indices_from, trim_zeros, triu, triu_indices, triu_indices_from, true_divide, trunc, typeDict, typeNA, typecodes, typename, ubyte, ufunc, uint, uint0, uint16, uint32, uint64, uint8, uintc, uintp, ulonglong, unicode, unicode_, union1d, unique, unpackbits, unravel_index, unsignedinteger, unwrap, ushort, vander, var, vdot, vectorize, version, void, void0, vsplit, vstack, warnings, where, who, zeros, zeros_like\n"
     ]
    }
   ],
   "source": [
    "getDir(np)"
   ]
  },
  {
   "cell_type": "markdown",
   "metadata": {},
   "source": [
    "## Initialization\n"
   ]
  },
  {
   "cell_type": "code",
   "execution_count": 7,
   "metadata": {},
   "outputs": [
    {
     "data": {
      "text/plain": [
       "array([[0., 0., 0., 0., 0.],\n",
       "       [0., 0., 0., 0., 0.],\n",
       "       [0., 0., 0., 0., 0.],\n",
       "       [0., 0., 0., 0., 0.]])"
      ]
     },
     "execution_count": 7,
     "metadata": {},
     "output_type": "execute_result"
    }
   ],
   "source": [
    "np.zeros(20).reshape(4,5)"
   ]
  },
  {
   "cell_type": "code",
   "execution_count": 10,
   "metadata": {},
   "outputs": [
    {
     "data": {
      "text/plain": [
       "array([[1., 1., 1., 1., 1.],\n",
       "       [1., 1., 1., 1., 1.],\n",
       "       [1., 1., 1., 1., 1.],\n",
       "       [1., 1., 1., 1., 1.]])"
      ]
     },
     "execution_count": 10,
     "metadata": {},
     "output_type": "execute_result"
    }
   ],
   "source": [
    "np.ones(20).reshape(4,5)"
   ]
  },
  {
   "cell_type": "code",
   "execution_count": 12,
   "metadata": {},
   "outputs": [
    {
     "data": {
      "text/plain": [
       "array([[ 0,  1,  2,  3,  4],\n",
       "       [ 5,  6,  7,  8,  9],\n",
       "       [10, 11, 12, 13, 14],\n",
       "       [15, 16, 17, 18, 19]])"
      ]
     },
     "execution_count": 12,
     "metadata": {},
     "output_type": "execute_result"
    }
   ],
   "source": [
    "np.arange(20).reshape(4,5)"
   ]
  },
  {
   "cell_type": "code",
   "execution_count": 14,
   "metadata": {},
   "outputs": [
    {
     "data": {
      "text/plain": [
       "array([[-1.37512969,  1.04179155, -0.23154914,  0.09839759,  2.34304959],\n",
       "       [-2.13785135, -0.15940426, -0.13845395,  0.57351124, -0.15519692],\n",
       "       [-1.93872611, -0.80829966, -0.7794745 , -0.00444441,  0.17919237],\n",
       "       [-0.46793434,  1.81948177, -0.21779396,  0.72036975,  0.42190061]])"
      ]
     },
     "execution_count": 14,
     "metadata": {},
     "output_type": "execute_result"
    }
   ],
   "source": [
    "np.random.randn(20).reshape(4,5)"
   ]
  },
  {
   "cell_type": "markdown",
   "metadata": {},
   "source": [
    "## Dimensions\n"
   ]
  },
  {
   "cell_type": "code",
   "execution_count": 18,
   "metadata": {},
   "outputs": [
    {
     "data": {
      "text/plain": [
       "array([[[0., 0., 0., 0., 0.],\n",
       "        [0., 0., 0., 0., 0.],\n",
       "        [0., 0., 0., 0., 0.],\n",
       "        [0., 0., 0., 0., 0.],\n",
       "        [0., 0., 0., 0., 0.],\n",
       "        [0., 0., 0., 0., 0.],\n",
       "        [0., 0., 0., 0., 0.],\n",
       "        [0., 0., 0., 0., 0.],\n",
       "        [0., 0., 0., 0., 0.],\n",
       "        [0., 0., 0., 0., 0.]],\n",
       "\n",
       "       [[0., 0., 0., 0., 0.],\n",
       "        [0., 0., 0., 0., 0.],\n",
       "        [0., 0., 0., 0., 0.],\n",
       "        [0., 0., 0., 0., 0.],\n",
       "        [0., 0., 0., 0., 0.],\n",
       "        [0., 0., 0., 0., 0.],\n",
       "        [0., 0., 0., 0., 0.],\n",
       "        [0., 0., 0., 0., 0.],\n",
       "        [0., 0., 0., 0., 0.],\n",
       "        [0., 0., 0., 0., 0.]]])"
      ]
     },
     "execution_count": 18,
     "metadata": {},
     "output_type": "execute_result"
    }
   ],
   "source": [
    "arr = np.zeros(100).reshape(2,10,5)\n",
    "arr"
   ]
  },
  {
   "cell_type": "code",
   "execution_count": 19,
   "metadata": {},
   "outputs": [
    {
     "data": {
      "text/plain": [
       "(2, 10, 5)"
      ]
     },
     "execution_count": 19,
     "metadata": {},
     "output_type": "execute_result"
    }
   ],
   "source": [
    "arr.shape"
   ]
  },
  {
   "cell_type": "markdown",
   "metadata": {},
   "source": [
    "## Indexing\n"
   ]
  },
  {
   "cell_type": "markdown",
   "metadata": {},
   "source": [
    "### [dimension 1 specifications,dimension 1 specifications.......] "
   ]
  },
  {
   "cell_type": "code",
   "execution_count": 21,
   "metadata": {},
   "outputs": [
    {
     "data": {
      "text/plain": [
       "array([[[4., 4., 4., 4., 4.],\n",
       "        [4., 4., 4., 4., 4.],\n",
       "        [4., 4., 4., 4., 4.],\n",
       "        [4., 4., 4., 4., 4.],\n",
       "        [4., 4., 4., 4., 4.],\n",
       "        [4., 4., 4., 4., 4.],\n",
       "        [4., 4., 4., 4., 4.],\n",
       "        [4., 4., 4., 4., 4.],\n",
       "        [4., 4., 4., 4., 4.],\n",
       "        [4., 4., 4., 4., 4.]],\n",
       "\n",
       "       [[4., 4., 4., 4., 4.],\n",
       "        [4., 4., 4., 4., 4.],\n",
       "        [4., 4., 4., 4., 4.],\n",
       "        [4., 4., 4., 4., 4.],\n",
       "        [4., 4., 4., 4., 4.],\n",
       "        [4., 4., 4., 4., 4.],\n",
       "        [4., 4., 4., 4., 4.],\n",
       "        [4., 4., 4., 4., 4.],\n",
       "        [4., 4., 4., 4., 4.],\n",
       "        [4., 4., 4., 4., 4.]]])"
      ]
     },
     "execution_count": 21,
     "metadata": {},
     "output_type": "execute_result"
    }
   ],
   "source": [
    "arr[:,:,:] = 4\n",
    "arr"
   ]
  },
  {
   "cell_type": "code",
   "execution_count": 22,
   "metadata": {},
   "outputs": [
    {
     "data": {
      "text/plain": [
       "array([[[-1., -1., -1., -1., -1.],\n",
       "        [-1., -1., -1., -1., -1.],\n",
       "        [-1., -1., -1., -1., -1.],\n",
       "        [-1., -1., -1., -1., -1.],\n",
       "        [-1., -1., -1., -1., -1.],\n",
       "        [-1., -1., -1., -1., -1.],\n",
       "        [-1., -1., -1., -1., -1.],\n",
       "        [-1., -1., -1., -1., -1.],\n",
       "        [-1., -1., -1., -1., -1.],\n",
       "        [-1., -1., -1., -1., -1.]],\n",
       "\n",
       "       [[ 4.,  4.,  4.,  4.,  4.],\n",
       "        [ 4.,  4.,  4.,  4.,  4.],\n",
       "        [ 4.,  4.,  4.,  4.,  4.],\n",
       "        [ 4.,  4.,  4.,  4.,  4.],\n",
       "        [ 4.,  4.,  4.,  4.,  4.],\n",
       "        [ 4.,  4.,  4.,  4.,  4.],\n",
       "        [ 4.,  4.,  4.,  4.,  4.],\n",
       "        [ 4.,  4.,  4.,  4.,  4.],\n",
       "        [ 4.,  4.,  4.,  4.,  4.],\n",
       "        [ 4.,  4.,  4.,  4.,  4.]]])"
      ]
     },
     "execution_count": 22,
     "metadata": {},
     "output_type": "execute_result"
    }
   ],
   "source": [
    "arr[0,:,:] = -1\n",
    "arr"
   ]
  },
  {
   "cell_type": "code",
   "execution_count": 24,
   "metadata": {},
   "outputs": [
    {
     "data": {
      "text/plain": [
       "array([[[-1., -1., -1., -1., -1.],\n",
       "        [50., 50., 50., 50., 50.],\n",
       "        [-1., -1., -1., -1., -1.],\n",
       "        [-1., -1., -1., -1., -1.],\n",
       "        [-1., -1., -1., -1., -1.],\n",
       "        [-1., -1., -1., -1., -1.],\n",
       "        [-1., -1., -1., -1., -1.],\n",
       "        [-1., -1., -1., -1., -1.],\n",
       "        [-1., -1., -1., -1., -1.],\n",
       "        [-1., -1., -1., -1., -1.]],\n",
       "\n",
       "       [[ 4.,  4.,  4.,  4.,  4.],\n",
       "        [ 4.,  4.,  4.,  4.,  4.],\n",
       "        [ 4.,  4.,  4.,  4.,  4.],\n",
       "        [ 4.,  4.,  4.,  4.,  4.],\n",
       "        [ 4.,  4.,  4.,  4.,  4.],\n",
       "        [ 4.,  4.,  4.,  4.,  4.],\n",
       "        [ 4.,  4.,  4.,  4.,  4.],\n",
       "        [ 4.,  4.,  4.,  4.,  4.],\n",
       "        [ 4.,  4.,  4.,  4.,  4.],\n",
       "        [ 4.,  4.,  4.,  4.,  4.]]])"
      ]
     },
     "execution_count": 24,
     "metadata": {},
     "output_type": "execute_result"
    }
   ],
   "source": [
    "arr[0,1,:] = 50\n",
    "arr"
   ]
  },
  {
   "cell_type": "code",
   "execution_count": 34,
   "metadata": {},
   "outputs": [
    {
     "data": {
      "text/plain": [
       "array([[ 0,  1,  2,  3,  4,  5,  6,  7,  8,  9],\n",
       "       [10, 11, 12, 13, 14, 15, 16, 17, 18, 19],\n",
       "       [20, 21, 22, 23, 24, 25, 26, 27, 28, 29],\n",
       "       [30, 31, 32, 33, 34, 35, 36, 37, 38, 39],\n",
       "       [40, 41, 42, 43, 44, 45, 46, 47, 48, 49]])"
      ]
     },
     "execution_count": 34,
     "metadata": {},
     "output_type": "execute_result"
    }
   ],
   "source": [
    "arr2 = np.arange(50).reshape(5,10)\n",
    "arr2"
   ]
  },
  {
   "cell_type": "code",
   "execution_count": 37,
   "metadata": {},
   "outputs": [
    {
     "data": {
      "text/plain": [
       "(5, 10)"
      ]
     },
     "execution_count": 37,
     "metadata": {},
     "output_type": "execute_result"
    }
   ],
   "source": [
    "arr2.shape"
   ]
  },
  {
   "cell_type": "code",
   "execution_count": 36,
   "metadata": {},
   "outputs": [
    {
     "data": {
      "text/plain": [
       "(10,)"
      ]
     },
     "execution_count": 36,
     "metadata": {},
     "output_type": "execute_result"
    }
   ],
   "source": [
    "arr2.sum(axis = 0).shape"
   ]
  },
  {
   "cell_type": "code",
   "execution_count": 39,
   "metadata": {},
   "outputs": [
    {
     "data": {
      "text/plain": [
       "(5,)"
      ]
     },
     "execution_count": 39,
     "metadata": {},
     "output_type": "execute_result"
    }
   ],
   "source": [
    "arr2.sum(axis = 1).shape"
   ]
  },
  {
   "cell_type": "code",
   "execution_count": 41,
   "metadata": {},
   "outputs": [
    {
     "data": {
      "text/plain": [
       "array([20., 21., 22., 23., 24., 25., 26., 27., 28., 29.])"
      ]
     },
     "execution_count": 41,
     "metadata": {},
     "output_type": "execute_result"
    }
   ],
   "source": [
    "arr2.mean(axis = 0)"
   ]
  },
  {
   "cell_type": "code",
   "execution_count": 43,
   "metadata": {},
   "outputs": [
    {
     "data": {
      "text/plain": [
       "14.430869689661812"
      ]
     },
     "execution_count": 43,
     "metadata": {},
     "output_type": "execute_result"
    }
   ],
   "source": [
    "arr2.std()"
   ]
  },
  {
   "cell_type": "markdown",
   "metadata": {},
   "source": [
    "# nan values"
   ]
  },
  {
   "cell_type": "code",
   "execution_count": null,
   "metadata": {},
   "outputs": [],
   "source": []
  },
  {
   "cell_type": "code",
   "execution_count": 27,
   "metadata": {},
   "outputs": [
    {
     "data": {
      "text/plain": [
       "array([[[  -1.,   -1.,   -1.,   -1.,   -1.],\n",
       "        [  50.,   50.,   50.,   50.,   50.],\n",
       "        [  -1.,   -1.,   -1.,   -1.,   -1.],\n",
       "        [  -1.,   -1.,   -1.,   -1.,   -1.],\n",
       "        [  -1.,   -1.,   -1.,   -1.,   -1.],\n",
       "        [  -1.,   -1.,   -1.,   -1.,   -1.],\n",
       "        [  -1.,   -1.,   -1.,   -1.,   -1.],\n",
       "        [  -1.,   -1., 1000., 1000., 1000.],\n",
       "        [  -1.,   -1., 1000., 1000., 1000.],\n",
       "        [  -1.,   -1., 1000., 1000., 1000.]],\n",
       "\n",
       "       [[   4.,    4.,    4.,    4.,    4.],\n",
       "        [   4.,    4.,    4.,    4.,    4.],\n",
       "        [   4.,    4.,    4.,    4.,    4.],\n",
       "        [   4.,    4.,    4.,    4.,    4.],\n",
       "        [   4.,    4.,    4.,    4.,    4.],\n",
       "        [   4.,    4.,    4.,    4.,    4.],\n",
       "        [   4.,    4.,    4.,    4.,    4.],\n",
       "        [   4.,    4., 1000., 1000., 1000.],\n",
       "        [   4.,    4., 1000., 1000., 1000.],\n",
       "        [   4.,    4., 1000., 1000., 1000.]]])"
      ]
     },
     "execution_count": 27,
     "metadata": {},
     "output_type": "execute_result"
    }
   ],
   "source": [
    "arr[1,7:,2:] = 1000\n",
    "arr"
   ]
  },
  {
   "cell_type": "markdown",
   "metadata": {},
   "source": [
    "## Matrix operations\n"
   ]
  },
  {
   "cell_type": "code",
   "execution_count": 28,
   "metadata": {},
   "outputs": [],
   "source": [
    "# dimensions 2 X 5\n",
    "m1 = np.array([[1,2,3,4,5],[5,4,3,2,1]])\n",
    "\n",
    "# dimensions 2 X 2\n",
    "m2 = np.array([[2,3],[-3,-2]])"
   ]
  },
  {
   "cell_type": "code",
   "execution_count": 29,
   "metadata": {},
   "outputs": [
    {
     "data": {
      "text/plain": [
       "array([[ 17,  16,  15,  14,  13],\n",
       "       [-13, -14, -15, -16, -17]])"
      ]
     },
     "execution_count": 29,
     "metadata": {},
     "output_type": "execute_result"
    }
   ],
   "source": [
    "m2.dot(m1)"
   ]
  },
  {
   "cell_type": "code",
   "execution_count": 30,
   "metadata": {},
   "outputs": [
    {
     "data": {
      "text/plain": [
       "array([[4, 6],\n",
       "       [6, 4]])"
      ]
     },
     "execution_count": 30,
     "metadata": {},
     "output_type": "execute_result"
    }
   ],
   "source": [
    "m3 = [[2,2],[-2,-2]]\n",
    "\n",
    "m3 * m2"
   ]
  },
  {
   "cell_type": "markdown",
   "metadata": {},
   "source": [
    "## broadcasting\n"
   ]
  },
  {
   "cell_type": "code",
   "execution_count": null,
   "metadata": {},
   "outputs": [],
   "source": []
  },
  {
   "cell_type": "markdown",
   "metadata": {},
   "source": [
    "## practical use"
   ]
  },
  {
   "cell_type": "code",
   "execution_count": null,
   "metadata": {},
   "outputs": [],
   "source": []
  },
  {
   "cell_type": "code",
   "execution_count": null,
   "metadata": {},
   "outputs": [],
   "source": []
  }
 ],
 "metadata": {
  "kernelspec": {
   "display_name": "Python 3",
   "language": "python",
   "name": "python3"
  },
  "language_info": {
   "codemirror_mode": {
    "name": "ipython",
    "version": 3
   },
   "file_extension": ".py",
   "mimetype": "text/x-python",
   "name": "python",
   "nbconvert_exporter": "python",
   "pygments_lexer": "ipython3",
   "version": "3.6.4"
  }
 },
 "nbformat": 4,
 "nbformat_minor": 2
}
