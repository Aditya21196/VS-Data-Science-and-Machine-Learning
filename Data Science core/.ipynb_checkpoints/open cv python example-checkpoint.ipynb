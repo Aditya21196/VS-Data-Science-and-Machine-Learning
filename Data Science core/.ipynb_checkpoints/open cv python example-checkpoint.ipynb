{
 "cells": [
  {
   "cell_type": "code",
   "execution_count": 1,
   "metadata": {},
   "outputs": [],
   "source": [
    "# open cv example to convert an image to grayscale\n",
    "import numpy as np\n",
    "import cv2"
   ]
  },
  {
   "cell_type": "code",
   "execution_count": 3,
   "metadata": {},
   "outputs": [],
   "source": [
    "import os\n",
    "# load image\n",
    "img = cv2.imread(os.path.join(os.getcwd(),'demo images','butterfly.jpeg'))"
   ]
  },
  {
   "cell_type": "code",
   "execution_count": 4,
   "metadata": {},
   "outputs": [
    {
     "name": "stdout",
     "output_type": "stream",
     "text": [
      "<class 'numpy.ndarray'>\n",
      "(177, 284, 3)\n"
     ]
    }
   ],
   "source": [
    "# let's study the image first\n",
    "print(type(img))\n",
    "print(img.shape)"
   ]
  },
  {
   "cell_type": "code",
   "execution_count": 5,
   "metadata": {},
   "outputs": [
    {
     "data": {
      "text/plain": [
       "array([[[ 20, 153, 120],\n",
       "        [ 18, 151, 118],\n",
       "        [ 14, 148, 112],\n",
       "        ...,\n",
       "        [  8, 108,  80],\n",
       "        [  6, 108,  80],\n",
       "        [  6, 109,  81]],\n",
       "\n",
       "       [[ 20, 153, 120],\n",
       "        [ 18, 151, 118],\n",
       "        [ 14, 148, 112],\n",
       "        ...,\n",
       "        [  8, 105,  78],\n",
       "        [  7, 107,  79],\n",
       "        [  5, 107,  79]],\n",
       "\n",
       "       [[ 20, 153, 120],\n",
       "        [ 17, 150, 117],\n",
       "        [ 13, 147, 111],\n",
       "        ...,\n",
       "        [  9, 102,  73],\n",
       "        [  8, 104,  74],\n",
       "        [  7, 105,  75]],\n",
       "\n",
       "       ...,\n",
       "\n",
       "       [[ 10, 130,  96],\n",
       "        [ 10, 130,  96],\n",
       "        [ 10, 130,  96],\n",
       "        ...,\n",
       "        [ 14,  11,   7],\n",
       "        [ 14,  11,   7],\n",
       "        [ 14,  11,   7]],\n",
       "\n",
       "       [[ 11, 131,  97],\n",
       "        [ 11, 131,  97],\n",
       "        [  9, 130,  96],\n",
       "        ...,\n",
       "        [ 13,  10,   6],\n",
       "        [ 13,  10,   6],\n",
       "        [ 12,   9,   5]],\n",
       "\n",
       "       [[ 19, 140, 106],\n",
       "        [  8, 129,  95],\n",
       "        [  3, 124,  90],\n",
       "        ...,\n",
       "        [  9,  10,   6],\n",
       "        [  9,  10,   6],\n",
       "        [  9,  10,   6]]], dtype=uint8)"
      ]
     },
     "execution_count": 5,
     "metadata": {},
     "output_type": "execute_result"
    }
   ],
   "source": [
    "# img is a numpy array\n",
    "img"
   ]
  },
  {
   "cell_type": "code",
   "execution_count": 6,
   "metadata": {},
   "outputs": [],
   "source": [
    "# conversion to gray scale\n",
    "\n",
    "# step one, take mean along the 3rd axis\n",
    "mean_img = img.mean(axis=2)"
   ]
  },
  {
   "cell_type": "code",
   "execution_count": 7,
   "metadata": {},
   "outputs": [
    {
     "data": {
      "text/plain": [
       "array([[97.66666667, 95.66666667, 91.33333333, ..., 65.33333333,\n",
       "        64.66666667, 65.33333333],\n",
       "       [97.66666667, 95.66666667, 91.33333333, ..., 63.66666667,\n",
       "        64.33333333, 63.66666667],\n",
       "       [97.66666667, 94.66666667, 90.33333333, ..., 61.33333333,\n",
       "        62.        , 62.33333333],\n",
       "       ...,\n",
       "       [78.66666667, 78.66666667, 78.66666667, ..., 10.66666667,\n",
       "        10.66666667, 10.66666667],\n",
       "       [79.66666667, 79.66666667, 78.33333333, ...,  9.66666667,\n",
       "         9.66666667,  8.66666667],\n",
       "       [88.33333333, 77.33333333, 72.33333333, ...,  8.33333333,\n",
       "         8.33333333,  8.33333333]])"
      ]
     },
     "execution_count": 7,
     "metadata": {},
     "output_type": "execute_result"
    }
   ],
   "source": [
    "mean_img"
   ]
  },
  {
   "cell_type": "code",
   "execution_count": 8,
   "metadata": {},
   "outputs": [
    {
     "data": {
      "text/plain": [
       "array([[97, 95, 91, ..., 65, 64, 65],\n",
       "       [97, 95, 91, ..., 63, 64, 63],\n",
       "       [97, 94, 90, ..., 61, 62, 62],\n",
       "       ...,\n",
       "       [78, 78, 78, ..., 10, 10, 10],\n",
       "       [79, 79, 78, ...,  9,  9,  8],\n",
       "       [88, 77, 72, ...,  8,  8,  8]])"
      ]
     },
     "execution_count": 8,
     "metadata": {},
     "output_type": "execute_result"
    }
   ],
   "source": [
    "# step two, convert the data to int (since cv2 only accepts integer values)\n",
    "mean_img = mean_img.astype('int32')\n",
    "mean_img"
   ]
  },
  {
   "cell_type": "code",
   "execution_count": 9,
   "metadata": {},
   "outputs": [],
   "source": [
    "# cv2's imshow only accepts images with 3 channels so let's create an image in 3 channels\n",
    "\n",
    "# step 3, copy the original image to get the same dimensions\n",
    "gr_img = img.copy()\n",
    "\n",
    "#step 4, fill all the channels with same matrix\n",
    "gr_img[:,:,0] = mean_img\n",
    "gr_img[:,:,1] = mean_img\n",
    "gr_img[:,:,2] = mean_img"
   ]
  },
  {
   "cell_type": "code",
   "execution_count": 10,
   "metadata": {},
   "outputs": [
    {
     "data": {
      "text/plain": [
       "array([[[97, 97, 97],\n",
       "        [95, 95, 95],\n",
       "        [91, 91, 91],\n",
       "        ...,\n",
       "        [65, 65, 65],\n",
       "        [64, 64, 64],\n",
       "        [65, 65, 65]],\n",
       "\n",
       "       [[97, 97, 97],\n",
       "        [95, 95, 95],\n",
       "        [91, 91, 91],\n",
       "        ...,\n",
       "        [63, 63, 63],\n",
       "        [64, 64, 64],\n",
       "        [63, 63, 63]],\n",
       "\n",
       "       [[97, 97, 97],\n",
       "        [94, 94, 94],\n",
       "        [90, 90, 90],\n",
       "        ...,\n",
       "        [61, 61, 61],\n",
       "        [62, 62, 62],\n",
       "        [62, 62, 62]],\n",
       "\n",
       "       ...,\n",
       "\n",
       "       [[78, 78, 78],\n",
       "        [78, 78, 78],\n",
       "        [78, 78, 78],\n",
       "        ...,\n",
       "        [10, 10, 10],\n",
       "        [10, 10, 10],\n",
       "        [10, 10, 10]],\n",
       "\n",
       "       [[79, 79, 79],\n",
       "        [79, 79, 79],\n",
       "        [78, 78, 78],\n",
       "        ...,\n",
       "        [ 9,  9,  9],\n",
       "        [ 9,  9,  9],\n",
       "        [ 8,  8,  8]],\n",
       "\n",
       "       [[88, 88, 88],\n",
       "        [77, 77, 77],\n",
       "        [72, 72, 72],\n",
       "        ...,\n",
       "        [ 8,  8,  8],\n",
       "        [ 8,  8,  8],\n",
       "        [ 8,  8,  8]]], dtype=uint8)"
      ]
     },
     "execution_count": 10,
     "metadata": {},
     "output_type": "execute_result"
    }
   ],
   "source": [
    "# you can see that all pixels have same b g and r values. That is the property of grayscale images\n",
    "gr_img"
   ]
  },
  {
   "cell_type": "code",
   "execution_count": 11,
   "metadata": {},
   "outputs": [
    {
     "data": {
      "text/plain": [
       "100"
      ]
     },
     "execution_count": 11,
     "metadata": {},
     "output_type": "execute_result"
    }
   ],
   "source": [
    "# view your image\n",
    "cv2.imshow('grayscale',gr_img)\n",
    "# to exit out of image\n",
    "cv2.waitKey(0)"
   ]
  }
 ],
 "metadata": {
  "kernelspec": {
   "display_name": "Python 3",
   "language": "python",
   "name": "python3"
  },
  "language_info": {
   "codemirror_mode": {
    "name": "ipython",
    "version": 3
   },
   "file_extension": ".py",
   "mimetype": "text/x-python",
   "name": "python",
   "nbconvert_exporter": "python",
   "pygments_lexer": "ipython3",
   "version": "3.6.4"
  }
 },
 "nbformat": 4,
 "nbformat_minor": 2
}
