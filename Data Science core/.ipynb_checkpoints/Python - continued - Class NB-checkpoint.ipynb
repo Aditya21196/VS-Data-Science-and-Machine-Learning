{
 "cells": [
  {
   "cell_type": "markdown",
   "metadata": {},
   "source": [
    "# Python Inbuilt modules\n",
    "\n",
    "## os, random, requests, time, datetime\n",
    "\n",
    "## Other things: generators, classes, decorators (lru_cache eg)\n"
   ]
  },
  {
   "cell_type": "code",
   "execution_count": 46,
   "metadata": {},
   "outputs": [],
   "source": [
    "def getDir(module):\n",
    "    print(\", \".join(dir(module)))"
   ]
  },
  {
   "cell_type": "code",
   "execution_count": 10,
   "metadata": {},
   "outputs": [
    {
     "name": "stdout",
     "output_type": "stream",
     "text": [
      "DirEntry, F_OK, MutableMapping, O_APPEND, O_BINARY, O_CREAT, O_EXCL, O_NOINHERIT, O_RANDOM, O_RDONLY, O_RDWR, O_SEQUENTIAL, O_SHORT_LIVED, O_TEMPORARY, O_TEXT, O_TRUNC, O_WRONLY, P_DETACH, P_NOWAIT, P_NOWAITO, P_OVERLAY, P_WAIT, PathLike, R_OK, SEEK_CUR, SEEK_END, SEEK_SET, TMP_MAX, W_OK, X_OK, _Environ, __all__, __builtins__, __cached__, __doc__, __file__, __loader__, __name__, __package__, __spec__, _execvpe, _exists, _exit, _fspath, _get_exports_list, _putenv, _unsetenv, _wrap_close, abc, abort, access, altsep, chdir, chmod, close, closerange, cpu_count, curdir, defpath, device_encoding, devnull, dup, dup2, environ, errno, error, execl, execle, execlp, execlpe, execv, execve, execvp, execvpe, extsep, fdopen, fsdecode, fsencode, fspath, fstat, fsync, ftruncate, get_exec_path, get_handle_inheritable, get_inheritable, get_terminal_size, getcwd, getcwdb, getenv, getlogin, getpid, getppid, isatty, kill, linesep, link, listdir, lseek, lstat, makedirs, mkdir, name, open, pardir, path, pathsep, pipe, popen, putenv, read, readlink, remove, removedirs, rename, renames, replace, rmdir, scandir, sep, set_handle_inheritable, set_inheritable, spawnl, spawnle, spawnv, spawnve, st, startfile, stat, stat_float_times, stat_result, statvfs_result, strerror, supports_bytes_environ, supports_dir_fd, supports_effective_ids, supports_fd, supports_follow_symlinks, symlink, sys, system, terminal_size, times, times_result, truncate, umask, uname_result, unlink, urandom, utime, waitpid, walk, write\n"
     ]
    }
   ],
   "source": [
    "import os\n",
    "getDir(os)"
   ]
  },
  {
   "cell_type": "markdown",
   "metadata": {},
   "source": [
    "### os module is used to handle operating system navigation and tasks. During file handling, if the full directory is not specified then Python loads files from the default directory which is the same directory in which our python file lives. We can change the default directory and check up directories using os module."
   ]
  },
  {
   "cell_type": "code",
   "execution_count": 11,
   "metadata": {},
   "outputs": [],
   "source": [
    "# examples of common use cases\n",
    "\n",
    "cur_dir = os.getcwd()"
   ]
  },
  {
   "cell_type": "code",
   "execution_count": 12,
   "metadata": {},
   "outputs": [
    {
     "data": {
      "text/plain": [
       "'C:\\\\Users\\\\adity\\\\Desktop\\\\VS-Data Science-and-Machine-Learning\\\\Data Science core'"
      ]
     },
     "execution_count": 12,
     "metadata": {},
     "output_type": "execute_result"
    }
   ],
   "source": [
    "cur_dir"
   ]
  },
  {
   "cell_type": "code",
   "execution_count": 16,
   "metadata": {},
   "outputs": [
    {
     "data": {
      "text/plain": [
       "['.ipynb_checkpoints',\n",
       " 'Introduction To Python.ipynb',\n",
       " 'Numpy.ipynb',\n",
       " 'Python - continued.ipynb']"
      ]
     },
     "execution_count": 16,
     "metadata": {},
     "output_type": "execute_result"
    }
   ],
   "source": [
    "# checking contents of current directory\n",
    "os.listdir()"
   ]
  },
  {
   "cell_type": "code",
   "execution_count": 18,
   "metadata": {},
   "outputs": [
    {
     "data": {
      "text/plain": [
       "['.ipynb_checkpoints',\n",
       " 'Introduction To Python.ipynb',\n",
       " 'new directory',\n",
       " 'Numpy.ipynb',\n",
       " 'Python - continued.ipynb']"
      ]
     },
     "execution_count": 18,
     "metadata": {},
     "output_type": "execute_result"
    }
   ],
   "source": [
    "os.makedirs('new directory',exist_ok=True)\n",
    "os.listdir()"
   ]
  },
  {
   "cell_type": "code",
   "execution_count": 19,
   "metadata": {},
   "outputs": [
    {
     "data": {
      "text/plain": [
       "['.ipynb_checkpoints',\n",
       " 'Introduction To Python.ipynb',\n",
       " 'Numpy.ipynb',\n",
       " 'Python - continued.ipynb']"
      ]
     },
     "execution_count": 19,
     "metadata": {},
     "output_type": "execute_result"
    }
   ],
   "source": [
    "os.rmdir('new directory')\n",
    "os.listdir()"
   ]
  },
  {
   "cell_type": "code",
   "execution_count": 22,
   "metadata": {},
   "outputs": [],
   "source": [
    "# changing directories\n",
    "\n",
    "os.chdir(r'C:\\Users\\adity\\Desktop\\projects')"
   ]
  },
  {
   "cell_type": "code",
   "execution_count": 23,
   "metadata": {},
   "outputs": [
    {
     "data": {
      "text/plain": [
       "'C:\\\\Users\\\\adity\\\\Desktop\\\\projects'"
      ]
     },
     "execution_count": 23,
     "metadata": {},
     "output_type": "execute_result"
    }
   ],
   "source": [
    "os.getcwd()"
   ]
  },
  {
   "cell_type": "code",
   "execution_count": 24,
   "metadata": {},
   "outputs": [
    {
     "data": {
      "text/plain": [
       "['#scope chrome extensions',\n",
       " '#scope color predictor with word interactor - Copy',\n",
       " '#scope data science',\n",
       " '#scope flask',\n",
       " '#scope neural networks again',\n",
       " '#scope tf idf',\n",
       " 'AWS',\n",
       " 'BFS',\n",
       " 'blockchain',\n",
       " 'bot problem',\n",
       " 'BSTs',\n",
       " 'color project',\n",
       " 'color project shiffman',\n",
       " 'competetive',\n",
       " 'CSS grids',\n",
       " 'dashboard - multiple entities',\n",
       " 'dashboard flask',\n",
       " 'dashboard flask - js version',\n",
       " 'dashboard flask-js (Multiple graphs)',\n",
       " 'data science problems.docx',\n",
       " 'DFS',\n",
       " 'DFS Imp',\n",
       " 'Evolutionary Steering Behaviors',\n",
       " 'flappy bird',\n",
       " 'flask dashborad git',\n",
       " 'grinberg flask',\n",
       " 'js simulation old',\n",
       " 'line-example',\n",
       " 'madlibs',\n",
       " 'materialize CSS',\n",
       " 'minesweeper',\n",
       " 'mobile-first template',\n",
       " 'multi sketch flappy',\n",
       " 'multiple sketches template',\n",
       " 'Noted',\n",
       " 'old experiments',\n",
       " 'physics engine matter.js trial',\n",
       " 'Plinko',\n",
       " 'poisson disc sampling',\n",
       " 'post',\n",
       " 'processing',\n",
       " 'RESOURCES',\n",
       " 'smart rockets',\n",
       " 'snakes-js',\n",
       " 'steering behaviors',\n",
       " 'Template',\n",
       " 'Toy NN Shiffman',\n",
       " 'TSP',\n",
       " 'website-master',\n",
       " 'website-master.zip',\n",
       " 'word counter']"
      ]
     },
     "execution_count": 24,
     "metadata": {},
     "output_type": "execute_result"
    }
   ],
   "source": [
    "os.listdir()"
   ]
  },
  {
   "cell_type": "code",
   "execution_count": 43,
   "metadata": {},
   "outputs": [
    {
     "name": "stdout",
     "output_type": "stream",
     "text": [
      "i = 1500\n",
      "i: 1500 iterations took 0.0 seconds.\n",
      "i squared: 2250000 iterations took 0.18217706680297852 seconds.\n",
      "i = 2000\n",
      "i: 2000 iterations took 0.0 seconds.\n",
      "i squared: 4000000 iterations took 0.29026222229003906 seconds.\n",
      "i = 2500\n",
      "i: 2500 iterations took 0.004000186920166016 seconds.\n",
      "i squared: 6250000 iterations took 0.45201563835144043 seconds.\n",
      "i = 3000\n",
      "i: 3000 iterations took 0.0 seconds.\n",
      "i squared: 9000000 iterations took 0.7240917682647705 seconds.\n",
      "i = 3500\n",
      "i: 3500 iterations took 0.0 seconds.\n",
      "i squared: 12250000 iterations took 0.8957078456878662 seconds.\n",
      "i = 4000\n",
      "i: 4000 iterations took 0.0 seconds.\n",
      "i squared: 16000000 iterations took 1.1561951637268066 seconds.\n",
      "i = 4500\n",
      "i: 4500 iterations took 0.0 seconds.\n",
      "i squared: 20250000 iterations took 1.5638840198516846 seconds.\n",
      "i = 5000\n",
      "i: 5000 iterations took 0.0 seconds.\n",
      "i squared: 25000000 iterations took 1.7599496841430664 seconds.\n",
      "i = 5500\n",
      "i: 5500 iterations took 0.0 seconds.\n",
      "i squared: 30250000 iterations took 2.2084484100341797 seconds.\n",
      "i = 6000\n",
      "i: 6000 iterations took 0.0 seconds.\n",
      "i squared: 36000000 iterations took 2.9202969074249268 seconds.\n",
      "i = 6500\n",
      "i: 6500 iterations took 0.0 seconds.\n",
      "i squared: 42250000 iterations took 3.063277006149292 seconds.\n",
      "i = 7000\n",
      "i: 7000 iterations took 0.0 seconds.\n",
      "i squared: 49000000 iterations took 3.4998672008514404 seconds.\n",
      "i = 7500\n",
      "i: 7500 iterations took 0.0 seconds.\n",
      "i squared: 56250000 iterations took 4.028940916061401 seconds.\n",
      "i = 8000\n",
      "i: 8000 iterations took 0.0 seconds.\n",
      "i squared: 64000000 iterations took 4.895934104919434 seconds.\n",
      "i = 8500\n",
      "i: 8500 iterations took 0.0 seconds.\n",
      "i squared: 72250000 iterations took 5.359328031539917 seconds.\n",
      "i = 9000\n",
      "i: 9000 iterations took 0.0 seconds.\n",
      "i squared: 81000000 iterations took 5.945323705673218 seconds.\n",
      "i = 9500\n",
      "i: 9500 iterations took 0.0 seconds.\n",
      "i squared: 90250000 iterations took 6.2348313331604 seconds.\n"
     ]
    }
   ],
   "source": [
    "import time\n",
    "time.time()\n",
    "\n",
    "t = time.time()\n",
    "\n",
    "for i in range(1500,10000,500):\n",
    "    print(\"i =\",i)\n",
    "    \n",
    "    t = time.time()\n",
    "    for j in range(i):\n",
    "        operation = 4*4\n",
    "    \n",
    "    print(\"i:\",i,\"iterations took\",time.time() - t,\"seconds.\")\n",
    "    \n",
    "    t = time.time()\n",
    "    for j in range(i*i):\n",
    "        operation = 4*4\n",
    "    \n",
    "    print(\"i squared:\",i * i,\"iterations took\",time.time() - t,\"seconds.\")\n"
   ]
  },
  {
   "cell_type": "code",
   "execution_count": 44,
   "metadata": {},
   "outputs": [
    {
     "name": "stdout",
     "output_type": "stream",
     "text": [
      "BPF, LOG4, NV_MAGICCONST, RECIP_BPF, Random, SG_MAGICCONST, SystemRandom, TWOPI, _BuiltinMethodType, _MethodType, _Sequence, _Set, __all__, __builtins__, __cached__, __doc__, __file__, __loader__, __name__, __package__, __spec__, _acos, _bisect, _ceil, _cos, _e, _exp, _inst, _itertools, _log, _pi, _random, _sha512, _sin, _sqrt, _test, _test_generator, _urandom, _warn, betavariate, choice, choices, expovariate, gammavariate, gauss, getrandbits, getstate, lognormvariate, normalvariate, paretovariate, randint, random, randrange, sample, seed, setstate, shuffle, triangular, uniform, vonmisesvariate, weibullvariate\n"
     ]
    }
   ],
   "source": [
    "import random\n",
    "getDir(random)"
   ]
  },
  {
   "cell_type": "code",
   "execution_count": 45,
   "metadata": {},
   "outputs": [
    {
     "name": "stdout",
     "output_type": "stream",
     "text": [
      "Help on built-in function random:\n",
      "\n",
      "random(...) method of random.Random instance\n",
      "    random() -> x in the interval [0, 1).\n",
      "\n"
     ]
    }
   ],
   "source": [
    "help(random.random)"
   ]
  },
  {
   "cell_type": "code",
   "execution_count": 61,
   "metadata": {},
   "outputs": [],
   "source": [
    "random.seed(0)"
   ]
  },
  {
   "cell_type": "code",
   "execution_count": 66,
   "metadata": {},
   "outputs": [
    {
     "name": "stdout",
     "output_type": "stream",
     "text": [
      "Help on method seed in module random:\n",
      "\n",
      "seed(a=None, version=2) method of random.Random instance\n",
      "    Initialize internal state from hashable object.\n",
      "    \n",
      "    None or no argument seeds from current time or from an operating\n",
      "    system specific randomness source if available.\n",
      "    \n",
      "    If *a* is an int, all bits are used.\n",
      "    \n",
      "    For version 2 (the default), all of the bits are used if *a* is a str,\n",
      "    bytes, or bytearray.  For version 1 (provided for reproducing random\n",
      "    sequences from older versions of Python), the algorithm for str and\n",
      "    bytes generates a narrower range of seeds.\n",
      "\n"
     ]
    }
   ],
   "source": [
    "help(random.seed)"
   ]
  },
  {
   "cell_type": "code",
   "execution_count": 65,
   "metadata": {},
   "outputs": [
    {
     "name": "stdout",
     "output_type": "stream",
     "text": [
      "Help on method randint in module random:\n",
      "\n",
      "randint(a, b) method of random.Random instance\n",
      "    Return random integer in range [a, b], including both end points.\n",
      "\n"
     ]
    }
   ],
   "source": [
    "help(random.randint)"
   ]
  },
  {
   "cell_type": "code",
   "execution_count": 64,
   "metadata": {},
   "outputs": [
    {
     "data": {
      "text/plain": [
       "1"
      ]
     },
     "execution_count": 64,
     "metadata": {},
     "output_type": "execute_result"
    }
   ],
   "source": [
    "random.randint(1,10)"
   ]
  },
  {
   "cell_type": "code",
   "execution_count": 7,
   "metadata": {},
   "outputs": [],
   "source": [
    "# decorators\n",
    "from functools import lru_cache\n",
    "\n",
    "@lru_cache()\n",
    "def yolo():\n",
    "    return 1"
   ]
  },
  {
   "cell_type": "code",
   "execution_count": 7,
   "metadata": {},
   "outputs": [],
   "source": [
    "# generators\n",
    "\n",
    "def floatRange(start,stop,step = 0.1):\n",
    "    distance = stop - start\n",
    "    itr = 0\n",
    "    \n",
    "    if distance <0 or step<=0:\n",
    "        return \"stop\"\n",
    "    \n",
    "    while itr<distance:\n",
    "        yield start + itr\n",
    "        itr += step\n",
    "    \n",
    "    yield \"stop\""
   ]
  },
  {
   "cell_type": "code",
   "execution_count": 10,
   "metadata": {},
   "outputs": [],
   "source": [
    "gen = floatRange(1,2,0.2)"
   ]
  },
  {
   "cell_type": "code",
   "execution_count": 11,
   "metadata": {},
   "outputs": [
    {
     "name": "stdout",
     "output_type": "stream",
     "text": [
      "1\n",
      "1.2\n",
      "1.4\n",
      "1.6\n",
      "1.8\n",
      "stop\n"
     ]
    }
   ],
   "source": [
    "a = 0\n",
    "while a != \"stop\":\n",
    "    a = next(gen)\n",
    "    print(a)"
   ]
  },
  {
   "cell_type": "code",
   "execution_count": 12,
   "metadata": {},
   "outputs": [
    {
     "name": "stdout",
     "output_type": "stream",
     "text": [
      "1\n",
      "1.2\n",
      "1.4\n",
      "1.6\n",
      "1.8\n"
     ]
    }
   ],
   "source": [
    "for i in floatRange(1,2,0.2):\n",
    "    if i == \"stop\":\n",
    "        break\n",
    "    \n",
    "    print(i)"
   ]
  },
  {
   "cell_type": "code",
   "execution_count": 19,
   "metadata": {},
   "outputs": [],
   "source": [
    "class Dog:\n",
    "    \n",
    "    def __init__(self,a,b):\n",
    "        self.a = a\n",
    "        self.b = b\n",
    "        \n",
    "    def bark(self):\n",
    "        print(self.a)\n",
    "        \n",
    "    def introduce(self):\n",
    "        print(\"Hi, my name is\",self.b)"
   ]
  },
  {
   "cell_type": "code",
   "execution_count": 20,
   "metadata": {},
   "outputs": [],
   "source": [
    "d = Dog(\"Woof\",\"Gara\")"
   ]
  },
  {
   "cell_type": "code",
   "execution_count": 21,
   "metadata": {},
   "outputs": [
    {
     "name": "stdout",
     "output_type": "stream",
     "text": [
      "Woof\n"
     ]
    }
   ],
   "source": [
    "d.bark()"
   ]
  },
  {
   "cell_type": "code",
   "execution_count": 22,
   "metadata": {},
   "outputs": [
    {
     "name": "stdout",
     "output_type": "stream",
     "text": [
      "Hi, my name is Gara\n"
     ]
    }
   ],
   "source": [
    "d.introduce()"
   ]
  },
  {
   "cell_type": "code",
   "execution_count": 23,
   "metadata": {},
   "outputs": [],
   "source": [
    "import requests"
   ]
  },
  {
   "cell_type": "code",
   "execution_count": 34,
   "metadata": {},
   "outputs": [],
   "source": [
    "response = requests.get(\"https://www.imsnsit.org/imsnsit/\")"
   ]
  },
  {
   "cell_type": "code",
   "execution_count": 35,
   "metadata": {},
   "outputs": [],
   "source": [
    "response_content = response.content"
   ]
  },
  {
   "cell_type": "code",
   "execution_count": 36,
   "metadata": {},
   "outputs": [],
   "source": [
    "from bs4 import BeautifulSoup as soup"
   ]
  },
  {
   "cell_type": "code",
   "execution_count": 37,
   "metadata": {},
   "outputs": [],
   "source": [
    "resp_soup = soup(response_content,\"lxml\")"
   ]
  },
  {
   "cell_type": "code",
   "execution_count": 44,
   "metadata": {},
   "outputs": [
    {
     "name": "stdout",
     "output_type": "stream",
     "text": [
      "Help on function post in module requests.api:\n",
      "\n",
      "post(url, data=None, json=None, **kwargs)\n",
      "    Sends a POST request.\n",
      "    \n",
      "    :param url: URL for the new :class:`Request` object.\n",
      "    :param data: (optional) Dictionary (will be form-encoded), bytes, or file-like object to send in the body of the :class:`Request`.\n",
      "    :param json: (optional) json data to send in the body of the :class:`Request`.\n",
      "    :param \\*\\*kwargs: Optional arguments that ``request`` takes.\n",
      "    :return: :class:`Response <Response>` object\n",
      "    :rtype: requests.Response\n",
      "\n"
     ]
    }
   ],
   "source": [
    "help(requests.post)"
   ]
  },
  {
   "cell_type": "code",
   "execution_count": 47,
   "metadata": {},
   "outputs": [
    {
     "name": "stdout",
     "output_type": "stream",
     "text": [
      "MAXYEAR, MINYEAR, __builtins__, __cached__, __doc__, __file__, __loader__, __name__, __package__, __spec__, date, datetime, datetime_CAPI, time, timedelta, timezone, tzinfo\n"
     ]
    }
   ],
   "source": [
    "import datetime\n",
    "getDir(datetime)"
   ]
  },
  {
   "cell_type": "code",
   "execution_count": 51,
   "metadata": {},
   "outputs": [
    {
     "name": "stdout",
     "output_type": "stream",
     "text": [
      "Help on class date in module datetime:\n",
      "\n",
      "class date(builtins.object)\n",
      " |  date(year, month, day) --> date object\n",
      " |  \n",
      " |  Methods defined here:\n",
      " |  \n",
      " |  __add__(self, value, /)\n",
      " |      Return self+value.\n",
      " |  \n",
      " |  __eq__(self, value, /)\n",
      " |      Return self==value.\n",
      " |  \n",
      " |  __format__(...)\n",
      " |      Formats self with strftime.\n",
      " |  \n",
      " |  __ge__(self, value, /)\n",
      " |      Return self>=value.\n",
      " |  \n",
      " |  __getattribute__(self, name, /)\n",
      " |      Return getattr(self, name).\n",
      " |  \n",
      " |  __gt__(self, value, /)\n",
      " |      Return self>value.\n",
      " |  \n",
      " |  __hash__(self, /)\n",
      " |      Return hash(self).\n",
      " |  \n",
      " |  __le__(self, value, /)\n",
      " |      Return self<=value.\n",
      " |  \n",
      " |  __lt__(self, value, /)\n",
      " |      Return self<value.\n",
      " |  \n",
      " |  __ne__(self, value, /)\n",
      " |      Return self!=value.\n",
      " |  \n",
      " |  __new__(*args, **kwargs) from builtins.type\n",
      " |      Create and return a new object.  See help(type) for accurate signature.\n",
      " |  \n",
      " |  __radd__(self, value, /)\n",
      " |      Return value+self.\n",
      " |  \n",
      " |  __reduce__(...)\n",
      " |      __reduce__() -> (cls, state)\n",
      " |  \n",
      " |  __repr__(self, /)\n",
      " |      Return repr(self).\n",
      " |  \n",
      " |  __rsub__(self, value, /)\n",
      " |      Return value-self.\n",
      " |  \n",
      " |  __str__(self, /)\n",
      " |      Return str(self).\n",
      " |  \n",
      " |  __sub__(self, value, /)\n",
      " |      Return self-value.\n",
      " |  \n",
      " |  ctime(...)\n",
      " |      Return ctime() style string.\n",
      " |  \n",
      " |  fromordinal(...) from builtins.type\n",
      " |      int -> date corresponding to a proleptic Gregorian ordinal.\n",
      " |  \n",
      " |  fromtimestamp(...) from builtins.type\n",
      " |      timestamp -> local date from a POSIX timestamp (like time.time()).\n",
      " |  \n",
      " |  isocalendar(...)\n",
      " |      Return a 3-tuple containing ISO year, week number, and weekday.\n",
      " |  \n",
      " |  isoformat(...)\n",
      " |      Return string in ISO 8601 format, YYYY-MM-DD.\n",
      " |  \n",
      " |  isoweekday(...)\n",
      " |      Return the day of the week represented by the date.\n",
      " |      Monday == 1 ... Sunday == 7\n",
      " |  \n",
      " |  replace(...)\n",
      " |      Return date with new specified fields.\n",
      " |  \n",
      " |  strftime(...)\n",
      " |      format -> strftime() style string.\n",
      " |  \n",
      " |  timetuple(...)\n",
      " |      Return time tuple, compatible with time.localtime().\n",
      " |  \n",
      " |  today(...) from builtins.type\n",
      " |      Current date or datetime:  same as self.__class__.fromtimestamp(time.time()).\n",
      " |  \n",
      " |  toordinal(...)\n",
      " |      Return proleptic Gregorian ordinal.  January 1 of year 1 is day 1.\n",
      " |  \n",
      " |  weekday(...)\n",
      " |      Return the day of the week represented by the date.\n",
      " |      Monday == 0 ... Sunday == 6\n",
      " |  \n",
      " |  ----------------------------------------------------------------------\n",
      " |  Data descriptors defined here:\n",
      " |  \n",
      " |  day\n",
      " |  \n",
      " |  month\n",
      " |  \n",
      " |  year\n",
      " |  \n",
      " |  ----------------------------------------------------------------------\n",
      " |  Data and other attributes defined here:\n",
      " |  \n",
      " |  max = datetime.date(9999, 12, 31)\n",
      " |  \n",
      " |  min = datetime.date(1, 1, 1)\n",
      " |  \n",
      " |  resolution = datetime.timedelta(1)\n",
      "\n"
     ]
    }
   ],
   "source": [
    "help(datetime.date)"
   ]
  },
  {
   "cell_type": "code",
   "execution_count": 52,
   "metadata": {},
   "outputs": [],
   "source": [
    "some_date = datetime.date(2018,11,17)"
   ]
  },
  {
   "cell_type": "code",
   "execution_count": 60,
   "metadata": {},
   "outputs": [
    {
     "data": {
      "text/plain": [
       "datetime.date(2018, 11, 17)"
      ]
     },
     "execution_count": 60,
     "metadata": {},
     "output_type": "execute_result"
    }
   ],
   "source": [
    "some_date"
   ]
  },
  {
   "cell_type": "code",
   "execution_count": 57,
   "metadata": {},
   "outputs": [],
   "source": [
    "def daterange(startdate,enddate):\n",
    "    if enddate < startdate:\n",
    "        return\n",
    "    ret_date = startdate\n",
    "    while ret_date < enddate:\n",
    "        yield ret_date\n",
    "        ret_date = ret_date + datetime.timedelta(1)\n",
    "    return"
   ]
  },
  {
   "cell_type": "code",
   "execution_count": 61,
   "metadata": {},
   "outputs": [],
   "source": [
    "future_date = datetime.date(2019,1,1)"
   ]
  },
  {
   "cell_type": "code",
   "execution_count": 64,
   "metadata": {},
   "outputs": [
    {
     "name": "stdout",
     "output_type": "stream",
     "text": [
      "Tuesday, January\n"
     ]
    }
   ],
   "source": [
    "print(datetime.datetime.strftime(future_date,\"%A, %B\"))"
   ]
  },
  {
   "cell_type": "code",
   "execution_count": 66,
   "metadata": {},
   "outputs": [
    {
     "name": "stdout",
     "output_type": "stream",
     "text": [
      "17 November, Saturday\n",
      "18 November, Sunday\n",
      "19 November, Monday\n",
      "20 November, Tuesday\n",
      "21 November, Wednesday\n",
      "22 November, Thursday\n",
      "23 November, Friday\n",
      "24 November, Saturday\n",
      "25 November, Sunday\n",
      "26 November, Monday\n",
      "27 November, Tuesday\n",
      "28 November, Wednesday\n",
      "29 November, Thursday\n",
      "30 November, Friday\n",
      "01 December, Saturday\n",
      "02 December, Sunday\n",
      "03 December, Monday\n",
      "04 December, Tuesday\n",
      "05 December, Wednesday\n",
      "06 December, Thursday\n",
      "07 December, Friday\n",
      "08 December, Saturday\n",
      "09 December, Sunday\n",
      "10 December, Monday\n",
      "11 December, Tuesday\n",
      "12 December, Wednesday\n",
      "13 December, Thursday\n",
      "14 December, Friday\n",
      "15 December, Saturday\n",
      "16 December, Sunday\n",
      "17 December, Monday\n",
      "18 December, Tuesday\n",
      "19 December, Wednesday\n",
      "20 December, Thursday\n",
      "21 December, Friday\n",
      "22 December, Saturday\n",
      "23 December, Sunday\n",
      "24 December, Monday\n",
      "25 December, Tuesday\n",
      "26 December, Wednesday\n",
      "27 December, Thursday\n",
      "28 December, Friday\n",
      "29 December, Saturday\n",
      "30 December, Sunday\n",
      "31 December, Monday\n"
     ]
    }
   ],
   "source": [
    "for d in daterange(some_date,future_date):\n",
    "    print(datetime.datetime.strftime(d,\"%d %B, %A\"))"
   ]
  },
  {
   "cell_type": "code",
   "execution_count": null,
   "metadata": {},
   "outputs": [],
   "source": []
  }
 ],
 "metadata": {
  "kernelspec": {
   "display_name": "Python 3",
   "language": "python",
   "name": "python3"
  },
  "language_info": {
   "codemirror_mode": {
    "name": "ipython",
    "version": 3
   },
   "file_extension": ".py",
   "mimetype": "text/x-python",
   "name": "python",
   "nbconvert_exporter": "python",
   "pygments_lexer": "ipython3",
   "version": "3.6.4"
  }
 },
 "nbformat": 4,
 "nbformat_minor": 2
}
