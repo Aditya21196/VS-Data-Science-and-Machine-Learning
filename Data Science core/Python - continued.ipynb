{
 "cells": [
  {
   "cell_type": "markdown",
   "metadata": {},
   "source": [
    "# Python Inbuilt modules\n",
    "\n",
    "## os, random, requests, time, datetime\n",
    "\n",
    "## Other things: generators, classes, decorators (lru_cache eg)\n"
   ]
  },
  {
   "cell_type": "code",
   "execution_count": 1,
   "metadata": {},
   "outputs": [],
   "source": [
    "# a simple function to get the methods contained in a module nicely comma separated\n",
    "def getDir(module):\n",
    "    print(\", \".join(dir(module)))"
   ]
  },
  {
   "cell_type": "code",
   "execution_count": 2,
   "metadata": {},
   "outputs": [
    {
     "name": "stdout",
     "output_type": "stream",
     "text": [
      "DirEntry, F_OK, MutableMapping, O_APPEND, O_BINARY, O_CREAT, O_EXCL, O_NOINHERIT, O_RANDOM, O_RDONLY, O_RDWR, O_SEQUENTIAL, O_SHORT_LIVED, O_TEMPORARY, O_TEXT, O_TRUNC, O_WRONLY, P_DETACH, P_NOWAIT, P_NOWAITO, P_OVERLAY, P_WAIT, PathLike, R_OK, SEEK_CUR, SEEK_END, SEEK_SET, TMP_MAX, W_OK, X_OK, _Environ, __all__, __builtins__, __cached__, __doc__, __file__, __loader__, __name__, __package__, __spec__, _execvpe, _exists, _exit, _fspath, _get_exports_list, _putenv, _unsetenv, _wrap_close, abc, abort, access, altsep, chdir, chmod, close, closerange, cpu_count, curdir, defpath, device_encoding, devnull, dup, dup2, environ, errno, error, execl, execle, execlp, execlpe, execv, execve, execvp, execvpe, extsep, fdopen, fsdecode, fsencode, fspath, fstat, fsync, ftruncate, get_exec_path, get_handle_inheritable, get_inheritable, get_terminal_size, getcwd, getcwdb, getenv, getlogin, getpid, getppid, isatty, kill, linesep, link, listdir, lseek, lstat, makedirs, mkdir, name, open, pardir, path, pathsep, pipe, popen, putenv, read, readlink, remove, removedirs, rename, renames, replace, rmdir, scandir, sep, set_handle_inheritable, set_inheritable, spawnl, spawnle, spawnv, spawnve, st, startfile, stat, stat_float_times, stat_result, statvfs_result, strerror, supports_bytes_environ, supports_dir_fd, supports_effective_ids, supports_fd, supports_follow_symlinks, symlink, sys, system, terminal_size, times, times_result, truncate, umask, uname_result, unlink, urandom, utime, waitpid, walk, write\n"
     ]
    }
   ],
   "source": [
    "import os\n",
    "getDir(os)"
   ]
  },
  {
   "cell_type": "markdown",
   "metadata": {},
   "source": [
    "### os module is used to handle operating system navigation and tasks. During file handling, if the full directory is not specified then Python loads files from the default directory which is the same directory in which our python file lives. We can change the default directory and check up directories using os module."
   ]
  },
  {
   "cell_type": "code",
   "execution_count": 3,
   "metadata": {},
   "outputs": [],
   "source": [
    "# examples of common use cases\n",
    "\n",
    "# Getting the current directory (should be the default one right now)\n",
    "cur_dir = os.getcwd()"
   ]
  },
  {
   "cell_type": "code",
   "execution_count": 4,
   "metadata": {},
   "outputs": [
    {
     "data": {
      "text/plain": [
       "'C:\\\\Users\\\\adity\\\\Desktop\\\\VS-Data Science-and-Machine-Learning\\\\Data Science core'"
      ]
     },
     "execution_count": 4,
     "metadata": {},
     "output_type": "execute_result"
    }
   ],
   "source": [
    "cur_dir"
   ]
  },
  {
   "cell_type": "code",
   "execution_count": 5,
   "metadata": {},
   "outputs": [
    {
     "data": {
      "text/plain": [
       "['.ipynb_checkpoints',\n",
       " 'Introduction To Python.ipynb',\n",
       " 'Numpy.ipynb',\n",
       " 'pandas',\n",
       " 'Python - continued - Class NB.ipynb',\n",
       " 'Python - continued.ipynb']"
      ]
     },
     "execution_count": 5,
     "metadata": {},
     "output_type": "execute_result"
    }
   ],
   "source": [
    "# checking contents of current directory\n",
    "os.listdir()"
   ]
  },
  {
   "cell_type": "code",
   "execution_count": 6,
   "metadata": {},
   "outputs": [
    {
     "data": {
      "text/plain": [
       "['.ipynb_checkpoints',\n",
       " 'Introduction To Python.ipynb',\n",
       " 'new directory',\n",
       " 'Numpy.ipynb',\n",
       " 'pandas',\n",
       " 'Python - continued - Class NB.ipynb',\n",
       " 'Python - continued.ipynb']"
      ]
     },
     "execution_count": 6,
     "metadata": {},
     "output_type": "execute_result"
    }
   ],
   "source": [
    "# making a new directory\n",
    "os.makedirs('new directory',exist_ok=True)\n",
    "os.listdir()"
   ]
  },
  {
   "cell_type": "code",
   "execution_count": 7,
   "metadata": {},
   "outputs": [
    {
     "data": {
      "text/plain": [
       "['.ipynb_checkpoints',\n",
       " 'Introduction To Python.ipynb',\n",
       " 'Numpy.ipynb',\n",
       " 'pandas',\n",
       " 'Python - continued - Class NB.ipynb',\n",
       " 'Python - continued.ipynb']"
      ]
     },
     "execution_count": 7,
     "metadata": {},
     "output_type": "execute_result"
    }
   ],
   "source": [
    "# new directory was created. We don't need it though so let's remove it\n",
    "os.rmdir('new directory')\n",
    "os.listdir()"
   ]
  },
  {
   "cell_type": "code",
   "execution_count": 8,
   "metadata": {},
   "outputs": [],
   "source": [
    "# changing directories: We can switch over to some other directory for our convenience\n",
    "\n",
    "os.chdir(r'C:\\Users\\adity\\Desktop\\projects')"
   ]
  },
  {
   "cell_type": "code",
   "execution_count": 9,
   "metadata": {},
   "outputs": [
    {
     "data": {
      "text/plain": [
       "'C:\\\\Users\\\\adity\\\\Desktop\\\\projects'"
      ]
     },
     "execution_count": 9,
     "metadata": {},
     "output_type": "execute_result"
    }
   ],
   "source": [
    "# Current Working directory should now be changed\n",
    "os.getcwd()"
   ]
  },
  {
   "cell_type": "code",
   "execution_count": 10,
   "metadata": {},
   "outputs": [
    {
     "data": {
      "text/plain": [
       "['#scope chrome extensions',\n",
       " '#scope color predictor with word interactor - Copy',\n",
       " '#scope data science',\n",
       " '#scope flask',\n",
       " '#scope neural networks again',\n",
       " '#scope tf idf',\n",
       " 'AWS',\n",
       " 'BFS',\n",
       " 'blockchain',\n",
       " 'bot problem',\n",
       " 'BSTs',\n",
       " 'color project',\n",
       " 'color project shiffman',\n",
       " 'competetive',\n",
       " 'CSS grids',\n",
       " 'dashboard - multiple entities',\n",
       " 'dashboard flask',\n",
       " 'dashboard flask - js version',\n",
       " 'dashboard flask-js (Multiple graphs)',\n",
       " 'data science problems.docx',\n",
       " 'DFS',\n",
       " 'DFS Imp',\n",
       " 'Evolutionary Steering Behaviors',\n",
       " 'flappy bird',\n",
       " 'flask dashborad git',\n",
       " 'grinberg flask',\n",
       " 'js simulation old',\n",
       " 'line-example',\n",
       " 'madlibs',\n",
       " 'materialize CSS',\n",
       " 'minesweeper',\n",
       " 'mobile-first template',\n",
       " 'multi sketch flappy',\n",
       " 'multiple sketches template',\n",
       " 'Noted',\n",
       " 'old experiments',\n",
       " 'physics engine matter.js trial',\n",
       " 'Plinko',\n",
       " 'poisson disc sampling',\n",
       " 'post',\n",
       " 'processing',\n",
       " 'RESOURCES',\n",
       " 'smart rockets',\n",
       " 'snakes-js',\n",
       " 'steering behaviors',\n",
       " 'Template',\n",
       " 'Toy NN Shiffman',\n",
       " 'TSP',\n",
       " 'website-master',\n",
       " 'website-master.zip',\n",
       " 'word counter']"
      ]
     },
     "execution_count": 10,
     "metadata": {},
     "output_type": "execute_result"
    }
   ],
   "source": [
    "# Contents of this directory\n",
    "os.listdir()"
   ]
  },
  {
   "cell_type": "code",
   "execution_count": 11,
   "metadata": {},
   "outputs": [
    {
     "name": "stdout",
     "output_type": "stream",
     "text": [
      "current unix time in India: 1545536235.3783076\n",
      "i = 1500\n",
      "i: 1500 iterations took 0.0009975433349609375 seconds.\n",
      "i squared: 2250000 iterations took 0.16995620727539062 seconds.\n",
      "i = 2000\n",
      "i: 2000 iterations took 0.0 seconds.\n",
      "i squared: 4000000 iterations took 0.286881685256958 seconds.\n",
      "i = 2500\n",
      "i: 2500 iterations took 0.0 seconds.\n",
      "i squared: 6250000 iterations took 0.42987632751464844 seconds.\n",
      "i = 3000\n",
      "i: 3000 iterations took 0.0 seconds.\n",
      "i squared: 9000000 iterations took 0.6746189594268799 seconds.\n",
      "i = 3500\n",
      "i: 3500 iterations took 0.0 seconds.\n",
      "i squared: 12250000 iterations took 0.8502655029296875 seconds.\n",
      "i = 4000\n",
      "i: 4000 iterations took 0.0 seconds.\n",
      "i squared: 16000000 iterations took 1.120032548904419 seconds.\n",
      "i = 4500\n",
      "i: 4500 iterations took 0.0 seconds.\n",
      "i squared: 20250000 iterations took 1.4278686046600342 seconds.\n",
      "i = 5000\n",
      "i: 5000 iterations took 0.0 seconds.\n",
      "i squared: 25000000 iterations took 1.7022178173065186 seconds.\n",
      "i = 5500\n",
      "i: 5500 iterations took 0.0 seconds.\n",
      "i squared: 30250000 iterations took 2.1224923133850098 seconds.\n",
      "i = 6000\n",
      "i: 6000 iterations took 0.0010366439819335938 seconds.\n",
      "i squared: 36000000 iterations took 2.4783143997192383 seconds.\n",
      "i = 6500\n",
      "i: 6500 iterations took 0.0 seconds.\n",
      "i squared: 42250000 iterations took 2.7797329425811768 seconds.\n",
      "i = 7000\n",
      "i: 7000 iterations took 0.0009975433349609375 seconds.\n",
      "i squared: 49000000 iterations took 3.3692877292633057 seconds.\n",
      "i = 7500\n",
      "i: 7500 iterations took 0.0009982585906982422 seconds.\n",
      "i squared: 56250000 iterations took 3.9309780597686768 seconds.\n",
      "i = 8000\n",
      "i: 8000 iterations took 0.0 seconds.\n",
      "i squared: 64000000 iterations took 4.510667562484741 seconds.\n",
      "i = 8500\n",
      "i: 8500 iterations took 0.0 seconds.\n",
      "i squared: 72250000 iterations took 5.050745010375977 seconds.\n",
      "i = 9000\n",
      "i: 9000 iterations took 0.0 seconds.\n",
      "i squared: 81000000 iterations took 6.641933441162109 seconds.\n",
      "i = 9500\n",
      "i: 9500 iterations took 0.0 seconds.\n",
      "i squared: 90250000 iterations took 6.240304470062256 seconds.\n"
     ]
    }
   ],
   "source": [
    "# A demonstration of the time module\n",
    "\n",
    "import time\n",
    "\n",
    "# the function time.time() gets you the epoch time or the unix time\n",
    "# unix time is the number of seconds that have elapsed since January 1, 1970. It is renowned standard for time\n",
    "print(\"current unix time in India:\",time.time())\n",
    "\n",
    "\n",
    "# Here is an experiment to compare linear time complexity vs squared for the case of a simple multiplication operation\n",
    "t = time.time()\n",
    "\n",
    "for i in range(1500,10000,500):\n",
    "    print(\"i =\",i)\n",
    "    \n",
    "    t = time.time()\n",
    "    for j in range(i):\n",
    "        operation = 4*4\n",
    "    \n",
    "    print(\"i:\",i,\"iterations took\",time.time() - t,\"seconds.\")\n",
    "    \n",
    "    t = time.time()\n",
    "    for j in range(i*i):\n",
    "        operation = 4*4\n",
    "    \n",
    "    print(\"i squared:\",i * i,\"iterations took\",time.time() - t,\"seconds.\")\n"
   ]
  },
  {
   "cell_type": "code",
   "execution_count": 13,
   "metadata": {},
   "outputs": [
    {
     "name": "stdout",
     "output_type": "stream",
     "text": [
      "BPF, LOG4, NV_MAGICCONST, RECIP_BPF, Random, SG_MAGICCONST, SystemRandom, TWOPI, _BuiltinMethodType, _MethodType, _Sequence, _Set, __all__, __builtins__, __cached__, __doc__, __file__, __loader__, __name__, __package__, __spec__, _acos, _bisect, _ceil, _cos, _e, _exp, _inst, _itertools, _log, _pi, _random, _sha512, _sin, _sqrt, _test, _test_generator, _urandom, _warn, betavariate, choice, choices, expovariate, gammavariate, gauss, getrandbits, getstate, lognormvariate, normalvariate, paretovariate, randint, random, randrange, sample, seed, setstate, shuffle, triangular, uniform, vonmisesvariate, weibullvariate\n"
     ]
    }
   ],
   "source": [
    "# Random module is used to get random variables.\n",
    "import random\n",
    "getDir(random)"
   ]
  },
  {
   "cell_type": "code",
   "execution_count": 14,
   "metadata": {},
   "outputs": [
    {
     "name": "stdout",
     "output_type": "stream",
     "text": [
      "Help on built-in function random:\n",
      "\n",
      "random(...) method of random.Random instance\n",
      "    random() -> x in the interval [0, 1).\n",
      "\n"
     ]
    }
   ],
   "source": [
    "# Analyzing the random function\n",
    "help(random.random)"
   ]
  },
  {
   "cell_type": "markdown",
   "metadata": {},
   "source": [
    "### There is no such thing as completely random variable. Each algorithm for random variables starts with a fixed value called the seed. For the same seed, the sequence of random variables obtained from an algorithm would be same. This is why these numbers are called 'pseudo random' in practice."
   ]
  },
  {
   "cell_type": "code",
   "execution_count": 18,
   "metadata": {},
   "outputs": [],
   "source": [
    "# setting the seed as 0\n",
    "random.seed(0)"
   ]
  },
  {
   "cell_type": "code",
   "execution_count": 19,
   "metadata": {},
   "outputs": [
    {
     "data": {
      "text/plain": [
       "6"
      ]
     },
     "execution_count": 19,
     "metadata": {},
     "output_type": "execute_result"
    }
   ],
   "source": [
    "random.randint(0,10)"
   ]
  },
  {
   "cell_type": "code",
   "execution_count": 20,
   "metadata": {},
   "outputs": [
    {
     "data": {
      "text/plain": [
       "6"
      ]
     },
     "execution_count": 20,
     "metadata": {},
     "output_type": "execute_result"
    }
   ],
   "source": [
    "random.randint(0,10)"
   ]
  },
  {
   "cell_type": "code",
   "execution_count": 21,
   "metadata": {},
   "outputs": [
    {
     "data": {
      "text/plain": [
       "0"
      ]
     },
     "execution_count": 21,
     "metadata": {},
     "output_type": "execute_result"
    }
   ],
   "source": [
    "random.randint(0,10)"
   ]
  },
  {
   "cell_type": "code",
   "execution_count": 23,
   "metadata": {},
   "outputs": [
    {
     "name": "stdout",
     "output_type": "stream",
     "text": [
      "6\n",
      "6\n",
      "0\n",
      "This is the same sequence of random vairables as before.\n"
     ]
    }
   ],
   "source": [
    "# on resetting the seed, the first three random variables generated using the same function will be same\n",
    "# demonstration:\n",
    "\n",
    "# reset seed\n",
    "random.seed(0)\n",
    "\n",
    "for i in range(3):\n",
    "    print(random.randint(0,10))\n",
    "\n",
    "print(\"This is the same sequence of random vairables as before.\")"
   ]
  },
  {
   "cell_type": "code",
   "execution_count": 24,
   "metadata": {},
   "outputs": [
    {
     "name": "stdout",
     "output_type": "stream",
     "text": [
      "Help on method seed in module random:\n",
      "\n",
      "seed(a=None, version=2) method of random.Random instance\n",
      "    Initialize internal state from hashable object.\n",
      "    \n",
      "    None or no argument seeds from current time or from an operating\n",
      "    system specific randomness source if available.\n",
      "    \n",
      "    If *a* is an int, all bits are used.\n",
      "    \n",
      "    For version 2 (the default), all of the bits are used if *a* is a str,\n",
      "    bytes, or bytearray.  For version 1 (provided for reproducing random\n",
      "    sequences from older versions of Python), the algorithm for str and\n",
      "    bytes generates a narrower range of seeds.\n",
      "\n"
     ]
    }
   ],
   "source": [
    "help(random.seed)"
   ]
  },
  {
   "cell_type": "code",
   "execution_count": 25,
   "metadata": {},
   "outputs": [
    {
     "name": "stdout",
     "output_type": "stream",
     "text": [
      "Help on method randint in module random:\n",
      "\n",
      "randint(a, b) method of random.Random instance\n",
      "    Return random integer in range [a, b], including both end points.\n",
      "\n"
     ]
    }
   ],
   "source": [
    "help(random.randint)"
   ]
  },
  {
   "cell_type": "markdown",
   "metadata": {},
   "source": [
    "## Decorators: decorators start with \"@\" and they are used to modify the functionality of a piece of code in python."
   ]
  },
  {
   "cell_type": "code",
   "execution_count": 29,
   "metadata": {},
   "outputs": [],
   "source": [
    "# decorators example : cache your results\n",
    "\n",
    "# Consider this use case: If a function takes a lot of time to give output, you would not want to run it again ang again\n",
    "# If you add the decorator lru_cache, it will store the results corresponding to a set of parameters\n",
    "# If the function is called with same parameters as sometime before, the results are simply fetched from the cache\n",
    "# The function is not called again\n",
    "\n",
    "from functools import lru_cache\n",
    "\n",
    "@lru_cache()\n",
    "def func(t):\n",
    "    time.sleep(t)\n",
    "    return 1"
   ]
  },
  {
   "cell_type": "code",
   "execution_count": 30,
   "metadata": {},
   "outputs": [
    {
     "name": "stdout",
     "output_type": "stream",
     "text": [
      "Took 3.0002288818359375 seconds.\n"
     ]
    }
   ],
   "source": [
    "t = time.time()\n",
    "func(3)\n",
    "print(\"Took\",time.time()-t,\"seconds.\")"
   ]
  },
  {
   "cell_type": "code",
   "execution_count": 31,
   "metadata": {},
   "outputs": [
    {
     "name": "stdout",
     "output_type": "stream",
     "text": [
      "Took 0.0 seconds.\n"
     ]
    }
   ],
   "source": [
    "# Running the function again with same parameters\n",
    "t = time.time()\n",
    "func(3)\n",
    "print(\"Took\",time.time()-t,\"seconds.\")"
   ]
  },
  {
   "cell_type": "code",
   "execution_count": 7,
   "metadata": {},
   "outputs": [],
   "source": [
    "# generators\n",
    "\n",
    "def floatRange(start,stop,step = 0.1):\n",
    "    distance = stop - start\n",
    "    itr = 0\n",
    "    \n",
    "    if distance <0 or step<=0:\n",
    "        return \"stop\"\n",
    "    \n",
    "    while itr<distance:\n",
    "        yield start + itr\n",
    "        itr += step\n",
    "    \n",
    "    yield \"stop\""
   ]
  },
  {
   "cell_type": "code",
   "execution_count": 10,
   "metadata": {},
   "outputs": [],
   "source": [
    "gen = floatRange(1,2,0.2)"
   ]
  },
  {
   "cell_type": "code",
   "execution_count": 11,
   "metadata": {},
   "outputs": [
    {
     "name": "stdout",
     "output_type": "stream",
     "text": [
      "1\n",
      "1.2\n",
      "1.4\n",
      "1.6\n",
      "1.8\n",
      "stop\n"
     ]
    }
   ],
   "source": [
    "a = 0\n",
    "while a != \"stop\":\n",
    "    a = next(gen)\n",
    "    print(a)"
   ]
  },
  {
   "cell_type": "code",
   "execution_count": 12,
   "metadata": {},
   "outputs": [
    {
     "name": "stdout",
     "output_type": "stream",
     "text": [
      "1\n",
      "1.2\n",
      "1.4\n",
      "1.6\n",
      "1.8\n"
     ]
    }
   ],
   "source": [
    "for i in floatRange(1,2,0.2):\n",
    "    if i == \"stop\":\n",
    "        break\n",
    "    \n",
    "    print(i)"
   ]
  },
  {
   "cell_type": "markdown",
   "metadata": {},
   "source": [
    "## Classes in python: class keyword is used to define a class in python."
   ]
  },
  {
   "cell_type": "code",
   "execution_count": 32,
   "metadata": {},
   "outputs": [],
   "source": [
    "class Dog:\n",
    "    \n",
    "    # Dunder init method: this method is called when an object is initialized\n",
    "    def __init__(self,a,b):\n",
    "        \n",
    "        # 'self' is a way to refer to the instance of a class. You can store variables in an instance using 'self'\n",
    "        self.sound = a\n",
    "        self.name = b\n",
    "        \n",
    "    # 'self' has to be passed to every function while creating this class. This is just a convention for convenience.\n",
    "    def bark(self):\n",
    "        print(self.sound)\n",
    "        \n",
    "    def introduce(self):\n",
    "        print(\"Hi, my name is\",self.name)"
   ]
  },
  {
   "cell_type": "code",
   "execution_count": 33,
   "metadata": {},
   "outputs": [],
   "source": [
    "# creating an instance of a class\n",
    "d = Dog(\"Woof\",\"Gara\")"
   ]
  },
  {
   "cell_type": "code",
   "execution_count": 34,
   "metadata": {},
   "outputs": [
    {
     "name": "stdout",
     "output_type": "stream",
     "text": [
      "Woof\n"
     ]
    }
   ],
   "source": [
    "# calling the method bark. Notice that you don't need to pass in anything for 'self'. That is again a convention.\n",
    "d.bark()"
   ]
  },
  {
   "cell_type": "code",
   "execution_count": 35,
   "metadata": {},
   "outputs": [
    {
     "name": "stdout",
     "output_type": "stream",
     "text": [
      "Hi, my name is Gara\n"
     ]
    }
   ],
   "source": [
    "# Calling another method\n",
    "d.introduce()"
   ]
  },
  {
   "cell_type": "markdown",
   "metadata": {},
   "source": [
    "## requests module in python: This module is used for calling GET, POST, PUT requests etc."
   ]
  },
  {
   "cell_type": "code",
   "execution_count": 36,
   "metadata": {},
   "outputs": [],
   "source": [
    "import requests"
   ]
  },
  {
   "cell_type": "code",
   "execution_count": 37,
   "metadata": {},
   "outputs": [],
   "source": [
    "response = requests.get(\"https://www.imsnsit.org/imsnsit/\")"
   ]
  },
  {
   "cell_type": "code",
   "execution_count": 38,
   "metadata": {},
   "outputs": [
    {
     "data": {
      "text/plain": [
       "b'<html>\\n\\t<head> \\n\\t\\t<style>\\n\\t\\t\\tbody{\\n\\t\\t\\t\\tbackground-color: #FFFFFF;\\n\\t\\t\\t}\\n\\t\\t\\th1{\\n\\t\\t\\t\\tcolor:orange;\\n\\t\\t\\t\\ttext-align:center;\\n\\t\\t\\t}\\n\\t\\t\\tp{\\n\\t\\t\\t\\tfont-family:\\'Times New Roman\\';\\n\\t\\t\\t\\tfont-size:20px;\\n\\t\\t\\t}\\n\\t\\t\\ta { color:black; } \\n\\t\\t</style>\\n        <script language=javascript>\\n            parent.document.getElementById(\\'topmost\\').setAttribute(\\'rows\\', \\'*,0,0\\');\\n\\t\\t\\t\\n\\t\\t\\tfunction DeviceScreeCheck(){\\n\\t\\t\\t\\tvar screenWidth = window.screen.width;\\n\\t\\t\\t\\tvar screenHeight = window.screen.height;\\n\\t\\t\\t\\tif(screenWidth>1000 || screenHeight>1000){\\n\\t\\t\\t\\t\\tdocument.getElementById(\\'sw\\').src=\\'plum5_fw_login.php?t=sw&w=1\\';\\n\\t\\t\\t\\t}else{\\n\\t\\t\\t\\t\\t// document.getElementById(\\'bodytag\\').innerHTML = \\'This device will not support,This application for use on Desktops/wide Tabs(>1024 resolution) only<br>\\';\\n\\t\\t\\t\\t}\\n\\t\\t\\t\\tdocument.getElementById(\\'bodytag\\').style.display=\\'\\';\\n\\t\\t\\t}\\n\\n\\t\\t</script>\\n\\t\\t<LINK href=\\'css/METAL/app.css\\' type=text/css rel=stylesheet>\\n\\t\\t<meta name=\\'robots\\' content=\\'noindex\\'>\\n\\t\\t<meta name=\\'googlebot\\' content=\\'noindex, nofollow\\'>\\n\\n\\t</head>    \\n\\t<body onload=\\'DeviceScreeCheck();\\'>\\n\\t\\n\\t<iframe name=\\'sw\\' id=\\'sw\\' style=\\'dispaly:none;height:0;\\' frameborder=0></iframe>\\n\\t\\n\\t\\n\\t<table align=\\'center\\' border=0 > \\n\\t\\t\\t<tr><td colspan=2><!-- <p align=\\'center\\' style=\\'font-family:Arial;font-weight:bold; color:#bd0019\\'>Results of B.E. examinations held in May / June - 2016 \\n\\t\\t\\t<p align=\\'center\\' style=\\'font-weight:600;background-color:#f1f1f1;border:0px solid #c3c3c3;padding:20px;font-size:14px;font-family:Arial\\'>\\n\\t\\t\\tFor Results click...<br><br><a style=\\'border-radius:2px;background:#0071b2; padding:5px 10px; color:#fff\\' target=_BLANK href=\\'https://imsnsit.org/imsnsit/results/NSIT Delhi_2015-16_8th semester_results.pdf\\'>8th Semester </a>\\n\\t\\t\\t&nbsp;&nbsp;&nbsp;&nbsp;&nbsp;&nbsp;<a style=\\'border-radius:2px;background:#0071b2; padding:5px 10px; color:#fff\\' target=_BLANK href=\\'https://imsnsit.org/imsnsit/results/NSIT Delhi_2015-16_6th semester_results.pdf\\'>6th Semester </a>\\n\\t\\t\\t&nbsp;&nbsp;&nbsp;&nbsp;&nbsp;&nbsp;<a style=\\'border-radius:2px;background:#0071b2; padding:5px 10px; color:#fff\\' target=_BLANK href=\\'https://imsnsit.org/imsnsit/results/NSIT Delhi_2015-16_4th Semester_results.pdf\\'>4th Semester </a>\\n\\t\\t\\t&nbsp;&nbsp;&nbsp;&nbsp;&nbsp;&nbsp;<a style=\\'border-radius:2px;background:#0071b2; padding:5px 10px; color:#fff\\' target=_BLANK href=\\'https://imsnsit.org/imsnsit/results/NSIT Delhi_2015-16_2nd semester_results.pdf\\'>2nd Semester </a></p> --></p>\\n\\t\\t\\t<p align=\\'center\\'><img src=\\'images/mlogo.png\\' alt=\\'image\\' ><br><br></p>\\n\\t\\t\\t</td></tr> \\n\\t\\t\\t \\n\\t\\t\\t<tr><td align=\\'center\\' rowspan=2><img src=\\'images/nsit.jpg\\' alt=\\'image\\' align=\\'center\\' width=300 height=250></td></tr>\\n\\t\\t\\t<tr><td><font color=\\'black size=\\'6\\'><a href=\\'index3.htm\\' style=\\'color:black;padding:5px\\' class=\\'round shadow\\'>Faculty / Staff Login&nbsp;&nbsp;&nbsp;&nbsp;&nbsp;&nbsp;</a><br><br><br><a href=\\'student.htm\\'style=\\'color:black;padding:5px\\' class=\\'round shadow\\'>Student Login&emsp;</a><br><br><br><a href=\\'alumni.htm\\' style=\\'color:black;padding:5px\\' class=\\'round shadow\\'>Alumni&nbsp;</a><br><br><br><a href=\\'studentsnapshot.php\\' target=\\'new\\' style=\\'color:black;padding:5px\\' class=\\'round shadow\\'>Parent</a><br><br><br><a href=\\'nsit_admissions.htm\\'style=\\'color:black;padding:5px\\' class=\\'round shadow\\'>NSIT Admissions&nbsp;</a><br><br><br><a href=\\'notifications.php\\' target=\\'new\\' style=\\'color:black;padding:5px\\' class=\\'round shadow\\'>Notices / Circulars&nbsp;&nbsp;&nbsp;&nbsp;</a></font></td></tr><!--https://imsnsit.org/imsnsit/elearn_alumnimgmt.php-->\\n\\t\\t\\t<tr><td colspan=2 style=\\'padding:10px\\'><br><img width=\\'670\\' height=\\'5\\' src=\\'images/blue.gif\\'></td></tr>\\n\\t\\t\\t<tr><td colspan=2 style=\\'padding:0 10px\\' >\\n\\t\\t\\t<div style=\\'float:left\\'>\\n\\t\\t\\t<!-- <span id=\"siteseal\"><script type=\"text/javascript\" src=\"https://seal.godaddy.com/getSeal?sealID=4atu8CT2hJK9P9l0vjfpSu6npyGVZtCsVIfbOtgePmpgweWXp9kqomXL6TPW\"></script></span> -->\\n\\t\\t\\t</div>\\n\\t\\t\\t<div style=\\'float:right\\'>\\n\\t\\t\\t<font face=Arial size=1><a style=\\'text-decoration:none;\\' href=\\'http://plumsoft.com\\' target=_BLANK>Plumsoft Solutions, Hyderabad.</font><br><img src=\\'images/powered-by-plumware-small.png\\' align=right border=0 style=\\'\\'></div></td></tr>\\n\\t\\t</table>\\t\\t\\t\\t\\t\\t\\t\\t\\t\\t\\t\\t\\t\\t\\t\\t\\t\\t\\t\\n\\t</body>\\t\\t\\t\\t\\t\\t\\t\\t\\t\\t\\t\\t\\t\\t\\t\\t\\t\\t\\t\\t\\t\\t\\t\\n</html>\\t\\t\\t\\t\\t\\t\\t\\t\\t\\t\\t\\t\\t\\t\\t\\t\\t\\t\\t\\t\\t\\t\\t\\t\\t'"
      ]
     },
     "execution_count": 38,
     "metadata": {},
     "output_type": "execute_result"
    }
   ],
   "source": [
    "response_content = response.content\n",
    "\n",
    "# Let's see what the response is. You will notice that is totally unreadable.\n",
    "response_content"
   ]
  },
  {
   "cell_type": "code",
   "execution_count": 39,
   "metadata": {},
   "outputs": [],
   "source": [
    "# Let's make the response a bit more readable.\n",
    "# Run the commands 'conda install bs4' and 'conda install lxml' in another anaconda prompt\n",
    "# bs4 or beautiful soup 4 is a package in python used to extract information from various data formats\n",
    "# lxml is a data format\n",
    "\n",
    "from bs4 import BeautifulSoup as soup"
   ]
  },
  {
   "cell_type": "code",
   "execution_count": 50,
   "metadata": {},
   "outputs": [
    {
     "data": {
      "text/plain": [
       "<html>\n",
       "<head>\n",
       "<style>\n",
       "\t\t\tbody{\n",
       "\t\t\t\tbackground-color: #FFFFFF;\n",
       "\t\t\t}\n",
       "\t\t\th1{\n",
       "\t\t\t\tcolor:orange;\n",
       "\t\t\t\ttext-align:center;\n",
       "\t\t\t}\n",
       "\t\t\tp{\n",
       "\t\t\t\tfont-family:'Times New Roman';\n",
       "\t\t\t\tfont-size:20px;\n",
       "\t\t\t}\n",
       "\t\t\ta { color:black; } \n",
       "\t\t</style>\n",
       "<script language=\"javascript\">\n",
       "            parent.document.getElementById('topmost').setAttribute('rows', '*,0,0');\n",
       "\t\t\t\n",
       "\t\t\tfunction DeviceScreeCheck(){\n",
       "\t\t\t\tvar screenWidth = window.screen.width;\n",
       "\t\t\t\tvar screenHeight = window.screen.height;\n",
       "\t\t\t\tif(screenWidth>1000 || screenHeight>1000){\n",
       "\t\t\t\t\tdocument.getElementById('sw').src='plum5_fw_login.php?t=sw&w=1';\n",
       "\t\t\t\t}else{\n",
       "\t\t\t\t\t// document.getElementById('bodytag').innerHTML = 'This device will not support,This application for use on Desktops/wide Tabs(>1024 resolution) only<br>';\n",
       "\t\t\t\t}\n",
       "\t\t\t\tdocument.getElementById('bodytag').style.display='';\n",
       "\t\t\t}\n",
       "\n",
       "\t\t</script>\n",
       "<link href=\"css/METAL/app.css\" rel=\"stylesheet\" type=\"text/css\"/>\n",
       "<meta content=\"noindex\" name=\"robots\"/>\n",
       "<meta content=\"noindex, nofollow\" name=\"googlebot\"/>\n",
       "</head>\n",
       "<body onload=\"DeviceScreeCheck();\">\n",
       "<iframe frameborder=\"0\" id=\"sw\" name=\"sw\" style=\"dispaly:none;height:0;\"></iframe>\n",
       "<table align=\"center\" border=\"0\">\n",
       "<tr><td colspan=\"2\"><!-- <p align='center' style='font-family:Arial;font-weight:bold; color:#bd0019'>Results of B.E. examinations held in May / June - 2016 \n",
       "\t\t\t<p align='center' style='font-weight:600;background-color:#f1f1f1;border:0px solid #c3c3c3;padding:20px;font-size:14px;font-family:Arial'>\n",
       "\t\t\tFor Results click...<br><br><a style='border-radius:2px;background:#0071b2; padding:5px 10px; color:#fff' target=_BLANK href='https://imsnsit.org/imsnsit/results/NSIT Delhi_2015-16_8th semester_results.pdf'>8th Semester </a>\n",
       "\t\t\t&nbsp;&nbsp;&nbsp;&nbsp;&nbsp;&nbsp;<a style='border-radius:2px;background:#0071b2; padding:5px 10px; color:#fff' target=_BLANK href='https://imsnsit.org/imsnsit/results/NSIT Delhi_2015-16_6th semester_results.pdf'>6th Semester </a>\n",
       "\t\t\t&nbsp;&nbsp;&nbsp;&nbsp;&nbsp;&nbsp;<a style='border-radius:2px;background:#0071b2; padding:5px 10px; color:#fff' target=_BLANK href='https://imsnsit.org/imsnsit/results/NSIT Delhi_2015-16_4th Semester_results.pdf'>4th Semester </a>\n",
       "\t\t\t&nbsp;&nbsp;&nbsp;&nbsp;&nbsp;&nbsp;<a style='border-radius:2px;background:#0071b2; padding:5px 10px; color:#fff' target=_BLANK href='https://imsnsit.org/imsnsit/results/NSIT Delhi_2015-16_2nd semester_results.pdf'>2nd Semester </a></p> -->\n",
       "<p align=\"center\"><img alt=\"image\" src=\"images/mlogo.png\"/><br/><br/></p>\n",
       "</td></tr>\n",
       "<tr><td align=\"center\" rowspan=\"2\"><img align=\"center\" alt=\"image\" height=\"250\" src=\"images/nsit.jpg\" width=\"300\"/></td></tr>\n",
       "<tr><td><font color=\"black size=\"><a class=\"round shadow\" href=\"index3.htm\" style=\"color:black;padding:5px\">Faculty / Staff Login      </a><br/><br/><br/><a class=\"round shadow\" href=\"student.htm\" style=\"color:black;padding:5px\">Student Login </a><br/><br/><br/><a class=\"round shadow\" href=\"alumni.htm\" style=\"color:black;padding:5px\">Alumni </a><br/><br/><br/><a class=\"round shadow\" href=\"studentsnapshot.php\" style=\"color:black;padding:5px\" target=\"new\">Parent</a><br/><br/><br/><a class=\"round shadow\" href=\"nsit_admissions.htm\" style=\"color:black;padding:5px\">NSIT Admissions </a><br/><br/><br/><a class=\"round shadow\" href=\"notifications.php\" style=\"color:black;padding:5px\" target=\"new\">Notices / Circulars    </a></font></td></tr><!--https://imsnsit.org/imsnsit/elearn_alumnimgmt.php-->\n",
       "<tr><td colspan=\"2\" style=\"padding:10px\"><br/><img height=\"5\" src=\"images/blue.gif\" width=\"670\"/></td></tr>\n",
       "<tr><td colspan=\"2\" style=\"padding:0 10px\">\n",
       "<div style=\"float:left\">\n",
       "<!-- <span id=\"siteseal\"><script type=\"text/javascript\" src=\"https://seal.godaddy.com/getSeal?sealID=4atu8CT2hJK9P9l0vjfpSu6npyGVZtCsVIfbOtgePmpgweWXp9kqomXL6TPW\"></script></span> -->\n",
       "</div>\n",
       "<div style=\"float:right\">\n",
       "<font face=\"Arial\" size=\"1\"><a href=\"http://plumsoft.com\" style=\"text-decoration:none;\" target=\"_BLANK\">Plumsoft Solutions, Hyderabad.</a></font><br/><img align=\"right\" border=\"0\" src=\"images/powered-by-plumware-small.png\" style=\"\"/></div></td></tr>\n",
       "</table>\n",
       "</body>\n",
       "</html> "
      ]
     },
     "execution_count": 50,
     "metadata": {},
     "output_type": "execute_result"
    }
   ],
   "source": [
    "resp_soup = soup(response_content,\"lxml\")\n",
    "\n",
    "#this \"soup\" should be a lot more beautiful now\n",
    "resp_soup"
   ]
  },
  {
   "cell_type": "markdown",
   "metadata": {},
   "source": [
    "## For more on webscraping, request a workshop"
   ]
  },
  {
   "cell_type": "code",
   "execution_count": 41,
   "metadata": {},
   "outputs": [
    {
     "name": "stdout",
     "output_type": "stream",
     "text": [
      "Help on function post in module requests.api:\n",
      "\n",
      "post(url, data=None, json=None, **kwargs)\n",
      "    Sends a POST request.\n",
      "    \n",
      "    :param url: URL for the new :class:`Request` object.\n",
      "    :param data: (optional) Dictionary (will be form-encoded), bytes, or file-like object to send in the body of the :class:`Request`.\n",
      "    :param json: (optional) json data to send in the body of the :class:`Request`.\n",
      "    :param \\*\\*kwargs: Optional arguments that ``request`` takes.\n",
      "    :return: :class:`Response <Response>` object\n",
      "    :rtype: requests.Response\n",
      "\n"
     ]
    }
   ],
   "source": [
    "help(requests.post)"
   ]
  },
  {
   "cell_type": "code",
   "execution_count": 42,
   "metadata": {},
   "outputs": [
    {
     "name": "stdout",
     "output_type": "stream",
     "text": [
      "MAXYEAR, MINYEAR, __builtins__, __cached__, __doc__, __file__, __loader__, __name__, __package__, __spec__, date, datetime, datetime_CAPI, time, timedelta, timezone, tzinfo\n"
     ]
    }
   ],
   "source": [
    "# datetime module\n",
    "import datetime\n",
    "getDir(datetime)"
   ]
  },
  {
   "cell_type": "code",
   "execution_count": 43,
   "metadata": {},
   "outputs": [
    {
     "name": "stdout",
     "output_type": "stream",
     "text": [
      "Help on class date in module datetime:\n",
      "\n",
      "class date(builtins.object)\n",
      " |  date(year, month, day) --> date object\n",
      " |  \n",
      " |  Methods defined here:\n",
      " |  \n",
      " |  __add__(self, value, /)\n",
      " |      Return self+value.\n",
      " |  \n",
      " |  __eq__(self, value, /)\n",
      " |      Return self==value.\n",
      " |  \n",
      " |  __format__(...)\n",
      " |      Formats self with strftime.\n",
      " |  \n",
      " |  __ge__(self, value, /)\n",
      " |      Return self>=value.\n",
      " |  \n",
      " |  __getattribute__(self, name, /)\n",
      " |      Return getattr(self, name).\n",
      " |  \n",
      " |  __gt__(self, value, /)\n",
      " |      Return self>value.\n",
      " |  \n",
      " |  __hash__(self, /)\n",
      " |      Return hash(self).\n",
      " |  \n",
      " |  __le__(self, value, /)\n",
      " |      Return self<=value.\n",
      " |  \n",
      " |  __lt__(self, value, /)\n",
      " |      Return self<value.\n",
      " |  \n",
      " |  __ne__(self, value, /)\n",
      " |      Return self!=value.\n",
      " |  \n",
      " |  __new__(*args, **kwargs) from builtins.type\n",
      " |      Create and return a new object.  See help(type) for accurate signature.\n",
      " |  \n",
      " |  __radd__(self, value, /)\n",
      " |      Return value+self.\n",
      " |  \n",
      " |  __reduce__(...)\n",
      " |      __reduce__() -> (cls, state)\n",
      " |  \n",
      " |  __repr__(self, /)\n",
      " |      Return repr(self).\n",
      " |  \n",
      " |  __rsub__(self, value, /)\n",
      " |      Return value-self.\n",
      " |  \n",
      " |  __str__(self, /)\n",
      " |      Return str(self).\n",
      " |  \n",
      " |  __sub__(self, value, /)\n",
      " |      Return self-value.\n",
      " |  \n",
      " |  ctime(...)\n",
      " |      Return ctime() style string.\n",
      " |  \n",
      " |  fromordinal(...) from builtins.type\n",
      " |      int -> date corresponding to a proleptic Gregorian ordinal.\n",
      " |  \n",
      " |  fromtimestamp(...) from builtins.type\n",
      " |      timestamp -> local date from a POSIX timestamp (like time.time()).\n",
      " |  \n",
      " |  isocalendar(...)\n",
      " |      Return a 3-tuple containing ISO year, week number, and weekday.\n",
      " |  \n",
      " |  isoformat(...)\n",
      " |      Return string in ISO 8601 format, YYYY-MM-DD.\n",
      " |  \n",
      " |  isoweekday(...)\n",
      " |      Return the day of the week represented by the date.\n",
      " |      Monday == 1 ... Sunday == 7\n",
      " |  \n",
      " |  replace(...)\n",
      " |      Return date with new specified fields.\n",
      " |  \n",
      " |  strftime(...)\n",
      " |      format -> strftime() style string.\n",
      " |  \n",
      " |  timetuple(...)\n",
      " |      Return time tuple, compatible with time.localtime().\n",
      " |  \n",
      " |  today(...) from builtins.type\n",
      " |      Current date or datetime:  same as self.__class__.fromtimestamp(time.time()).\n",
      " |  \n",
      " |  toordinal(...)\n",
      " |      Return proleptic Gregorian ordinal.  January 1 of year 1 is day 1.\n",
      " |  \n",
      " |  weekday(...)\n",
      " |      Return the day of the week represented by the date.\n",
      " |      Monday == 0 ... Sunday == 6\n",
      " |  \n",
      " |  ----------------------------------------------------------------------\n",
      " |  Data descriptors defined here:\n",
      " |  \n",
      " |  day\n",
      " |  \n",
      " |  month\n",
      " |  \n",
      " |  year\n",
      " |  \n",
      " |  ----------------------------------------------------------------------\n",
      " |  Data and other attributes defined here:\n",
      " |  \n",
      " |  max = datetime.date(9999, 12, 31)\n",
      " |  \n",
      " |  min = datetime.date(1, 1, 1)\n",
      " |  \n",
      " |  resolution = datetime.timedelta(1)\n",
      "\n"
     ]
    }
   ],
   "source": [
    "help(datetime.date)"
   ]
  },
  {
   "cell_type": "code",
   "execution_count": 44,
   "metadata": {},
   "outputs": [],
   "source": [
    "# Creating a date instance\n",
    "some_date = datetime.date(2018,11,17)"
   ]
  },
  {
   "cell_type": "code",
   "execution_count": 45,
   "metadata": {},
   "outputs": [
    {
     "data": {
      "text/plain": [
       "datetime.date(2018, 11, 17)"
      ]
     },
     "execution_count": 45,
     "metadata": {},
     "output_type": "execute_result"
    }
   ],
   "source": [
    "some_date"
   ]
  },
  {
   "cell_type": "markdown",
   "metadata": {},
   "source": [
    "## Generators: generators in python are used to create custom iterators. You make them by using the \"yield\" keyword in a function wherever you want to return a prepared object.\n",
    "\n",
    "### Let's see an example of a generator that iterates over a range of dates between two dates given."
   ]
  },
  {
   "cell_type": "code",
   "execution_count": 46,
   "metadata": {},
   "outputs": [],
   "source": [
    "# generators\n",
    "\n",
    "def daterange(startdate,enddate):\n",
    "    \n",
    "    # if startdate is wrongly given more than enddate, then just end the iteration\n",
    "    if enddate < startdate:\n",
    "        return\n",
    "    \n",
    "    # Here, we start iterating over the dates\n",
    "    ret_date = startdate\n",
    "    while ret_date < enddate:\n",
    "        yield ret_date\n",
    "        \n",
    "        # timedelta means \"difference in time\"\n",
    "        # datetime.timedelta(1) means a differnce of 1 day. So we are adding one day to our iterating object of type date\n",
    "        ret_date = ret_date + datetime.timedelta(1)\n",
    "    return"
   ]
  },
  {
   "cell_type": "code",
   "execution_count": 48,
   "metadata": {},
   "outputs": [
    {
     "name": "stdout",
     "output_type": "stream",
     "text": [
      "2018-11-17\n",
      "2018-11-18\n",
      "2018-11-19\n",
      "2018-11-20\n",
      "2018-11-21\n",
      "2018-11-22\n",
      "2018-11-23\n",
      "2018-11-24\n",
      "2018-11-25\n",
      "2018-11-26\n",
      "2018-11-27\n",
      "2018-11-28\n",
      "2018-11-29\n",
      "2018-11-30\n",
      "2018-12-01\n",
      "2018-12-02\n",
      "2018-12-03\n",
      "2018-12-04\n",
      "2018-12-05\n",
      "2018-12-06\n",
      "2018-12-07\n",
      "2018-12-08\n",
      "2018-12-09\n",
      "2018-12-10\n",
      "2018-12-11\n",
      "2018-12-12\n",
      "2018-12-13\n",
      "2018-12-14\n",
      "2018-12-15\n",
      "2018-12-16\n",
      "2018-12-17\n",
      "2018-12-18\n",
      "2018-12-19\n",
      "2018-12-20\n",
      "2018-12-21\n",
      "2018-12-22\n",
      "2018-12-23\n",
      "2018-12-24\n",
      "2018-12-25\n",
      "2018-12-26\n",
      "2018-12-27\n",
      "2018-12-28\n",
      "2018-12-29\n",
      "2018-12-30\n",
      "2018-12-31\n"
     ]
    }
   ],
   "source": [
    "future_date = datetime.date(2019,1,1)\n",
    "\n",
    "for d in daterange(some_date,future_date):\n",
    "    print(d)"
   ]
  },
  {
   "cell_type": "code",
   "execution_count": 49,
   "metadata": {},
   "outputs": [
    {
     "name": "stdout",
     "output_type": "stream",
     "text": [
      "Tuesday, January\n"
     ]
    }
   ],
   "source": [
    "# formatting date to string: strftime is a function used for this\n",
    "# You can find more about placeholders for formatting strings on:\n",
    "# https://docs.python.org/3/library/datetime.html\n",
    "\n",
    "# %A stands for Weekday name and %B stands for month name\n",
    "print(datetime.datetime.strftime(future_date,\"%A, %B\"))"
   ]
  },
  {
   "cell_type": "code",
   "execution_count": 51,
   "metadata": {},
   "outputs": [
    {
     "name": "stdout",
     "output_type": "stream",
     "text": [
      "17 November, Saturday\n",
      "18 November, Sunday\n",
      "19 November, Monday\n",
      "20 November, Tuesday\n",
      "21 November, Wednesday\n",
      "22 November, Thursday\n",
      "23 November, Friday\n",
      "24 November, Saturday\n",
      "25 November, Sunday\n",
      "26 November, Monday\n",
      "27 November, Tuesday\n",
      "28 November, Wednesday\n",
      "29 November, Thursday\n",
      "30 November, Friday\n",
      "01 December, Saturday\n",
      "02 December, Sunday\n",
      "03 December, Monday\n",
      "04 December, Tuesday\n",
      "05 December, Wednesday\n",
      "06 December, Thursday\n",
      "07 December, Friday\n",
      "08 December, Saturday\n",
      "09 December, Sunday\n",
      "10 December, Monday\n",
      "11 December, Tuesday\n",
      "12 December, Wednesday\n",
      "13 December, Thursday\n",
      "14 December, Friday\n",
      "15 December, Saturday\n",
      "16 December, Sunday\n",
      "17 December, Monday\n",
      "18 December, Tuesday\n",
      "19 December, Wednesday\n",
      "20 December, Thursday\n",
      "21 December, Friday\n",
      "22 December, Saturday\n",
      "23 December, Sunday\n",
      "24 December, Monday\n",
      "25 December, Tuesday\n",
      "26 December, Wednesday\n",
      "27 December, Thursday\n",
      "28 December, Friday\n",
      "29 December, Saturday\n",
      "30 December, Sunday\n",
      "31 December, Monday\n"
     ]
    }
   ],
   "source": [
    "# Now let's combine our knowledge to get something amazing: Printing all dates from 17 Nov to end of this year:\n",
    "for d in daterange(some_date,future_date):\n",
    "    print(datetime.datetime.strftime(d,\"%d %B, %A\"))"
   ]
  }
 ],
 "metadata": {
  "kernelspec": {
   "display_name": "Python 3",
   "language": "python",
   "name": "python3"
  },
  "language_info": {
   "codemirror_mode": {
    "name": "ipython",
    "version": 3
   },
   "file_extension": ".py",
   "mimetype": "text/x-python",
   "name": "python",
   "nbconvert_exporter": "python",
   "pygments_lexer": "ipython3",
   "version": "3.6.4"
  }
 },
 "nbformat": 4,
 "nbformat_minor": 2
}
