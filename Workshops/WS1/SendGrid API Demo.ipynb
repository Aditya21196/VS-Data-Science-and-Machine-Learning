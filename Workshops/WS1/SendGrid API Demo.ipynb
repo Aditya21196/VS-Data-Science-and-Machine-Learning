{
 "cells": [
  {
   "cell_type": "markdown",
   "metadata": {},
   "source": [
    "## Small and simple usecase of file reading."
   ]
  },
  {
   "cell_type": "code",
   "execution_count": 1,
   "metadata": {},
   "outputs": [
    {
     "name": "stdout",
     "output_type": "stream",
     "text": [
      "I wrote something in this file and this is for testing.\n"
     ]
    }
   ],
   "source": [
    "# I wrote something in a sample txt file in this directory and I will read it into python\n",
    "with open('sample.txt','r') as f:\n",
    "    sample_text = f.read()\n",
    "    print(sample_text)"
   ]
  },
  {
   "cell_type": "markdown",
   "metadata": {},
   "source": [
    "### So that concludes the short intro to reading txt files. It isn't quite that important w.r.t the workshop so let's get on with things."
   ]
  },
  {
   "cell_type": "code",
   "execution_count": 2,
   "metadata": {},
   "outputs": [],
   "source": [
    "# load api key \n",
    "#I can't show my key openly so this is why I have stored it in a file from which I read it straight in a variable\n",
    "with open('apikey.txt','r') as f:\n",
    "    api_key = f.read()"
   ]
  },
  {
   "cell_type": "markdown",
   "metadata": {},
   "source": [
    "## Demonstration of Sendgrid API. This is code copied from API docs and all it does is use the API key to send a email.\n",
    "\n",
    "### P.S: If you are trying out this code, change the receiver of the email to your own email handle and obviously: add in your own api key. You will have to obtain one by signing up on send grid"
   ]
  },
  {
   "cell_type": "code",
   "execution_count": 3,
   "metadata": {},
   "outputs": [],
   "source": [
    "import sendgrid\n",
    "from sendgrid.helpers.mail import *\n",
    "\n",
    "sg = sendgrid.SendGridAPIClient(apikey=api_key)\n",
    "from_email = Email(\"aditya21197@gmail.com\")\n",
    "to_email = Email(\"aditya21196@gmail.com\")\n",
    "subject = \"testing 2\"\n",
    "content = Content(\"text/plain\", \"The link is: https://www.imsnsit.org/imsnsit \")\n",
    "mail = Mail(from_email, subject, to_email, content)\n",
    "response = sg.client.mail.send.post(request_body=mail.get())"
   ]
  },
  {
   "cell_type": "code",
   "execution_count": 8,
   "metadata": {},
   "outputs": [
    {
     "data": {
      "text/plain": [
       "202"
      ]
     },
     "execution_count": 8,
     "metadata": {},
     "output_type": "execute_result"
    }
   ],
   "source": [
    "# 202 means accepted\n",
    "response.status_code"
   ]
  },
  {
   "cell_type": "code",
   "execution_count": null,
   "metadata": {},
   "outputs": [],
   "source": []
  }
 ],
 "metadata": {
  "kernelspec": {
   "display_name": "Python 3",
   "language": "python",
   "name": "python3"
  },
  "language_info": {
   "codemirror_mode": {
    "name": "ipython",
    "version": 3
   },
   "file_extension": ".py",
   "mimetype": "text/x-python",
   "name": "python",
   "nbconvert_exporter": "python",
   "pygments_lexer": "ipython3",
   "version": "3.6.4"
  }
 },
 "nbformat": 4,
 "nbformat_minor": 2
}
