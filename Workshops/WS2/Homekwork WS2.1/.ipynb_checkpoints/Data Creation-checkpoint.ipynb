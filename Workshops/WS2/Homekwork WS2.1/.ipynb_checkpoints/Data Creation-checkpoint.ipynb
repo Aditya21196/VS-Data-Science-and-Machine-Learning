{
 "cells": [
  {
   "cell_type": "markdown",
   "metadata": {},
   "source": [
    "## Go through this notebook only after having attempted the assignment."
   ]
  },
  {
   "cell_type": "code",
   "execution_count": 4,
   "metadata": {},
   "outputs": [],
   "source": [
    "import numpy as np\n",
    "import pandas as pd\n",
    "%matplotlib inline\n",
    "import matplotlib.pyplot as plt\n",
    "import random"
   ]
  },
  {
   "cell_type": "code",
   "execution_count": 14,
   "metadata": {},
   "outputs": [
    {
     "data": {
      "text/plain": [
       "<matplotlib.collections.PathCollection at 0x20a7be72160>"
      ]
     },
     "execution_count": 14,
     "metadata": {},
     "output_type": "execute_result"
    },
    {
     "data": {
      "image/png": "[encoded data removed]",
      "text/plain": [
       "<Figure size 432x288 with 1 Axes>"
      ]
     },
     "metadata": {},
     "output_type": "display_data"
    }
   ],
   "source": [
    "x = np.linspace(-20,20,100)\n",
    "y = random.randint(-10,10) * (x**2) + random.randint(-10,10) * x + random.randint(-10,10)\n",
    "y += 300 * np.random.randn(100)\n",
    "\n",
    "plt.scatter(x,y)"
   ]
  },
  {
   "cell_type": "code",
   "execution_count": 25,
   "metadata": {},
   "outputs": [],
   "source": [
    "import pickle\n",
    "pickle_out = open(\"x.pickle\",\"wb\")\n",
    "pickle.dump(x, pickle_out)\n",
    "pickle_out.close()\n",
    "\n",
    "\n",
    "pickle_out = open(\"ypolydeg2.pickle\",\"wb\")\n",
    "pickle.dump(y, pickle_out)\n",
    "pickle_out.close()"
   ]
  },
  {
   "cell_type": "code",
   "execution_count": 21,
   "metadata": {},
   "outputs": [],
   "source": [
    "pickle_in = open(\"x.pickle\",\"rb\")\n",
    "xLoad = pickle.load(pickle_in)\n",
    "pickle_in.close()"
   ]
  },
  {
   "cell_type": "code",
   "execution_count": 22,
   "metadata": {},
   "outputs": [
    {
     "data": {
      "text/plain": [
       "array([-20.        , -19.5959596 , -19.19191919, -18.78787879,\n",
       "       -18.38383838, -17.97979798, -17.57575758, -17.17171717,\n",
       "       -16.76767677, -16.36363636, -15.95959596, -15.55555556,\n",
       "       -15.15151515, -14.74747475, -14.34343434, -13.93939394,\n",
       "       -13.53535354, -13.13131313, -12.72727273, -12.32323232,\n",
       "       -11.91919192, -11.51515152, -11.11111111, -10.70707071,\n",
       "       -10.3030303 ,  -9.8989899 ,  -9.49494949,  -9.09090909,\n",
       "        -8.68686869,  -8.28282828,  -7.87878788,  -7.47474747,\n",
       "        -7.07070707,  -6.66666667,  -6.26262626,  -5.85858586,\n",
       "        -5.45454545,  -5.05050505,  -4.64646465,  -4.24242424,\n",
       "        -3.83838384,  -3.43434343,  -3.03030303,  -2.62626263,\n",
       "        -2.22222222,  -1.81818182,  -1.41414141,  -1.01010101,\n",
       "        -0.60606061,  -0.2020202 ,   0.2020202 ,   0.60606061,\n",
       "         1.01010101,   1.41414141,   1.81818182,   2.22222222,\n",
       "         2.62626263,   3.03030303,   3.43434343,   3.83838384,\n",
       "         4.24242424,   4.64646465,   5.05050505,   5.45454545,\n",
       "         5.85858586,   6.26262626,   6.66666667,   7.07070707,\n",
       "         7.47474747,   7.87878788,   8.28282828,   8.68686869,\n",
       "         9.09090909,   9.49494949,   9.8989899 ,  10.3030303 ,\n",
       "        10.70707071,  11.11111111,  11.51515152,  11.91919192,\n",
       "        12.32323232,  12.72727273,  13.13131313,  13.53535354,\n",
       "        13.93939394,  14.34343434,  14.74747475,  15.15151515,\n",
       "        15.55555556,  15.95959596,  16.36363636,  16.76767677,\n",
       "        17.17171717,  17.57575758,  17.97979798,  18.38383838,\n",
       "        18.78787879,  19.19191919,  19.5959596 ,  20.        ])"
      ]
     },
     "execution_count": 22,
     "metadata": {},
     "output_type": "execute_result"
    }
   ],
   "source": [
    "xLoad"
   ]
  },
  {
   "cell_type": "code",
   "execution_count": 26,
   "metadata": {},
   "outputs": [],
   "source": [
    "pickle_in = open(\"ypolydeg2.pickle\",\"rb\")\n",
    "yLoad = pickle.load(pickle_in)\n",
    "pickle_in.close()"
   ]
  },
  {
   "cell_type": "code",
   "execution_count": 27,
   "metadata": {},
   "outputs": [
    {
     "data": {
      "text/plain": [
       "array([ -611.95143589, -1053.93860255, -1233.18742661,  -548.56120104,\n",
       "        -683.92302912,  -351.42745483,  -926.53920164,  -804.73036902,\n",
       "        -679.63256532,   -57.98526101,  -533.44284368,  -247.69147119,\n",
       "        -475.09256713,   -17.33182753, -1151.25182328,  -582.45441835,\n",
       "        -900.22338972,  -401.19025868,  -473.83480912, -1070.35959132,\n",
       "        -135.87032219,  -849.41143164,  -522.91907248,  -697.46275883,\n",
       "        -160.81998708,   177.769915  ,  -590.03908313,   119.60526723,\n",
       "        -352.51668974,    75.14458519,  -306.10006795,   110.66866191,\n",
       "         160.16094131,   350.13483779,  -207.86430858,   -98.62293175,\n",
       "        -558.80715148,  -215.69252098,    15.33123212,  -479.99462627,\n",
       "           1.34810758,   363.0138902 ,  -426.27267887,   280.54497437,\n",
       "        -181.68424799,   180.44489816,  -373.31757121,  -184.33548814,\n",
       "        -283.89970146,   510.2122819 ,   -79.98399286,   369.84824001,\n",
       "         -23.22263041,   524.89294048,  -164.52410062,   346.05586104,\n",
       "         430.00162999,  -219.48111047,  -501.12752846,   198.21505188,\n",
       "        -277.60538705,   413.58349172,  -421.54790253,  -595.22049421,\n",
       "        -305.00117622,    32.76946986,    16.75698971,  -162.16847113,\n",
       "        -140.14657379,  -206.92408171,   145.47138666,  -234.15804117,\n",
       "          34.06545235,    31.37610556,  -782.89339076,  -246.51986001,\n",
       "          63.96665372,  -189.79663961,   -51.48120578,  -107.18247065,\n",
       "         101.05604576,  -580.35595379,  -144.24762707,  -634.86775609,\n",
       "        -254.09999189,  -482.06838249,   -50.96208331,  -129.8589794 ,\n",
       "        -804.18595159,  -442.46225748, -1071.34768681,  -238.00339735,\n",
       "        -692.80189545,  -478.68799908,  -738.9689605 ,  -334.5182477 ,\n",
       "        -761.49887407,  -955.62340608,  -855.73166464,  -894.78687024])"
      ]
     },
     "execution_count": 27,
     "metadata": {},
     "output_type": "execute_result"
    }
   ],
   "source": [
    "yLoad"
   ]
  },
  {
   "cell_type": "code",
   "execution_count": 28,
   "metadata": {},
   "outputs": [],
   "source": [
    "def sigmoid(x):\n",
    "    return 1/(1+np.exp(-x))"
   ]
  },
  {
   "cell_type": "code",
   "execution_count": 31,
   "metadata": {},
   "outputs": [
    {
     "data": {
      "text/plain": [
       "0.5"
      ]
     },
     "execution_count": 31,
     "metadata": {},
     "output_type": "execute_result"
    }
   ],
   "source": [
    "sigmoid(0)"
   ]
  },
  {
   "cell_type": "code",
   "execution_count": 32,
   "metadata": {},
   "outputs": [
    {
     "data": {
      "text/plain": [
       "array([2.06115362e-09, 3.08732876e-09, 4.62440004e-09, 6.92672447e-09,\n",
       "       1.03752944e-08, 1.55407847e-08, 2.32779890e-08, 3.48672722e-08,\n",
       "       5.22264472e-08, 7.82281373e-08, 1.17175143e-07, 1.75512472e-07,\n",
       "       2.62893872e-07, 3.93779338e-07, 5.89827961e-07, 8.83482085e-07,\n",
       "       1.32333584e-06, 1.98217642e-06, 2.96902870e-06, 4.44719601e-06,\n",
       "       6.66128213e-06, 9.97766470e-06, 1.49451152e-05, 2.23855904e-05,\n",
       "       3.35302067e-05, 5.02228667e-05, 7.52251664e-05, 1.12672884e-04,\n",
       "       1.68759242e-04, 2.52757236e-04, 3.78548446e-04, 5.66907423e-04,\n",
       "       8.48910885e-04, 1.27101626e-03, 1.90260614e-03, 2.84714919e-03,\n",
       "       4.25860705e-03, 6.36532037e-03, 9.50426753e-03, 1.41690589e-02,\n",
       "       2.10746635e-02, 3.12392175e-02, 4.60755062e-02, 6.74672091e-02,\n",
       "       9.77725999e-02, 1.39652183e-01, 1.95581668e-01, 2.66960083e-01,\n",
       "       3.52958350e-01, 4.49666020e-01, 5.50333980e-01, 6.47041650e-01,\n",
       "       7.33039917e-01, 8.04418332e-01, 8.60347817e-01, 9.02227400e-01,\n",
       "       9.32532791e-01, 9.53924494e-01, 9.68760783e-01, 9.78925337e-01,\n",
       "       9.85830941e-01, 9.90495732e-01, 9.93634680e-01, 9.95741393e-01,\n",
       "       9.97152851e-01, 9.98097394e-01, 9.98728984e-01, 9.99151089e-01,\n",
       "       9.99433093e-01, 9.99621452e-01, 9.99747243e-01, 9.99831241e-01,\n",
       "       9.99887327e-01, 9.99924775e-01, 9.99949777e-01, 9.99966470e-01,\n",
       "       9.99977614e-01, 9.99985055e-01, 9.99990022e-01, 9.99993339e-01,\n",
       "       9.99995553e-01, 9.99997031e-01, 9.99998018e-01, 9.99998677e-01,\n",
       "       9.99999117e-01, 9.99999410e-01, 9.99999606e-01, 9.99999737e-01,\n",
       "       9.99999824e-01, 9.99999883e-01, 9.99999922e-01, 9.99999948e-01,\n",
       "       9.99999965e-01, 9.99999977e-01, 9.99999984e-01, 9.99999990e-01,\n",
       "       9.99999993e-01, 9.99999995e-01, 9.99999997e-01, 9.99999998e-01])"
      ]
     },
     "execution_count": 32,
     "metadata": {},
     "output_type": "execute_result"
    }
   ],
   "source": [
    "sigmoid(x)"
   ]
  },
  {
   "cell_type": "code",
   "execution_count": 56,
   "metadata": {},
   "outputs": [],
   "source": [
    "xSig = np.linspace(-100,100,1000)"
   ]
  },
  {
   "cell_type": "code",
   "execution_count": 61,
   "metadata": {},
   "outputs": [
    {
     "data": {
      "text/plain": [
       "<matplotlib.collections.PathCollection at 0x20a7c74bd68>"
      ]
     },
     "execution_count": 61,
     "metadata": {},
     "output_type": "execute_result"
    },
    {
     "data": {
      "image/png": "[encoded data removed]",
      "text/plain": [
       "<Figure size 432x288 with 1 Axes>"
      ]
     },
     "metadata": {},
     "output_type": "display_data"
    }
   ],
   "source": [
    "ySig = sigmoid(random.randint(-10,10) * xSig + random.randint(-10,10)) + 0.05 * np.random.randn(1000)\n",
    "\n",
    "plt.scatter(xSig,ySig)"
   ]
  },
  {
   "cell_type": "code",
   "execution_count": 62,
   "metadata": {},
   "outputs": [],
   "source": [
    "pickle_out = open(\"xSig.pickle\",\"wb\")\n",
    "pickle.dump(x, pickle_out)\n",
    "pickle_out.close()\n",
    "\n",
    "\n",
    "pickle_out = open(\"ySig.pickle\",\"wb\")\n",
    "pickle.dump(y, pickle_out)\n",
    "pickle_out.close()"
   ]
  }
 ],
 "metadata": {
  "kernelspec": {
   "display_name": "Python 3",
   "language": "python",
   "name": "python3"
  },
  "language_info": {
   "codemirror_mode": {
    "name": "ipython",
    "version": 3
   },
   "file_extension": ".py",
   "mimetype": "text/x-python",
   "name": "python",
   "nbconvert_exporter": "python",
   "pygments_lexer": "ipython3",
   "version": "3.6.4"
  }
 },
 "nbformat": 4,
 "nbformat_minor": 2
}
